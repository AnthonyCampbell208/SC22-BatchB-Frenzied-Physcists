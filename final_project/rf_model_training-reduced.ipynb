{
 "cells": [
  {
   "cell_type": "code",
   "execution_count": 3,
   "metadata": {
    "collapsed": false
   },
   "outputs": [
   ],
   "source": [
    "import pandas as pd\n",
    "import plotly.express as px\n",
    "import matplotlib.pyplot as plt\n",
    "import numpy as np\n",
    "import plotly.graph_objects as go\n",
    "from plotly.subplots import make_subplots\n",
    "import seaborn as sns\n",
    "import plotly.graph_objects as go\n",
    "from plotly.subplots import make_subplots\n",
    "from sklearn.metrics import confusion_matrix\n",
    "import seaborn as sns\n",
    "from sklearn.model_selection import train_test_split\n",
    "import sklearn\n",
    "from sklearn import tree\n",
    "from matplotlib import pyplot as plt\n",
    "from sklearn.metrics import classification_report\n",
    "from sklearn.model_selection import GridSearchCV\n",
    "import pickle\n",
    "import json\n",
    "\n",
    "from sklearn.neighbors import KNeighborsClassifier as KNN\n",
    "from sklearn.metrics import confusion_matrix\n",
    "from sklearn.svm import SVC\n",
    "from sklearn.tree import DecisionTreeClassifier\n",
    "from sklearn.ensemble import AdaBoostClassifier as ADC\n",
    "from sklearn.ensemble import RandomForestClassifier\n",
    "from sklearn.neural_network import MLPClassifier\n",
    "from sklearn.naive_bayes import CategoricalNB\n",
    "from sklearn.linear_model import LogisticRegression as LR\n",
    "from sklearn.linear_model import SGDClassifier\n",
    "from sklearn.neighbors import BallTree\n",
    "from sklearn.metrics import accuracy_score, precision_score, recall_score, f1_score\n",
    "from sklearn.model_selection import GridSearchCV as GSearch\n",
    "\n",
    "from imblearn.under_sampling import RandomUnderSampler "
   ]
  },
  {
   "cell_type": "code",
   "execution_count": 4,
   "metadata": {
    "collapsed": false
   },
   "outputs": [
   ],
   "source": [
    "airline_df = pd.read_csv('./data/airline_data.csv')\n",
    "airline_df.dropna(inplace=True)\n",
    "airline_df.reset_index(drop=True, inplace=True)\n",
    "airline_df = pd.get_dummies(airline_df, prefix = None, prefix_sep = '_', dummy_na = False, columns = ['satisfaction','Gender', 'Customer Type', 'Type of Travel', 'Class'], sparse = False, drop_first = False, dtype = None)\n",
    "columns_drop = ['id', 'Unnamed: 0.1', 'Unnamed: 0', 'satisfaction_neutral or dissatisfied']\n",
    "airline_df.drop(columns_drop, axis=1, inplace = True)\n"
   ]
  },
  {
   "cell_type": "code",
   "execution_count": 3,
   "metadata": {
    "collapsed": false
   },
   "outputs": [
    {
     "data": {
      "text/plain": [
       "Age                                  0\n",
       "Flight Distance                      0\n",
       "Inflight wifi service                0\n",
       "Departure/Arrival time convenient    0\n",
       "Ease of Online booking               0\n",
       "Gate location                        0\n",
       "Food and drink                       0\n",
       "Online boarding                      0\n",
       "Seat comfort                         0\n",
       "Inflight entertainment               0\n",
       "On-board service                     0\n",
       "Leg room service                     0\n",
       "Baggage handling                     0\n",
       "Checkin service                      0\n",
       "Inflight service                     0\n",
       "Cleanliness                          0\n",
       "Departure Delay in Minutes           0\n",
       "Arrival Delay in Minutes             0\n",
       "satisfaction_satisfied               0\n",
       "Gender_Female                        0\n",
       "Gender_Male                          0\n",
       "Customer Type_Loyal Customer         0\n",
       "Customer Type_disloyal Customer      0\n",
       "Type of Travel_Business travel       0\n",
       "Type of Travel_Personal Travel       0\n",
       "Class_Business                       0\n",
       "Class_Eco                            0\n",
       "Class_Eco Plus                       0\n",
       "dtype: int64"
      ]
     },
     "execution_count": 3,
     "metadata": {
     },
     "output_type": "execute_result"
    }
   ],
   "source": [
    "airline_df.isnull().sum()"
   ]
  },
  {
   "cell_type": "code",
   "execution_count": 4,
   "metadata": {
    "collapsed": false
   },
   "outputs": [
    {
     "data": {
      "text/plain": [
       "Index(['Age', 'Flight Distance', 'Inflight wifi service',\n",
       "       'Departure/Arrival time convenient', 'Ease of Online booking',\n",
       "       'Gate location', 'Food and drink', 'Online boarding', 'Seat comfort',\n",
       "       'Inflight entertainment', 'On-board service', 'Leg room service',\n",
       "       'Baggage handling', 'Checkin service', 'Inflight service',\n",
       "       'Cleanliness', 'Departure Delay in Minutes', 'Arrival Delay in Minutes',\n",
       "       'satisfaction_satisfied', 'Gender_Female', 'Gender_Male',\n",
       "       'Customer Type_Loyal Customer', 'Customer Type_disloyal Customer',\n",
       "       'Type of Travel_Business travel', 'Type of Travel_Personal Travel',\n",
       "       'Class_Business', 'Class_Eco', 'Class_Eco Plus'],\n",
       "      dtype='object')"
      ]
     },
     "execution_count": 4,
     "metadata": {
     },
     "output_type": "execute_result"
    }
   ],
   "source": [
    "airline_df.columns"
   ]
  },
  {
   "cell_type": "code",
   "execution_count": 5,
   "metadata": {
    "collapsed": false
   },
   "outputs": [
    {
     "data": {
      "text/html": [
       "<div>\n",
       "<style scoped>\n",
       "    .dataframe tbody tr th:only-of-type {\n",
       "        vertical-align: middle;\n",
       "    }\n",
       "\n",
       "    .dataframe tbody tr th {\n",
       "        vertical-align: top;\n",
       "    }\n",
       "\n",
       "    .dataframe thead th {\n",
       "        text-align: right;\n",
       "    }\n",
       "</style>\n",
       "<table border=\"1\" class=\"dataframe\">\n",
       "  <thead>\n",
       "    <tr style=\"text-align: right;\">\n",
       "      <th></th>\n",
       "      <th>Age</th>\n",
       "      <th>Flight Distance</th>\n",
       "      <th>Inflight wifi service</th>\n",
       "      <th>Departure/Arrival time convenient</th>\n",
       "      <th>Ease of Online booking</th>\n",
       "      <th>Gate location</th>\n",
       "      <th>Food and drink</th>\n",
       "      <th>Online boarding</th>\n",
       "      <th>Seat comfort</th>\n",
       "      <th>Inflight entertainment</th>\n",
       "      <th>...</th>\n",
       "      <th>satisfaction_satisfied</th>\n",
       "      <th>Gender_Female</th>\n",
       "      <th>Gender_Male</th>\n",
       "      <th>Customer Type_Loyal Customer</th>\n",
       "      <th>Customer Type_disloyal Customer</th>\n",
       "      <th>Type of Travel_Business travel</th>\n",
       "      <th>Type of Travel_Personal Travel</th>\n",
       "      <th>Class_Business</th>\n",
       "      <th>Class_Eco</th>\n",
       "      <th>Class_Eco Plus</th>\n",
       "    </tr>\n",
       "  </thead>\n",
       "  <tbody>\n",
       "    <tr>\n",
       "      <th>0</th>\n",
       "      <td>13</td>\n",
       "      <td>460</td>\n",
       "      <td>3</td>\n",
       "      <td>4</td>\n",
       "      <td>3</td>\n",
       "      <td>1</td>\n",
       "      <td>5</td>\n",
       "      <td>3</td>\n",
       "      <td>5</td>\n",
       "      <td>5</td>\n",
       "      <td>...</td>\n",
       "      <td>0</td>\n",
       "      <td>0</td>\n",
       "      <td>1</td>\n",
       "      <td>1</td>\n",
       "      <td>0</td>\n",
       "      <td>0</td>\n",
       "      <td>1</td>\n",
       "      <td>0</td>\n",
       "      <td>0</td>\n",
       "      <td>1</td>\n",
       "    </tr>\n",
       "    <tr>\n",
       "      <th>1</th>\n",
       "      <td>25</td>\n",
       "      <td>235</td>\n",
       "      <td>3</td>\n",
       "      <td>2</td>\n",
       "      <td>3</td>\n",
       "      <td>3</td>\n",
       "      <td>1</td>\n",
       "      <td>3</td>\n",
       "      <td>1</td>\n",
       "      <td>1</td>\n",
       "      <td>...</td>\n",
       "      <td>0</td>\n",
       "      <td>0</td>\n",
       "      <td>1</td>\n",
       "      <td>0</td>\n",
       "      <td>1</td>\n",
       "      <td>1</td>\n",
       "      <td>0</td>\n",
       "      <td>1</td>\n",
       "      <td>0</td>\n",
       "      <td>0</td>\n",
       "    </tr>\n",
       "    <tr>\n",
       "      <th>2</th>\n",
       "      <td>26</td>\n",
       "      <td>1142</td>\n",
       "      <td>2</td>\n",
       "      <td>2</td>\n",
       "      <td>2</td>\n",
       "      <td>2</td>\n",
       "      <td>5</td>\n",
       "      <td>5</td>\n",
       "      <td>5</td>\n",
       "      <td>5</td>\n",
       "      <td>...</td>\n",
       "      <td>1</td>\n",
       "      <td>1</td>\n",
       "      <td>0</td>\n",
       "      <td>1</td>\n",
       "      <td>0</td>\n",
       "      <td>1</td>\n",
       "      <td>0</td>\n",
       "      <td>1</td>\n",
       "      <td>0</td>\n",
       "      <td>0</td>\n",
       "    </tr>\n",
       "    <tr>\n",
       "      <th>3</th>\n",
       "      <td>25</td>\n",
       "      <td>562</td>\n",
       "      <td>2</td>\n",
       "      <td>5</td>\n",
       "      <td>5</td>\n",
       "      <td>5</td>\n",
       "      <td>2</td>\n",
       "      <td>2</td>\n",
       "      <td>2</td>\n",
       "      <td>2</td>\n",
       "      <td>...</td>\n",
       "      <td>0</td>\n",
       "      <td>1</td>\n",
       "      <td>0</td>\n",
       "      <td>1</td>\n",
       "      <td>0</td>\n",
       "      <td>1</td>\n",
       "      <td>0</td>\n",
       "      <td>1</td>\n",
       "      <td>0</td>\n",
       "      <td>0</td>\n",
       "    </tr>\n",
       "    <tr>\n",
       "      <th>4</th>\n",
       "      <td>61</td>\n",
       "      <td>214</td>\n",
       "      <td>3</td>\n",
       "      <td>3</td>\n",
       "      <td>3</td>\n",
       "      <td>3</td>\n",
       "      <td>4</td>\n",
       "      <td>5</td>\n",
       "      <td>5</td>\n",
       "      <td>3</td>\n",
       "      <td>...</td>\n",
       "      <td>1</td>\n",
       "      <td>0</td>\n",
       "      <td>1</td>\n",
       "      <td>1</td>\n",
       "      <td>0</td>\n",
       "      <td>1</td>\n",
       "      <td>0</td>\n",
       "      <td>1</td>\n",
       "      <td>0</td>\n",
       "      <td>0</td>\n",
       "    </tr>\n",
       "  </tbody>\n",
       "</table>\n",
       "<p>5 rows × 28 columns</p>\n",
       "</div>"
      ],
      "text/plain": [
       "   Age  Flight Distance  Inflight wifi service  \\\n",
       "0   13              460                      3   \n",
       "1   25              235                      3   \n",
       "2   26             1142                      2   \n",
       "3   25              562                      2   \n",
       "4   61              214                      3   \n",
       "\n",
       "   Departure/Arrival time convenient  Ease of Online booking  Gate location  \\\n",
       "0                                  4                       3              1   \n",
       "1                                  2                       3              3   \n",
       "2                                  2                       2              2   \n",
       "3                                  5                       5              5   \n",
       "4                                  3                       3              3   \n",
       "\n",
       "   Food and drink  Online boarding  Seat comfort  Inflight entertainment  ...  \\\n",
       "0               5                3             5                       5  ...   \n",
       "1               1                3             1                       1  ...   \n",
       "2               5                5             5                       5  ...   \n",
       "3               2                2             2                       2  ...   \n",
       "4               4                5             5                       3  ...   \n",
       "\n",
       "   satisfaction_satisfied  Gender_Female  Gender_Male  \\\n",
       "0                       0              0            1   \n",
       "1                       0              0            1   \n",
       "2                       1              1            0   \n",
       "3                       0              1            0   \n",
       "4                       1              0            1   \n",
       "\n",
       "   Customer Type_Loyal Customer  Customer Type_disloyal Customer  \\\n",
       "0                             1                                0   \n",
       "1                             0                                1   \n",
       "2                             1                                0   \n",
       "3                             1                                0   \n",
       "4                             1                                0   \n",
       "\n",
       "   Type of Travel_Business travel  Type of Travel_Personal Travel  \\\n",
       "0                               0                               1   \n",
       "1                               1                               0   \n",
       "2                               1                               0   \n",
       "3                               1                               0   \n",
       "4                               1                               0   \n",
       "\n",
       "   Class_Business  Class_Eco  Class_Eco Plus  \n",
       "0               0          0               1  \n",
       "1               1          0               0  \n",
       "2               1          0               0  \n",
       "3               1          0               0  \n",
       "4               1          0               0  \n",
       "\n",
       "[5 rows x 28 columns]"
      ]
     },
     "execution_count": 5,
     "metadata": {
     },
     "output_type": "execute_result"
    }
   ],
   "source": [
    "airline_df.head()"
   ]
  },
  {
   "cell_type": "code",
   "execution_count": 5,
   "metadata": {
    "collapsed": false
   },
   "outputs": [
   ],
   "source": [
    "\n",
    "airline_df.dropna(inplace=True)\n",
    "airline_df.reset_index(drop=True, inplace=True)"
   ]
  },
  {
   "cell_type": "code",
   "execution_count": 6,
   "metadata": {
    "collapsed": false
   },
   "outputs": [
    {
     "data": {
      "text/plain": [
       "(12949, 28)"
      ]
     },
     "execution_count": 6,
     "metadata": {
     },
     "output_type": "execute_result"
    }
   ],
   "source": [
    "reduced_df = airline_df.sample(frac=0.10, random_state=42)\n",
    "reduced_df.shape"
   ]
  },
  {
   "cell_type": "code",
   "execution_count": 7,
   "metadata": {
    "collapsed": false
   },
   "outputs": [
    {
     "data": {
      "text/plain": [
       "0    7323\n",
       "1    5626\n",
       "Name: satisfaction_satisfied, dtype: int64"
      ]
     },
     "execution_count": 7,
     "metadata": {
     },
     "output_type": "execute_result"
    }
   ],
   "source": [
    "reduced_df.satisfaction_satisfied.value_counts()"
   ]
  },
  {
   "cell_type": "code",
   "execution_count": 8,
   "metadata": {
    "collapsed": false
   },
   "outputs": [
   ],
   "source": [
    "target = reduced_df['satisfaction_satisfied']"
   ]
  },
  {
   "cell_type": "code",
   "execution_count": 9,
   "metadata": {
    "collapsed": false
   },
   "outputs": [
   ],
   "source": [
    "input_columns = reduced_df.loc[:, airline_df.columns != \"satisfaction_satisfied\"]"
   ]
  },
  {
   "cell_type": "code",
   "execution_count": 10,
   "metadata": {
    "collapsed": false
   },
   "outputs": [
    {
     "data": {
      "text/plain": [
       "(12949, 27)"
      ]
     },
     "execution_count": 10,
     "metadata": {
     },
     "output_type": "execute_result"
    }
   ],
   "source": [
    "input_columns.shape"
   ]
  },
  {
   "cell_type": "code",
   "execution_count": 11,
   "metadata": {
    "collapsed": false
   },
   "outputs": [
   ],
   "source": [
    "x_train, x_test, y_train, y_test = train_test_split(input_columns, target, stratify=target, train_size=0.8)"
   ]
  },
  {
   "cell_type": "code",
   "execution_count": 22,
   "metadata": {
    "collapsed": false,
    "scrolled": true
   },
   "outputs": [
    {
     "name": "stdout",
     "output_type": "stream",
     "text": [
      "Fitting 5 folds for each of 225 candidates, totalling 1125 fits\n"
     ]
    },
    {
     "name": "stdout",
     "output_type": "stream",
     "text": [
      "[CV 1/5] END alpha=0.0001, loss=hinge, max_iter=1000, penalty=l2;, score=0.787 total time=   0.2s\n",
      "[CV 3/5] END alpha=0.0001, loss=hinge, max_iter=1000, penalty=l2;, score=0.602 total time=   0.2s\n",
      "[CV 5/5] END alpha=0.0001, loss=hinge, max_iter=1000, penalty=l2;, score=0.495 total time=   0.3s\n",
      "[CV 2/5] END alpha=0.0001, loss=hinge, max_iter=1000, penalty=l1;, score=0.771 total time=   0.4s\n",
      "[CV 4/5] END alpha=0.0001, loss=hinge, max_iter=1000, penalty=l1;, score=0.802 total time=   0.3s\n",
      "[CV 1/5] END alpha=0.0001, loss=hinge, max_iter=1000, penalty=elasticnet;, score=0.502 total time=   0.5s\n",
      "[CV 3/5] END alpha=0.0001, loss=hinge, max_iter=1000, penalty=elasticnet;, score=0.826 total time=   0.5s\n",
      "[CV 1/5] END alpha=0.0001, loss=hinge, max_iter=10000, penalty=l2;, score=0.554 total time=   0.3s\n",
      "[CV 2/5] END alpha=0.0001, loss=hinge, max_iter=10000, penalty=l2;, score=0.535 total time=   0.2s\n",
      "[CV 3/5] END alpha=0.0001, loss=hinge, max_iter=10000, penalty=l2;, score=0.737 total time=   0.2s\n",
      "[CV 1/5] END alpha=0.0001, loss=hinge, max_iter=10000, penalty=l1;, score=0.779 total time=   0.2s\n",
      "[CV 3/5] END alpha=0.0001, loss=hinge, max_iter=10000, penalty=l1;, score=0.784 total time=   0.3s\n",
      "[CV 4/5] END alpha=0.0001, loss=hinge, max_iter=10000, penalty=l1;, score=0.791 total time=   0.5s\n",
      "[CV 1/5] END alpha=0.0001, loss=hinge, max_iter=10000, penalty=elasticnet;, score=0.503 total time=   0.3s\n",
      "[CV 3/5] END alpha=0.0001, loss=hinge, max_iter=10000, penalty=elasticnet;, score=0.631 total time=   0.4s\n",
      "[CV 5/5] END alpha=0.0001, loss=hinge, max_iter=10000, penalty=elasticnet;, score=0.641 total time=   0.6s\n",
      "[CV 2/5] END alpha=0.0001, loss=hinge, max_iter=30000, penalty=l2;, score=0.583 total time=   0.2s\n",
      "[CV 4/5] END alpha=0.0001, loss=hinge, max_iter=30000, penalty=l2;, score=0.573 total time=   0.3s\n",
      "[CV 2/5] END alpha=0.0001, loss=hinge, max_iter=30000, penalty=l1;, score=0.778 total time=   0.3s\n",
      "[CV 3/5] END alpha=0.0001, loss=hinge, max_iter=30000, penalty=l1;, score=0.785 total time=   0.4s\n",
      "[CV 5/5] END alpha=0.0001, loss=hinge, max_iter=30000, penalty=l1;, score=0.676 total time=   0.3s\n",
      "[CV 2/5] END alpha=0.0001, loss=hinge, max_iter=30000, penalty=elasticnet;, score=0.648 total time=   0.3s\n",
      "[CV 3/5] END alpha=0.0001, loss=hinge, max_iter=30000, penalty=elasticnet;, score=0.699 total time=   0.3s\n",
      "[CV 5/5] END alpha=0.0001, loss=hinge, max_iter=30000, penalty=elasticnet;, score=0.507 total time=   0.4s\n",
      "[CV 3/5] END alpha=0.0001, loss=log_loss, max_iter=1000, penalty=l2;, score=0.618 total time=   0.2s\n",
      "[CV 4/5] END alpha=0.0001, loss=log_loss, max_iter=1000, penalty=l2;, score=0.580 total time=   0.2s\n",
      "[CV 1/5] END alpha=0.0001, loss=log_loss, max_iter=1000, penalty=l1;, score=0.815 total time=   0.5s\n",
      "[CV 3/5] END alpha=0.0001, loss=log_loss, max_iter=1000, penalty=l1;, score=0.755 total time=   0.5s\n",
      "[CV 5/5] END alpha=0.0001, loss=log_loss, max_iter=1000, penalty=l1;, score=0.803 total time=   0.5s\n",
      "[CV 2/5] END alpha=0.0001, loss=log_loss, max_iter=1000, penalty=elasticnet;, score=0.806 total time=   0.4s\n",
      "[CV 4/5] END alpha=0.0001, loss=log_loss, max_iter=1000, penalty=elasticnet;, score=0.767 total time=   0.4s\n",
      "[CV 1/5] END alpha=0.0001, loss=log_loss, max_iter=10000, penalty=l2;, score=0.482 total time=   0.2s\n",
      "[CV 2/5] END alpha=0.0001, loss=log_loss, max_iter=10000, penalty=l2;, score=0.697 total time=   0.2s\n",
      "[CV 3/5] END alpha=0.0001, loss=log_loss, max_iter=10000, penalty=l2;, score=0.778 total time=   0.2s\n",
      "[CV 5/5] END alpha=0.0001, loss=log_loss, max_iter=10000, penalty=l2;, score=0.486 total time=   0.3s\n",
      "[CV 2/5] END alpha=0.0001, loss=log_loss, max_iter=10000, penalty=l1;, score=0.711 total time=   0.6s\n",
      "[CV 4/5] END alpha=0.0001, loss=log_loss, max_iter=10000, penalty=l1;, score=0.812 total time=   0.7s\n",
      "[CV 2/5] END alpha=0.0001, loss=log_loss, max_iter=10000, penalty=elasticnet;, score=0.727 total time=   0.3s\n",
      "[CV 4/5] END alpha=0.0001, loss=log_loss, max_iter=10000, penalty=elasticnet;, score=0.711 total time=   0.5s\n",
      "[CV 1/5] END alpha=0.0001, loss=log_loss, max_iter=30000, penalty=l2;, score=0.573 total time=   0.2s\n",
      "[CV 2/5] END alpha=0.0001, loss=log_loss, max_iter=30000, penalty=l2;, score=0.497 total time=   0.2s\n",
      "[CV 3/5] END alpha=0.0001, loss=log_loss, max_iter=30000, penalty=l2;, score=0.665 total time=   0.2s\n",
      "[CV 5/5] END alpha=0.0001, loss=log_loss, max_iter=30000, penalty=l2;, score=0.818 total time=   0.3s\n",
      "[CV 2/5] END alpha=0.0001, loss=log_loss, max_iter=30000, penalty=l1;, score=0.718 total time=   0.7s\n",
      "[CV 5/5] END alpha=0.0001, loss=log_loss, max_iter=30000, penalty=l1;, score=0.799 total time=   0.4s\n",
      "[CV 2/5] END alpha=0.0001, loss=log_loss, max_iter=30000, penalty=elasticnet;, score=0.817 total time=   0.5s\n",
      "[CV 3/5] END alpha=0.0001, loss=log_loss, max_iter=30000, penalty=elasticnet;, score=0.484 total time=   0.8s\n",
      "[CV 1/5] END alpha=0.0001, loss=modified_huber, max_iter=1000, penalty=l2;, score=0.464 total time=   0.3s\n",
      "[CV 3/5] END alpha=0.0001, loss=modified_huber, max_iter=1000, penalty=l2;, score=0.577 total time=   0.2s\n",
      "[CV 5/5] END alpha=0.0001, loss=modified_huber, max_iter=1000, penalty=l2;, score=0.800 total time=   0.2s\n",
      "[CV 2/5] END alpha=0.0001, loss=modified_huber, max_iter=1000, penalty=l1;, score=0.641 total time=   0.3s\n",
      "[CV 4/5] END alpha=0.0001, loss=modified_huber, max_iter=1000, penalty=l1;, score=0.738 total time=   0.5s\n",
      "[CV 1/5] END alpha=0.0001, loss=modified_huber, max_iter=1000, penalty=elasticnet;, score=0.600 total time=   0.4s\n",
      "[CV 3/5] END alpha=0.0001, loss=modified_huber, max_iter=1000, penalty=elasticnet;, score=0.806 total time=   0.3s\n",
      "[CV 5/5] END alpha=0.0001, loss=modified_huber, max_iter=1000, penalty=elasticnet;, score=0.810 total time=   0.3s\n",
      "[CV 2/5] END alpha=0.0001, loss=modified_huber, max_iter=10000, penalty=l2;, score=0.648 total time=   0.2s\n",
      "[CV 4/5] END alpha=0.0001, loss=modified_huber, max_iter=10000, penalty=l2;, score=0.744 total time=   0.2s\n",
      "[CV 1/5] END alpha=0.0001, loss=modified_huber, max_iter=10000, penalty=l1;, score=0.814 total time=   0.5s\n",
      "[CV 4/5] END alpha=0.0001, loss=modified_huber, max_iter=10000, penalty=l1;, score=0.754 total time=   0.3s\n",
      "[CV 1/5] END alpha=0.0001, loss=modified_huber, max_iter=10000, penalty=elasticnet;, score=0.686 total time=   0.3s\n",
      "[CV 2/5] END alpha=0.0001, loss=modified_huber, max_iter=10000, penalty=elasticnet;, score=0.593 total time=   0.4s\n",
      "[CV 5/5] END alpha=0.0001, loss=modified_huber, max_iter=10000, penalty=elasticnet;, score=0.590 total time=   0.3s\n",
      "[CV 2/5] END alpha=0.0001, loss=modified_huber, max_iter=30000, penalty=l2;, score=0.564 total time=   0.2s\n",
      "[CV 4/5] END alpha=0.0001, loss=modified_huber, max_iter=30000, penalty=l2;, score=0.575 total time=   0.1s\n",
      "[CV 5/5] END alpha=0.0001, loss=modified_huber, max_iter=30000, penalty=l2;, score=0.501 total time=   0.3s\n",
      "[CV 2/5] END alpha=0.0001, loss=modified_huber, max_iter=30000, penalty=l1;, score=0.649 total time=   0.3s\n",
      "[CV 3/5] END alpha=0.0001, loss=modified_huber, max_iter=30000, penalty=l1;, score=0.765 total time=   0.5s\n",
      "[CV 5/5] END alpha=0.0001, loss=modified_huber, max_iter=30000, penalty=l1;, score=0.707 total time=   0.4s\n",
      "[CV 2/5] END alpha=0.0001, loss=modified_huber, max_iter=30000, penalty=elasticnet;, score=0.570 total time=   0.4s\n",
      "[CV 5/5] END alpha=0.0001, loss=modified_huber, max_iter=30000, penalty=elasticnet;, score=0.495 total time=   0.5s\n",
      "[CV 2/5] END alpha=0.0001, loss=squared_hinge, max_iter=1000, penalty=l2;, score=0.806 total time=   0.4s\n",
      "[CV 5/5] END alpha=0.0001, loss=squared_hinge, max_iter=1000, penalty=l2;, score=0.618 total time=   0.1s\n",
      "[CV 1/5] END alpha=0.0001, loss=squared_hinge, max_iter=1000, penalty=l1;, score=0.786 total time=   0.2s\n",
      "[CV 3/5] END alpha=0.0001, loss=squared_hinge, max_iter=1000, penalty=l1;, score=0.725 total time=   0.3s\n",
      "[CV 5/5] END alpha=0.0001, loss=squared_hinge, max_iter=1000, penalty=l1;, score=0.748 total time=   0.3s\n",
      "[CV 2/5] END alpha=0.0001, loss=squared_hinge, max_iter=1000, penalty=elasticnet;, score=0.569 total time=   0.2s\n",
      "[CV 3/5] END alpha=0.0001, loss=squared_hinge, max_iter=1000, penalty=elasticnet;, score=0.573 total time=   0.5s\n"
     ]
    },
    {
     "name": "stdout",
     "output_type": "stream",
     "text": [
      "[CV 2/5] END alpha=0.0001, loss=hinge, max_iter=1000, penalty=l2;, score=0.809 total time=   0.3s\n",
      "[CV 4/5] END alpha=0.0001, loss=hinge, max_iter=1000, penalty=l2;, score=0.571 total time=   0.3s\n",
      "[CV 1/5] END alpha=0.0001, loss=hinge, max_iter=1000, penalty=l1;, score=0.800 total time=   0.4s\n",
      "[CV 3/5] END alpha=0.0001, loss=hinge, max_iter=1000, penalty=l1;, score=0.782 total time=   0.3s\n",
      "[CV 5/5] END alpha=0.0001, loss=hinge, max_iter=1000, penalty=l1;, score=0.778 total time=   0.3s\n",
      "[CV 2/5] END alpha=0.0001, loss=hinge, max_iter=1000, penalty=elasticnet;, score=0.712 total time=   0.3s\n",
      "[CV 4/5] END alpha=0.0001, loss=hinge, max_iter=1000, penalty=elasticnet;, score=0.573 total time=   0.4s\n",
      "[CV 5/5] END alpha=0.0001, loss=hinge, max_iter=1000, penalty=elasticnet;, score=0.775 total time=   0.6s\n",
      "[CV 4/5] END alpha=0.0001, loss=hinge, max_iter=10000, penalty=l2;, score=0.546 total time=   0.1s\n",
      "[CV 5/5] END alpha=0.0001, loss=hinge, max_iter=10000, penalty=l2;, score=0.782 total time=   0.2s\n",
      "[CV 2/5] END alpha=0.0001, loss=hinge, max_iter=10000, penalty=l1;, score=0.789 total time=   0.5s\n",
      "[CV 5/5] END alpha=0.0001, loss=hinge, max_iter=10000, penalty=l1;, score=0.804 total time=   0.5s\n",
      "[CV 2/5] END alpha=0.0001, loss=hinge, max_iter=10000, penalty=elasticnet;, score=0.779 total time=   0.4s\n",
      "[CV 4/5] END alpha=0.0001, loss=hinge, max_iter=10000, penalty=elasticnet;, score=0.648 total time=   0.5s\n",
      "[CV 1/5] END alpha=0.0001, loss=hinge, max_iter=30000, penalty=l2;, score=0.609 total time=   0.2s\n",
      "[CV 3/5] END alpha=0.0001, loss=hinge, max_iter=30000, penalty=l2;, score=0.787 total time=   0.2s\n",
      "[CV 5/5] END alpha=0.0001, loss=hinge, max_iter=30000, penalty=l2;, score=0.809 total time=   0.2s\n",
      "[CV 1/5] END alpha=0.0001, loss=hinge, max_iter=30000, penalty=l1;, score=0.816 total time=   0.5s\n",
      "[CV 4/5] END alpha=0.0001, loss=hinge, max_iter=30000, penalty=l1;, score=0.804 total time=   0.5s\n",
      "[CV 1/5] END alpha=0.0001, loss=hinge, max_iter=30000, penalty=elasticnet;, score=0.726 total time=   0.4s\n",
      "[CV 4/5] END alpha=0.0001, loss=hinge, max_iter=30000, penalty=elasticnet;, score=0.590 total time=   0.4s\n",
      "[CV 1/5] END alpha=0.0001, loss=log_loss, max_iter=1000, penalty=l2;, score=0.625 total time=   0.2s\n",
      "[CV 2/5] END alpha=0.0001, loss=log_loss, max_iter=1000, penalty=l2;, score=0.594 total time=   0.2s\n",
      "[CV 5/5] END alpha=0.0001, loss=log_loss, max_iter=1000, penalty=l2;, score=0.711 total time=   0.4s\n",
      "[CV 2/5] END alpha=0.0001, loss=log_loss, max_iter=1000, penalty=l1;, score=0.788 total time=   0.6s\n",
      "[CV 4/5] END alpha=0.0001, loss=log_loss, max_iter=1000, penalty=l1;, score=0.764 total time=   0.4s\n",
      "[CV 1/5] END alpha=0.0001, loss=log_loss, max_iter=1000, penalty=elasticnet;, score=0.591 total time=   0.4s\n",
      "[CV 3/5] END alpha=0.0001, loss=log_loss, max_iter=1000, penalty=elasticnet;, score=0.782 total time=   0.6s\n",
      "[CV 5/5] END alpha=0.0001, loss=log_loss, max_iter=1000, penalty=elasticnet;, score=0.814 total time=   0.5s\n",
      "[CV 4/5] END alpha=0.0001, loss=log_loss, max_iter=10000, penalty=l2;, score=0.748 total time=   0.2s\n",
      "[CV 1/5] END alpha=0.0001, loss=log_loss, max_iter=10000, penalty=l1;, score=0.801 total time=   0.4s\n",
      "[CV 3/5] END alpha=0.0001, loss=log_loss, max_iter=10000, penalty=l1;, score=0.766 total time=   0.3s\n",
      "[CV 5/5] END alpha=0.0001, loss=log_loss, max_iter=10000, penalty=l1;, score=0.673 total time=   0.4s\n",
      "[CV 1/5] END alpha=0.0001, loss=log_loss, max_iter=10000, penalty=elasticnet;, score=0.808 total time=   0.4s\n",
      "[CV 3/5] END alpha=0.0001, loss=log_loss, max_iter=10000, penalty=elasticnet;, score=0.788 total time=   0.6s\n",
      "[CV 5/5] END alpha=0.0001, loss=log_loss, max_iter=10000, penalty=elasticnet;, score=0.507 total time=   0.5s\n",
      "[CV 4/5] END alpha=0.0001, loss=log_loss, max_iter=30000, penalty=l2;, score=0.570 total time=   0.3s\n",
      "[CV 1/5] END alpha=0.0001, loss=log_loss, max_iter=30000, penalty=l1;, score=0.741 total time=   0.3s\n",
      "[CV 3/5] END alpha=0.0001, loss=log_loss, max_iter=30000, penalty=l1;, score=0.783 total time=   0.3s\n",
      "[CV 4/5] END alpha=0.0001, loss=log_loss, max_iter=30000, penalty=l1;, score=0.806 total time=   0.5s\n",
      "[CV 1/5] END alpha=0.0001, loss=log_loss, max_iter=30000, penalty=elasticnet;, score=0.824 total time=   0.6s\n",
      "[CV 4/5] END alpha=0.0001, loss=log_loss, max_iter=30000, penalty=elasticnet;, score=0.816 total time=   0.4s\n",
      "[CV 5/5] END alpha=0.0001, loss=log_loss, max_iter=30000, penalty=elasticnet;, score=0.823 total time=   0.5s\n",
      "[CV 2/5] END alpha=0.0001, loss=modified_huber, max_iter=1000, penalty=l2;, score=0.520 total time=   0.2s\n",
      "[CV 4/5] END alpha=0.0001, loss=modified_huber, max_iter=1000, penalty=l2;, score=0.502 total time=   0.1s\n",
      "[CV 1/5] END alpha=0.0001, loss=modified_huber, max_iter=1000, penalty=l1;, score=0.792 total time=   0.3s\n",
      "[CV 3/5] END alpha=0.0001, loss=modified_huber, max_iter=1000, penalty=l1;, score=0.725 total time=   0.3s\n",
      "[CV 5/5] END alpha=0.0001, loss=modified_huber, max_iter=1000, penalty=l1;, score=0.774 total time=   0.6s\n",
      "[CV 2/5] END alpha=0.0001, loss=modified_huber, max_iter=1000, penalty=elasticnet;, score=0.573 total time=   0.5s\n",
      "[CV 4/5] END alpha=0.0001, loss=modified_huber, max_iter=1000, penalty=elasticnet;, score=0.601 total time=   0.3s\n",
      "[CV 1/5] END alpha=0.0001, loss=modified_huber, max_iter=10000, penalty=l2;, score=0.580 total time=   0.2s\n",
      "[CV 3/5] END alpha=0.0001, loss=modified_huber, max_iter=10000, penalty=l2;, score=0.615 total time=   0.2s\n",
      "[CV 5/5] END alpha=0.0001, loss=modified_huber, max_iter=10000, penalty=l2;, score=0.687 total time=   0.2s\n",
      "[CV 2/5] END alpha=0.0001, loss=modified_huber, max_iter=10000, penalty=l1;, score=0.682 total time=   0.3s\n",
      "[CV 3/5] END alpha=0.0001, loss=modified_huber, max_iter=10000, penalty=l1;, score=0.783 total time=   0.3s\n",
      "[CV 5/5] END alpha=0.0001, loss=modified_huber, max_iter=10000, penalty=l1;, score=0.648 total time=   0.3s\n",
      "[CV 3/5] END alpha=0.0001, loss=modified_huber, max_iter=10000, penalty=elasticnet;, score=0.570 total time=   0.4s\n",
      "[CV 4/5] END alpha=0.0001, loss=modified_huber, max_iter=10000, penalty=elasticnet;, score=0.726 total time=   0.3s\n",
      "[CV 1/5] END alpha=0.0001, loss=modified_huber, max_iter=30000, penalty=l2;, score=0.801 total time=   0.2s\n",
      "[CV 3/5] END alpha=0.0001, loss=modified_huber, max_iter=30000, penalty=l2;, score=0.668 total time=   0.2s\n",
      "[CV 1/5] END alpha=0.0001, loss=modified_huber, max_iter=30000, penalty=l1;, score=0.776 total time=   0.6s\n",
      "[CV 4/5] END alpha=0.0001, loss=modified_huber, max_iter=30000, penalty=l1;, score=0.758 total time=   0.4s\n",
      "[CV 1/5] END alpha=0.0001, loss=modified_huber, max_iter=30000, penalty=elasticnet;, score=0.591 total time=   0.4s\n",
      "[CV 3/5] END alpha=0.0001, loss=modified_huber, max_iter=30000, penalty=elasticnet;, score=0.746 total time=   0.4s\n",
      "[CV 4/5] END alpha=0.0001, loss=modified_huber, max_iter=30000, penalty=elasticnet;, score=0.565 total time=   0.2s\n",
      "[CV 1/5] END alpha=0.0001, loss=squared_hinge, max_iter=1000, penalty=l2;, score=0.569 total time=   0.2s\n",
      "[CV 3/5] END alpha=0.0001, loss=squared_hinge, max_iter=1000, penalty=l2;, score=0.572 total time=   0.3s\n",
      "[CV 4/5] END alpha=0.0001, loss=squared_hinge, max_iter=1000, penalty=l2;, score=0.602 total time=   0.2s\n",
      "[CV 2/5] END alpha=0.0001, loss=squared_hinge, max_iter=1000, penalty=l1;, score=0.726 total time=   0.4s\n",
      "[CV 4/5] END alpha=0.0001, loss=squared_hinge, max_iter=1000, penalty=l1;, score=0.662 total time=   0.4s\n",
      "[CV 1/5] END alpha=0.0001, loss=squared_hinge, max_iter=1000, penalty=elasticnet;, score=0.778 total time=   0.6s\n",
      "[CV 4/5] END alpha=0.0001, loss=squared_hinge, max_iter=1000, penalty=elasticnet;, score=0.476 total time=   0.5s\n",
      "[CV 1/5] END alpha=0.0001, loss=squared_hinge, max_iter=10000, penalty=l2;, score=0.711 total time=   0.3s\n",
      "[CV 3/5] END alpha=0.0001, loss=squared_hinge, max_iter=10000, penalty=l2;, score=0.781 total time=   0.2s\n",
      "[CV 5/5] END alpha=0.0001, loss=squared_hinge, max_iter=10000, penalty=l2;, score=0.578 total time=   0.2s\n",
      "[CV 2/5] END alpha=0.0001, loss=squared_hinge, max_iter=10000, penalty=l1;, score=0.725 total time=   0.3s\n",
      "[CV 4/5] END alpha=0.0001, loss=squared_hinge, max_iter=10000, penalty=l1;, score=0.679 total time=   0.4s\n"
     ]
    },
    {
     "name": "stdout",
     "output_type": "stream",
     "text": [
      "[CV 5/5] END alpha=0.0001, loss=squared_hinge, max_iter=1000, penalty=elasticnet;, score=0.801 total time=   0.4s\n",
      "[CV 2/5] END alpha=0.0001, loss=squared_hinge, max_iter=10000, penalty=l2;, score=0.572 total time=   0.1s\n",
      "[CV 4/5] END alpha=0.0001, loss=squared_hinge, max_iter=10000, penalty=l2;, score=0.655 total time=   0.2s\n",
      "[CV 1/5] END alpha=0.0001, loss=squared_hinge, max_iter=10000, penalty=l1;, score=0.723 total time=   0.4s\n",
      "[CV 3/5] END alpha=0.0001, loss=squared_hinge, max_iter=10000, penalty=l1;, score=0.707 total time=   0.3s\n",
      "[CV 5/5] END alpha=0.0001, loss=squared_hinge, max_iter=10000, penalty=l1;, score=0.790 total time=   0.4s\n",
      "[CV 2/5] END alpha=0.0001, loss=squared_hinge, max_iter=10000, penalty=elasticnet;, score=0.763 total time=   0.5s\n",
      "[CV 4/5] END alpha=0.0001, loss=squared_hinge, max_iter=10000, penalty=elasticnet;, score=0.707 total time=   0.3s\n",
      "[CV 5/5] END alpha=0.0001, loss=squared_hinge, max_iter=10000, penalty=elasticnet;, score=0.813 total time=   0.4s\n",
      "[CV 4/5] END alpha=0.0001, loss=squared_hinge, max_iter=30000, penalty=l2;, score=0.642 total time=   0.1s\n",
      "[CV 5/5] END alpha=0.0001, loss=squared_hinge, max_iter=30000, penalty=l2;, score=0.669 total time=   0.3s\n",
      "[CV 2/5] END alpha=0.0001, loss=squared_hinge, max_iter=30000, penalty=l1;, score=0.714 total time=   0.5s\n",
      "[CV 4/5] END alpha=0.0001, loss=squared_hinge, max_iter=30000, penalty=l1;, score=0.760 total time=   0.4s\n",
      "[CV 1/5] END alpha=0.0001, loss=squared_hinge, max_iter=30000, penalty=elasticnet;, score=0.553 total time=   0.6s\n",
      "[CV 4/5] END alpha=0.0001, loss=squared_hinge, max_iter=30000, penalty=elasticnet;, score=0.754 total time=   0.4s\n",
      "[CV 1/5] END alpha=0.0001, loss=perceptron, max_iter=1000, penalty=l2;, score=0.572 total time=   0.1s\n",
      "[CV 2/5] END alpha=0.0001, loss=perceptron, max_iter=1000, penalty=l2;, score=0.708 total time=   0.1s\n",
      "[CV 3/5] END alpha=0.0001, loss=perceptron, max_iter=1000, penalty=l2;, score=0.540 total time=   0.3s\n",
      "[CV 5/5] END alpha=0.0001, loss=perceptron, max_iter=1000, penalty=l2;, score=0.761 total time=   0.2s\n",
      "[CV 2/5] END alpha=0.0001, loss=perceptron, max_iter=1000, penalty=l1;, score=0.786 total time=   0.5s\n",
      "[CV 4/5] END alpha=0.0001, loss=perceptron, max_iter=1000, penalty=l1;, score=0.809 total time=   0.4s\n",
      "[CV 1/5] END alpha=0.0001, loss=perceptron, max_iter=1000, penalty=elasticnet;, score=0.837 total time=   0.5s\n",
      "[CV 3/5] END alpha=0.0001, loss=perceptron, max_iter=1000, penalty=elasticnet;, score=0.753 total time=   0.5s\n",
      "[CV 5/5] END alpha=0.0001, loss=perceptron, max_iter=1000, penalty=elasticnet;, score=0.583 total time=   0.3s\n",
      "[CV 1/5] END alpha=0.0001, loss=perceptron, max_iter=10000, penalty=l2;, score=0.532 total time=   0.2s\n",
      "[CV 4/5] END alpha=0.0001, loss=perceptron, max_iter=10000, penalty=l2;, score=0.628 total time=   0.1s\n",
      "[CV 5/5] END alpha=0.0001, loss=perceptron, max_iter=10000, penalty=l2;, score=0.525 total time=   0.1s\n",
      "[CV 2/5] END alpha=0.0001, loss=perceptron, max_iter=10000, penalty=l1;, score=0.758 total time=   0.5s\n",
      "[CV 4/5] END alpha=0.0001, loss=perceptron, max_iter=10000, penalty=l1;, score=0.818 total time=   0.6s\n",
      "[CV 2/5] END alpha=0.0001, loss=perceptron, max_iter=10000, penalty=elasticnet;, score=0.789 total time=   0.6s\n",
      "[CV 4/5] END alpha=0.0001, loss=perceptron, max_iter=10000, penalty=elasticnet;, score=0.624 total time=   0.4s\n",
      "[CV 1/5] END alpha=0.0001, loss=perceptron, max_iter=30000, penalty=l2;, score=0.533 total time=   0.2s\n",
      "[CV 3/5] END alpha=0.0001, loss=perceptron, max_iter=30000, penalty=l2;, score=0.566 total time=   0.2s\n",
      "[CV 4/5] END alpha=0.0001, loss=perceptron, max_iter=30000, penalty=l2;, score=0.761 total time=   0.3s\n",
      "[CV 2/5] END alpha=0.0001, loss=perceptron, max_iter=30000, penalty=l1;, score=0.782 total time=   0.3s\n",
      "[CV 4/5] END alpha=0.0001, loss=perceptron, max_iter=30000, penalty=l1;, score=0.798 total time=   0.5s\n",
      "[CV 1/5] END alpha=0.0001, loss=perceptron, max_iter=30000, penalty=elasticnet;, score=0.616 total time=   0.4s\n",
      "[CV 3/5] END alpha=0.0001, loss=perceptron, max_iter=30000, penalty=elasticnet;, score=0.640 total time=   0.4s\n",
      "[CV 5/5] END alpha=0.0001, loss=perceptron, max_iter=30000, penalty=elasticnet;, score=0.810 total time=   0.6s\n",
      "[CV 4/5] END alpha=0.001, loss=hinge, max_iter=1000, penalty=l2;, score=0.619 total time=   0.2s\n",
      "[CV 1/5] END alpha=0.001, loss=hinge, max_iter=1000, penalty=l1;, score=0.815 total time=   0.3s\n",
      "[CV 4/5] END alpha=0.001, loss=hinge, max_iter=1000, penalty=l1;, score=0.804 total time=   0.2s\n",
      "[CV 1/5] END alpha=0.001, loss=hinge, max_iter=1000, penalty=elasticnet;, score=0.859 total time=   0.3s\n",
      "[CV 3/5] END alpha=0.001, loss=hinge, max_iter=1000, penalty=elasticnet;, score=0.861 total time=   0.3s\n",
      "[CV 5/5] END alpha=0.001, loss=hinge, max_iter=1000, penalty=elasticnet;, score=0.855 total time=   0.5s\n",
      "[CV 3/5] END alpha=0.001, loss=hinge, max_iter=10000, penalty=l2;, score=0.605 total time=   0.2s\n",
      "[CV 5/5] END alpha=0.001, loss=hinge, max_iter=10000, penalty=l2;, score=0.514 total time=   0.1s\n",
      "[CV 2/5] END alpha=0.001, loss=hinge, max_iter=10000, penalty=l1;, score=0.788 total time=   0.3s\n",
      "[CV 4/5] END alpha=0.001, loss=hinge, max_iter=10000, penalty=l1;, score=0.817 total time=   0.3s\n",
      "[CV 1/5] END alpha=0.001, loss=hinge, max_iter=10000, penalty=elasticnet;, score=0.797 total time=   0.2s\n",
      "[CV 3/5] END alpha=0.001, loss=hinge, max_iter=10000, penalty=elasticnet;, score=0.456 total time=   0.3s\n",
      "[CV 5/5] END alpha=0.001, loss=hinge, max_iter=10000, penalty=elasticnet;, score=0.863 total time=   0.4s\n",
      "[CV 2/5] END alpha=0.001, loss=hinge, max_iter=30000, penalty=l2;, score=0.673 total time=   0.2s\n",
      "[CV 4/5] END alpha=0.001, loss=hinge, max_iter=30000, penalty=l2;, score=0.572 total time=   0.2s\n",
      "[CV 2/5] END alpha=0.001, loss=hinge, max_iter=30000, penalty=l1;, score=0.787 total time=   0.2s\n",
      "[CV 4/5] END alpha=0.001, loss=hinge, max_iter=30000, penalty=l1;, score=0.794 total time=   0.1s\n",
      "[CV 5/5] END alpha=0.001, loss=hinge, max_iter=30000, penalty=l1;, score=0.797 total time=   0.2s\n",
      "[CV 2/5] END alpha=0.001, loss=hinge, max_iter=30000, penalty=elasticnet;, score=0.860 total time=   0.4s\n",
      "[CV 4/5] END alpha=0.001, loss=hinge, max_iter=30000, penalty=elasticnet;, score=0.868 total time=   0.4s\n",
      "[CV 1/5] END alpha=0.001, loss=log_loss, max_iter=1000, penalty=l2;, score=0.735 total time=   0.2s\n",
      "[CV 2/5] END alpha=0.001, loss=log_loss, max_iter=1000, penalty=l2;, score=0.570 total time=   0.3s\n",
      "[CV 5/5] END alpha=0.001, loss=log_loss, max_iter=1000, penalty=l2;, score=0.605 total time=   0.3s\n",
      "[CV 2/5] END alpha=0.001, loss=log_loss, max_iter=1000, penalty=l1;, score=0.783 total time=   0.3s\n",
      "[CV 4/5] END alpha=0.001, loss=log_loss, max_iter=1000, penalty=l1;, score=0.805 total time=   0.2s\n",
      "[CV 1/5] END alpha=0.001, loss=log_loss, max_iter=1000, penalty=elasticnet;, score=0.859 total time=   0.6s\n",
      "[CV 4/5] END alpha=0.001, loss=log_loss, max_iter=1000, penalty=elasticnet;, score=0.447 total time=   0.5s\n",
      "[CV 5/5] END alpha=0.001, loss=log_loss, max_iter=1000, penalty=elasticnet;, score=0.860 total time=   0.6s\n",
      "[CV 4/5] END alpha=0.001, loss=log_loss, max_iter=10000, penalty=l2;, score=0.496 total time=   0.2s\n",
      "[CV 5/5] END alpha=0.001, loss=log_loss, max_iter=10000, penalty=l2;, score=0.800 total time=   0.2s\n",
      "[CV 2/5] END alpha=0.001, loss=log_loss, max_iter=10000, penalty=l1;, score=0.790 total time=   0.5s\n",
      "[CV 5/5] END alpha=0.001, loss=log_loss, max_iter=10000, penalty=l1;, score=0.802 total time=   0.4s\n",
      "[CV 2/5] END alpha=0.001, loss=log_loss, max_iter=10000, penalty=elasticnet;, score=0.856 total time=   0.7s\n",
      "[CV 3/5] END alpha=0.001, loss=log_loss, max_iter=10000, penalty=elasticnet;, score=0.869 total time=   0.9s\n",
      "[CV 1/5] END alpha=0.001, loss=log_loss, max_iter=30000, penalty=l2;, score=0.817 total time=   0.3s\n",
      "[CV 3/5] END alpha=0.001, loss=log_loss, max_iter=30000, penalty=l2;, score=0.475 total time=   0.2s\n",
      "[CV 5/5] END alpha=0.001, loss=log_loss, max_iter=30000, penalty=l2;, score=0.590 total time=   0.3s\n",
      "[CV 2/5] END alpha=0.001, loss=log_loss, max_iter=30000, penalty=l1;, score=0.787 total time=   0.4s\n",
      "[CV 4/5] END alpha=0.001, loss=log_loss, max_iter=30000, penalty=l1;, score=0.799 total time=   0.2s\n",
      "[CV 1/5] END alpha=0.0001, loss=squared_hinge, max_iter=10000, penalty=elasticnet;, score=0.760 total time=   0.5s\n",
      "[CV 3/5] END alpha=0.0001, loss=squared_hinge, max_iter=10000, penalty=elasticnet;, score=0.813 total time=   0.6s\n",
      "[CV 1/5] END alpha=0.0001, loss=squared_hinge, max_iter=30000, penalty=l2;, score=0.547 total time=   0.2s\n",
      "[CV 2/5] END alpha=0.0001, loss=squared_hinge, max_iter=30000, penalty=l2;, score=0.482 total time=   0.2s\n",
      "[CV 3/5] END alpha=0.0001, loss=squared_hinge, max_iter=30000, penalty=l2;, score=0.597 total time=   0.2s\n",
      "[CV 1/5] END alpha=0.0001, loss=squared_hinge, max_iter=30000, penalty=l1;, score=0.728 total time=   0.5s\n",
      "[CV 3/5] END alpha=0.0001, loss=squared_hinge, max_iter=30000, penalty=l1;, score=0.726 total time=   0.3s\n",
      "[CV 5/5] END alpha=0.0001, loss=squared_hinge, max_iter=30000, penalty=l1;, score=0.769 total time=   0.3s\n",
      "[CV 2/5] END alpha=0.0001, loss=squared_hinge, max_iter=30000, penalty=elasticnet;, score=0.706 total time=   0.4s\n",
      "[CV 3/5] END alpha=0.0001, loss=squared_hinge, max_iter=30000, penalty=elasticnet;, score=0.729 total time=   0.4s\n",
      "[CV 5/5] END alpha=0.0001, loss=squared_hinge, max_iter=30000, penalty=elasticnet;, score=0.680 total time=   0.5s\n",
      "[CV 4/5] END alpha=0.0001, loss=perceptron, max_iter=1000, penalty=l2;, score=0.602 total time=   0.2s\n",
      "[CV 1/5] END alpha=0.0001, loss=perceptron, max_iter=1000, penalty=l1;, score=0.750 total time=   0.6s\n",
      "[CV 3/5] END alpha=0.0001, loss=perceptron, max_iter=1000, penalty=l1;, score=0.787 total time=   0.4s\n",
      "[CV 5/5] END alpha=0.0001, loss=perceptron, max_iter=1000, penalty=l1;, score=0.802 total time=   0.5s\n",
      "[CV 2/5] END alpha=0.0001, loss=perceptron, max_iter=1000, penalty=elasticnet;, score=0.777 total time=   0.5s\n",
      "[CV 4/5] END alpha=0.0001, loss=perceptron, max_iter=1000, penalty=elasticnet;, score=0.500 total time=   0.4s\n",
      "[CV 2/5] END alpha=0.0001, loss=perceptron, max_iter=10000, penalty=l2;, score=0.605 total time=   0.2s\n",
      "[CV 3/5] END alpha=0.0001, loss=perceptron, max_iter=10000, penalty=l2;, score=0.584 total time=   0.2s\n",
      "[CV 1/5] END alpha=0.0001, loss=perceptron, max_iter=10000, penalty=l1;, score=0.809 total time=   0.2s\n",
      "[CV 3/5] END alpha=0.0001, loss=perceptron, max_iter=10000, penalty=l1;, score=0.790 total time=   0.4s\n",
      "[CV 5/5] END alpha=0.0001, loss=perceptron, max_iter=10000, penalty=l1;, score=0.800 total time=   0.5s\n",
      "[CV 1/5] END alpha=0.0001, loss=perceptron, max_iter=10000, penalty=elasticnet;, score=0.603 total time=   0.5s\n",
      "[CV 3/5] END alpha=0.0001, loss=perceptron, max_iter=10000, penalty=elasticnet;, score=0.792 total time=   0.4s\n",
      "[CV 5/5] END alpha=0.0001, loss=perceptron, max_iter=10000, penalty=elasticnet;, score=0.582 total time=   0.4s\n",
      "[CV 2/5] END alpha=0.0001, loss=perceptron, max_iter=30000, penalty=l2;, score=0.776 total time=   0.2s\n",
      "[CV 5/5] END alpha=0.0001, loss=perceptron, max_iter=30000, penalty=l2;, score=0.476 total time=   0.2s\n",
      "[CV 1/5] END alpha=0.0001, loss=perceptron, max_iter=30000, penalty=l1;, score=0.810 total time=   0.4s\n",
      "[CV 3/5] END alpha=0.0001, loss=perceptron, max_iter=30000, penalty=l1;, score=0.787 total time=   0.3s\n",
      "[CV 5/5] END alpha=0.0001, loss=perceptron, max_iter=30000, penalty=l1;, score=0.802 total time=   0.3s\n",
      "[CV 2/5] END alpha=0.0001, loss=perceptron, max_iter=30000, penalty=elasticnet;, score=0.601 total time=   0.4s\n",
      "[CV 4/5] END alpha=0.0001, loss=perceptron, max_iter=30000, penalty=elasticnet;, score=0.829 total time=   0.4s\n",
      "[CV 1/5] END alpha=0.001, loss=hinge, max_iter=1000, penalty=l2;, score=0.691 total time=   0.1s\n",
      "[CV 2/5] END alpha=0.001, loss=hinge, max_iter=1000, penalty=l2;, score=0.787 total time=   0.2s\n",
      "[CV 3/5] END alpha=0.001, loss=hinge, max_iter=1000, penalty=l2;, score=0.568 total time=   0.2s\n",
      "[CV 5/5] END alpha=0.001, loss=hinge, max_iter=1000, penalty=l2;, score=0.539 total time=   0.2s\n",
      "[CV 2/5] END alpha=0.001, loss=hinge, max_iter=1000, penalty=l1;, score=0.784 total time=   0.2s\n",
      "[CV 3/5] END alpha=0.001, loss=hinge, max_iter=1000, penalty=l1;, score=0.784 total time=   0.3s\n",
      "[CV 5/5] END alpha=0.001, loss=hinge, max_iter=1000, penalty=l1;, score=0.805 total time=   0.3s\n",
      "[CV 2/5] END alpha=0.001, loss=hinge, max_iter=1000, penalty=elasticnet;, score=0.747 total time=   0.2s\n",
      "[CV 4/5] END alpha=0.001, loss=hinge, max_iter=1000, penalty=elasticnet;, score=0.861 total time=   0.5s\n",
      "[CV 1/5] END alpha=0.001, loss=hinge, max_iter=10000, penalty=l2;, score=0.801 total time=   0.1s\n",
      "[CV 2/5] END alpha=0.001, loss=hinge, max_iter=10000, penalty=l2;, score=0.760 total time=   0.2s\n",
      "[CV 4/5] END alpha=0.001, loss=hinge, max_iter=10000, penalty=l2;, score=0.567 total time=   0.2s\n",
      "[CV 1/5] END alpha=0.001, loss=hinge, max_iter=10000, penalty=l1;, score=0.810 total time=   0.3s\n",
      "[CV 3/5] END alpha=0.001, loss=hinge, max_iter=10000, penalty=l1;, score=0.786 total time=   0.2s\n",
      "[CV 5/5] END alpha=0.001, loss=hinge, max_iter=10000, penalty=l1;, score=0.797 total time=   0.2s\n",
      "[CV 2/5] END alpha=0.001, loss=hinge, max_iter=10000, penalty=elasticnet;, score=0.855 total time=   0.4s\n",
      "[CV 4/5] END alpha=0.001, loss=hinge, max_iter=10000, penalty=elasticnet;, score=0.861 total time=   0.4s\n",
      "[CV 1/5] END alpha=0.001, loss=hinge, max_iter=30000, penalty=l2;, score=0.603 total time=   0.2s\n",
      "[CV 3/5] END alpha=0.001, loss=hinge, max_iter=30000, penalty=l2;, score=0.543 total time=   0.2s\n",
      "[CV 5/5] END alpha=0.001, loss=hinge, max_iter=30000, penalty=l2;, score=0.574 total time=   0.1s\n",
      "[CV 1/5] END alpha=0.001, loss=hinge, max_iter=30000, penalty=l1;, score=0.807 total time=   0.2s\n",
      "[CV 3/5] END alpha=0.001, loss=hinge, max_iter=30000, penalty=l1;, score=0.793 total time=   0.3s\n",
      "[CV 1/5] END alpha=0.001, loss=hinge, max_iter=30000, penalty=elasticnet;, score=0.860 total time=   0.4s\n",
      "[CV 3/5] END alpha=0.001, loss=hinge, max_iter=30000, penalty=elasticnet;, score=0.778 total time=   0.5s\n",
      "[CV 5/5] END alpha=0.001, loss=hinge, max_iter=30000, penalty=elasticnet;, score=0.854 total time=   0.4s\n",
      "[CV 3/5] END alpha=0.001, loss=log_loss, max_iter=1000, penalty=l2;, score=0.795 total time=   0.2s\n",
      "[CV 4/5] END alpha=0.001, loss=log_loss, max_iter=1000, penalty=l2;, score=0.702 total time=   0.3s\n",
      "[CV 1/5] END alpha=0.001, loss=log_loss, max_iter=1000, penalty=l1;, score=0.658 total time=   0.2s\n",
      "[CV 3/5] END alpha=0.001, loss=log_loss, max_iter=1000, penalty=l1;, score=0.770 total time=   0.3s\n",
      "[CV 5/5] END alpha=0.001, loss=log_loss, max_iter=1000, penalty=l1;, score=0.802 total time=   0.3s\n",
      "[CV 2/5] END alpha=0.001, loss=log_loss, max_iter=1000, penalty=elasticnet;, score=0.811 total time=   0.4s\n",
      "[CV 3/5] END alpha=0.001, loss=log_loss, max_iter=1000, penalty=elasticnet;, score=0.864 total time=   0.6s\n",
      "[CV 1/5] END alpha=0.001, loss=log_loss, max_iter=10000, penalty=l2;, score=0.816 total time=   0.2s\n",
      "[CV 2/5] END alpha=0.001, loss=log_loss, max_iter=10000, penalty=l2;, score=0.513 total time=   0.3s\n",
      "[CV 3/5] END alpha=0.001, loss=log_loss, max_iter=10000, penalty=l2;, score=0.812 total time=   0.3s\n",
      "[CV 1/5] END alpha=0.001, loss=log_loss, max_iter=10000, penalty=l1;, score=0.812 total time=   0.4s\n",
      "[CV 3/5] END alpha=0.001, loss=log_loss, max_iter=10000, penalty=l1;, score=0.783 total time=   0.2s\n",
      "[CV 4/5] END alpha=0.001, loss=log_loss, max_iter=10000, penalty=l1;, score=0.806 total time=   0.3s\n",
      "[CV 1/5] END alpha=0.001, loss=log_loss, max_iter=10000, penalty=elasticnet;, score=0.859 total time=   0.8s\n",
      "[CV 4/5] END alpha=0.001, loss=log_loss, max_iter=10000, penalty=elasticnet;, score=0.862 total time=   0.6s\n",
      "[CV 5/5] END alpha=0.001, loss=log_loss, max_iter=10000, penalty=elasticnet;, score=0.840 total time=   0.5s\n",
      "[CV 2/5] END alpha=0.001, loss=log_loss, max_iter=30000, penalty=l2;, score=0.462 total time=   0.3s\n",
      "[CV 4/5] END alpha=0.001, loss=log_loss, max_iter=30000, penalty=l2;, score=0.720 total time=   0.2s\n",
      "[CV 1/5] END alpha=0.001, loss=log_loss, max_iter=30000, penalty=l1;, score=0.803 total time=   0.2s\n",
      "[CV 3/5] END alpha=0.001, loss=log_loss, max_iter=30000, penalty=l1;, score=0.780 total time=   0.3s\n",
      "[CV 5/5] END alpha=0.001, loss=log_loss, max_iter=30000, penalty=l1;, score=0.801 total time=   0.4s\n"
     ]
    },
    {
     "name": "stdout",
     "output_type": "stream",
     "text": [
      "[CV 2/5] END alpha=0.001, loss=log_loss, max_iter=30000, penalty=elasticnet;, score=0.846 total time=   0.4s\n",
      "[CV 4/5] END alpha=0.001, loss=log_loss, max_iter=30000, penalty=elasticnet;, score=0.855 total time=   0.6s\n",
      "[CV 2/5] END alpha=0.001, loss=modified_huber, max_iter=1000, penalty=l2;, score=0.579 total time=   0.1s\n",
      "[CV 3/5] END alpha=0.001, loss=modified_huber, max_iter=1000, penalty=l2;, score=0.753 total time=   0.3s\n",
      "[CV 5/5] END alpha=0.001, loss=modified_huber, max_iter=1000, penalty=l2;, score=0.772 total time=   0.2s\n",
      "[CV 2/5] END alpha=0.001, loss=modified_huber, max_iter=1000, penalty=l1;, score=0.778 total time=   0.5s\n",
      "[CV 4/5] END alpha=0.001, loss=modified_huber, max_iter=1000, penalty=l1;, score=0.797 total time=   0.3s\n",
      "[CV 1/5] END alpha=0.001, loss=modified_huber, max_iter=1000, penalty=elasticnet;, score=0.843 total time=   0.4s\n",
      "[CV 3/5] END alpha=0.001, loss=modified_huber, max_iter=1000, penalty=elasticnet;, score=0.794 total time=   0.3s\n",
      "[CV 4/5] END alpha=0.001, loss=modified_huber, max_iter=1000, penalty=elasticnet;, score=0.848 total time=   0.5s\n",
      "[CV 2/5] END alpha=0.001, loss=modified_huber, max_iter=10000, penalty=l2;, score=0.465 total time=   0.3s\n",
      "[CV 4/5] END alpha=0.001, loss=modified_huber, max_iter=10000, penalty=l2;, score=0.810 total time=   0.2s\n",
      "[CV 1/5] END alpha=0.001, loss=modified_huber, max_iter=10000, penalty=l1;, score=0.814 total time=   0.3s\n",
      "[CV 3/5] END alpha=0.001, loss=modified_huber, max_iter=10000, penalty=l1;, score=0.780 total time=   0.3s\n",
      "[CV 5/5] END alpha=0.001, loss=modified_huber, max_iter=10000, penalty=l1;, score=0.795 total time=   0.4s\n",
      "[CV 2/5] END alpha=0.001, loss=modified_huber, max_iter=10000, penalty=elasticnet;, score=0.808 total time=   0.3s\n",
      "[CV 3/5] END alpha=0.001, loss=modified_huber, max_iter=10000, penalty=elasticnet;, score=0.514 total time=   0.5s\n",
      "[CV 5/5] END alpha=0.001, loss=modified_huber, max_iter=10000, penalty=elasticnet;, score=0.845 total time=   0.4s\n",
      "[CV 4/5] END alpha=0.001, loss=modified_huber, max_iter=30000, penalty=l2;, score=0.721 total time=   0.2s\n",
      "[CV 5/5] END alpha=0.001, loss=modified_huber, max_iter=30000, penalty=l2;, score=0.735 total time=   0.2s\n",
      "[CV 2/5] END alpha=0.001, loss=modified_huber, max_iter=30000, penalty=l1;, score=0.778 total time=   0.3s\n",
      "[CV 4/5] END alpha=0.001, loss=modified_huber, max_iter=30000, penalty=l1;, score=0.817 total time=   0.4s\n",
      "[CV 1/5] END alpha=0.001, loss=modified_huber, max_iter=30000, penalty=elasticnet;, score=0.849 total time=   0.5s\n",
      "[CV 3/5] END alpha=0.001, loss=modified_huber, max_iter=30000, penalty=elasticnet;, score=0.863 total time=   0.6s\n",
      "[CV 1/5] END alpha=0.001, loss=squared_hinge, max_iter=1000, penalty=l2;, score=0.559 total time=   0.2s\n",
      "[CV 2/5] END alpha=0.001, loss=squared_hinge, max_iter=1000, penalty=l2;, score=0.571 total time=   0.2s\n",
      "[CV 3/5] END alpha=0.001, loss=squared_hinge, max_iter=1000, penalty=l2;, score=0.827 total time=   0.2s\n",
      "[CV 5/5] END alpha=0.001, loss=squared_hinge, max_iter=1000, penalty=l2;, score=0.825 total time=   0.2s\n",
      "[CV 2/5] END alpha=0.001, loss=squared_hinge, max_iter=1000, penalty=l1;, score=0.762 total time=   0.3s\n",
      "[CV 4/5] END alpha=0.001, loss=squared_hinge, max_iter=1000, penalty=l1;, score=0.758 total time=   0.3s\n",
      "[CV 1/5] END alpha=0.001, loss=squared_hinge, max_iter=1000, penalty=elasticnet;, score=0.805 total time=   0.3s\n",
      "[CV 3/5] END alpha=0.001, loss=squared_hinge, max_iter=1000, penalty=elasticnet;, score=0.601 total time=   0.4s\n",
      "[CV 5/5] END alpha=0.001, loss=squared_hinge, max_iter=1000, penalty=elasticnet;, score=0.572 total time=   0.2s\n",
      "[CV 2/5] END alpha=0.001, loss=squared_hinge, max_iter=10000, penalty=l2;, score=0.500 total time=   0.2s\n",
      "[CV 4/5] END alpha=0.001, loss=squared_hinge, max_iter=10000, penalty=l2;, score=0.766 total time=   0.2s\n",
      "[CV 1/5] END alpha=0.001, loss=squared_hinge, max_iter=10000, penalty=l1;, score=0.626 total time=   0.4s\n",
      "[CV 3/5] END alpha=0.001, loss=squared_hinge, max_iter=10000, penalty=l1;, score=0.657 total time=   0.4s\n",
      "[CV 5/5] END alpha=0.001, loss=squared_hinge, max_iter=10000, penalty=l1;, score=0.741 total time=   0.3s\n",
      "[CV 2/5] END alpha=0.001, loss=squared_hinge, max_iter=10000, penalty=elasticnet;, score=0.764 total time=   0.4s\n",
      "[CV 4/5] END alpha=0.001, loss=squared_hinge, max_iter=10000, penalty=elasticnet;, score=0.608 total time=   0.5s\n",
      "[CV 1/5] END alpha=0.001, loss=squared_hinge, max_iter=30000, penalty=l2;, score=0.573 total time=   0.2s\n",
      "[CV 4/5] END alpha=0.001, loss=squared_hinge, max_iter=30000, penalty=l2;, score=0.831 total time=   0.2s\n",
      "[CV 5/5] END alpha=0.001, loss=squared_hinge, max_iter=30000, penalty=l2;, score=0.573 total time=   0.1s\n",
      "[CV 2/5] END alpha=0.001, loss=squared_hinge, max_iter=30000, penalty=l1;, score=0.718 total time=   0.3s\n",
      "[CV 4/5] END alpha=0.001, loss=squared_hinge, max_iter=30000, penalty=l1;, score=0.786 total time=   0.3s\n",
      "[CV 5/5] END alpha=0.001, loss=squared_hinge, max_iter=30000, penalty=l1;, score=0.789 total time=   0.3s\n",
      "[CV 2/5] END alpha=0.001, loss=squared_hinge, max_iter=30000, penalty=elasticnet;, score=0.799 total time=   0.4s\n",
      "[CV 5/5] END alpha=0.001, loss=squared_hinge, max_iter=30000, penalty=elasticnet;, score=0.694 total time=   0.6s\n",
      "[CV 2/5] END alpha=0.001, loss=perceptron, max_iter=1000, penalty=l2;, score=0.469 total time=   0.2s\n",
      "[CV 4/5] END alpha=0.001, loss=perceptron, max_iter=1000, penalty=l2;, score=0.589 total time=   0.2s\n",
      "[CV 1/5] END alpha=0.001, loss=perceptron, max_iter=1000, penalty=l1;, score=0.807 total time=   0.2s\n",
      "[CV 4/5] END alpha=0.001, loss=perceptron, max_iter=1000, penalty=l1;, score=0.806 total time=   0.2s\n",
      "[CV 1/5] END alpha=0.001, loss=perceptron, max_iter=1000, penalty=elasticnet;, score=0.742 total time=   0.2s\n",
      "[CV 2/5] END alpha=0.001, loss=perceptron, max_iter=1000, penalty=elasticnet;, score=0.856 total time=   0.4s\n",
      "[CV 4/5] END alpha=0.001, loss=perceptron, max_iter=1000, penalty=elasticnet;, score=0.719 total time=   0.3s\n",
      "[CV 1/5] END alpha=0.001, loss=perceptron, max_iter=10000, penalty=l2;, score=0.526 total time=   0.1s\n",
      "[CV 3/5] END alpha=0.001, loss=perceptron, max_iter=10000, penalty=l2;, score=0.479 total time=   0.2s\n",
      "[CV 5/5] END alpha=0.001, loss=perceptron, max_iter=10000, penalty=l2;, score=0.576 total time=   0.2s\n",
      "[CV 1/5] END alpha=0.001, loss=perceptron, max_iter=10000, penalty=l1;, score=0.805 total time=   0.2s\n",
      "[CV 3/5] END alpha=0.001, loss=perceptron, max_iter=10000, penalty=l1;, score=0.774 total time=   0.2s\n",
      "[CV 4/5] END alpha=0.001, loss=perceptron, max_iter=10000, penalty=l1;, score=0.799 total time=   0.2s\n",
      "[CV 2/5] END alpha=0.001, loss=perceptron, max_iter=10000, penalty=elasticnet;, score=0.804 total time=   0.2s\n",
      "[CV 3/5] END alpha=0.001, loss=perceptron, max_iter=10000, penalty=elasticnet;, score=0.861 total time=   0.4s\n",
      "[CV 5/5] END alpha=0.001, loss=perceptron, max_iter=10000, penalty=elasticnet;, score=0.851 total time=   0.4s\n",
      "[CV 4/5] END alpha=0.001, loss=perceptron, max_iter=30000, penalty=l2;, score=0.479 total time=   0.2s\n",
      "[CV 1/5] END alpha=0.001, loss=perceptron, max_iter=30000, penalty=l1;, score=0.803 total time=   0.2s\n",
      "[CV 3/5] END alpha=0.001, loss=perceptron, max_iter=30000, penalty=l1;, score=0.780 total time=   0.2s\n",
      "[CV 4/5] END alpha=0.001, loss=perceptron, max_iter=30000, penalty=l1;, score=0.768 total time=   0.2s\n",
      "[CV 2/5] END alpha=0.001, loss=perceptron, max_iter=30000, penalty=elasticnet;, score=0.852 total time=   0.3s\n",
      "[CV 4/5] END alpha=0.001, loss=perceptron, max_iter=30000, penalty=elasticnet;, score=0.856 total time=   0.3s\n",
      "[CV 1/5] END alpha=0.01, loss=hinge, max_iter=1000, penalty=l2;, score=0.593 total time=   0.2s\n",
      "[CV 3/5] END alpha=0.01, loss=hinge, max_iter=1000, penalty=l2;, score=0.611 total time=   0.2s\n",
      "[CV 5/5] END alpha=0.01, loss=hinge, max_iter=1000, penalty=l2;, score=0.499 total time=   0.2s\n",
      "[CV 2/5] END alpha=0.01, loss=hinge, max_iter=1000, penalty=l1;, score=0.778 total time=   0.1s\n",
      "[CV 4/5] END alpha=0.01, loss=hinge, max_iter=1000, penalty=l1;, score=0.792 total time=   0.1s\n",
      "[CV 5/5] END alpha=0.01, loss=hinge, max_iter=1000, penalty=l1;, score=0.800 total time=   0.1s\n"
     ]
    },
    {
     "name": "stdout",
     "output_type": "stream",
     "text": [
      "[CV 1/5] END alpha=0.001, loss=log_loss, max_iter=30000, penalty=elasticnet;, score=0.857 total time=   0.5s\n",
      "[CV 3/5] END alpha=0.001, loss=log_loss, max_iter=30000, penalty=elasticnet;, score=0.463 total time=   0.4s\n",
      "[CV 5/5] END alpha=0.001, loss=log_loss, max_iter=30000, penalty=elasticnet;, score=0.847 total time=   0.3s\n",
      "[CV 1/5] END alpha=0.001, loss=modified_huber, max_iter=1000, penalty=l2;, score=0.774 total time=   0.2s\n",
      "[CV 4/5] END alpha=0.001, loss=modified_huber, max_iter=1000, penalty=l2;, score=0.582 total time=   0.3s\n",
      "[CV 1/5] END alpha=0.001, loss=modified_huber, max_iter=1000, penalty=l1;, score=0.807 total time=   0.5s\n",
      "[CV 3/5] END alpha=0.001, loss=modified_huber, max_iter=1000, penalty=l1;, score=0.788 total time=   0.5s\n",
      "[CV 5/5] END alpha=0.001, loss=modified_huber, max_iter=1000, penalty=l1;, score=0.789 total time=   0.3s\n",
      "[CV 2/5] END alpha=0.001, loss=modified_huber, max_iter=1000, penalty=elasticnet;, score=0.785 total time=   0.4s\n",
      "[CV 5/5] END alpha=0.001, loss=modified_huber, max_iter=1000, penalty=elasticnet;, score=0.576 total time=   0.3s\n",
      "[CV 1/5] END alpha=0.001, loss=modified_huber, max_iter=10000, penalty=l2;, score=0.818 total time=   0.2s\n",
      "[CV 3/5] END alpha=0.001, loss=modified_huber, max_iter=10000, penalty=l2;, score=0.723 total time=   0.3s\n",
      "[CV 5/5] END alpha=0.001, loss=modified_huber, max_iter=10000, penalty=l2;, score=0.641 total time=   0.2s\n",
      "[CV 2/5] END alpha=0.001, loss=modified_huber, max_iter=10000, penalty=l1;, score=0.748 total time=   0.3s\n",
      "[CV 4/5] END alpha=0.001, loss=modified_huber, max_iter=10000, penalty=l1;, score=0.794 total time=   0.4s\n",
      "[CV 1/5] END alpha=0.001, loss=modified_huber, max_iter=10000, penalty=elasticnet;, score=0.832 total time=   0.4s\n",
      "[CV 4/5] END alpha=0.001, loss=modified_huber, max_iter=10000, penalty=elasticnet;, score=0.720 total time=   0.5s\n",
      "[CV 1/5] END alpha=0.001, loss=modified_huber, max_iter=30000, penalty=l2;, score=0.769 total time=   0.2s\n",
      "[CV 2/5] END alpha=0.001, loss=modified_huber, max_iter=30000, penalty=l2;, score=0.615 total time=   0.2s\n",
      "[CV 3/5] END alpha=0.001, loss=modified_huber, max_iter=30000, penalty=l2;, score=0.753 total time=   0.2s\n",
      "[CV 1/5] END alpha=0.001, loss=modified_huber, max_iter=30000, penalty=l1;, score=0.809 total time=   0.4s\n",
      "[CV 3/5] END alpha=0.001, loss=modified_huber, max_iter=30000, penalty=l1;, score=0.778 total time=   0.2s\n",
      "[CV 5/5] END alpha=0.001, loss=modified_huber, max_iter=30000, penalty=l1;, score=0.795 total time=   0.3s\n",
      "[CV 2/5] END alpha=0.001, loss=modified_huber, max_iter=30000, penalty=elasticnet;, score=0.800 total time=   0.4s\n",
      "[CV 4/5] END alpha=0.001, loss=modified_huber, max_iter=30000, penalty=elasticnet;, score=0.861 total time=   0.5s\n",
      "[CV 5/5] END alpha=0.001, loss=modified_huber, max_iter=30000, penalty=elasticnet;, score=0.849 total time=   0.5s\n",
      "[CV 4/5] END alpha=0.001, loss=squared_hinge, max_iter=1000, penalty=l2;, score=0.557 total time=   0.2s\n",
      "[CV 1/5] END alpha=0.001, loss=squared_hinge, max_iter=1000, penalty=l1;, score=0.797 total time=   0.3s\n",
      "[CV 3/5] END alpha=0.001, loss=squared_hinge, max_iter=1000, penalty=l1;, score=0.727 total time=   0.3s\n",
      "[CV 5/5] END alpha=0.001, loss=squared_hinge, max_iter=1000, penalty=l1;, score=0.779 total time=   0.4s\n",
      "[CV 2/5] END alpha=0.001, loss=squared_hinge, max_iter=1000, penalty=elasticnet;, score=0.619 total time=   0.4s\n",
      "[CV 4/5] END alpha=0.001, loss=squared_hinge, max_iter=1000, penalty=elasticnet;, score=0.484 total time=   0.3s\n",
      "[CV 1/5] END alpha=0.001, loss=squared_hinge, max_iter=10000, penalty=l2;, score=0.744 total time=   0.2s\n",
      "[CV 3/5] END alpha=0.001, loss=squared_hinge, max_iter=10000, penalty=l2;, score=0.659 total time=   0.2s\n",
      "[CV 5/5] END alpha=0.001, loss=squared_hinge, max_iter=10000, penalty=l2;, score=0.829 total time=   0.3s\n",
      "[CV 2/5] END alpha=0.001, loss=squared_hinge, max_iter=10000, penalty=l1;, score=0.787 total time=   0.5s\n",
      "[CV 4/5] END alpha=0.001, loss=squared_hinge, max_iter=10000, penalty=l1;, score=0.757 total time=   0.4s\n",
      "[CV 1/5] END alpha=0.001, loss=squared_hinge, max_iter=10000, penalty=elasticnet;, score=0.551 total time=   0.4s\n",
      "[CV 3/5] END alpha=0.001, loss=squared_hinge, max_iter=10000, penalty=elasticnet;, score=0.579 total time=   0.3s\n",
      "[CV 5/5] END alpha=0.001, loss=squared_hinge, max_iter=10000, penalty=elasticnet;, score=0.496 total time=   0.4s\n",
      "[CV 2/5] END alpha=0.001, loss=squared_hinge, max_iter=30000, penalty=l2;, score=0.479 total time=   0.1s\n",
      "[CV 3/5] END alpha=0.001, loss=squared_hinge, max_iter=30000, penalty=l2;, score=0.486 total time=   0.3s\n",
      "[CV 1/5] END alpha=0.001, loss=squared_hinge, max_iter=30000, penalty=l1;, score=0.798 total time=   0.3s\n",
      "[CV 3/5] END alpha=0.001, loss=squared_hinge, max_iter=30000, penalty=l1;, score=0.744 total time=   0.3s\n",
      "[CV 1/5] END alpha=0.001, loss=squared_hinge, max_iter=30000, penalty=elasticnet;, score=0.643 total time=   0.4s\n",
      "[CV 3/5] END alpha=0.001, loss=squared_hinge, max_iter=30000, penalty=elasticnet;, score=0.595 total time=   0.2s\n",
      "[CV 4/5] END alpha=0.001, loss=squared_hinge, max_iter=30000, penalty=elasticnet;, score=0.500 total time=   0.5s\n",
      "[CV 1/5] END alpha=0.001, loss=perceptron, max_iter=1000, penalty=l2;, score=0.812 total time=   0.2s\n",
      "[CV 3/5] END alpha=0.001, loss=perceptron, max_iter=1000, penalty=l2;, score=0.737 total time=   0.2s\n",
      "[CV 5/5] END alpha=0.001, loss=perceptron, max_iter=1000, penalty=l2;, score=0.592 total time=   0.1s\n",
      "[CV 2/5] END alpha=0.001, loss=perceptron, max_iter=1000, penalty=l1;, score=0.789 total time=   0.2s\n",
      "[CV 3/5] END alpha=0.001, loss=perceptron, max_iter=1000, penalty=l1;, score=0.790 total time=   0.2s\n",
      "[CV 5/5] END alpha=0.001, loss=perceptron, max_iter=1000, penalty=l1;, score=0.805 total time=   0.2s\n",
      "[CV 3/5] END alpha=0.001, loss=perceptron, max_iter=1000, penalty=elasticnet;, score=0.865 total time=   0.4s\n",
      "[CV 5/5] END alpha=0.001, loss=perceptron, max_iter=1000, penalty=elasticnet;, score=0.857 total time=   0.4s\n",
      "[CV 2/5] END alpha=0.001, loss=perceptron, max_iter=10000, penalty=l2;, score=0.574 total time=   0.2s\n",
      "[CV 4/5] END alpha=0.001, loss=perceptron, max_iter=10000, penalty=l2;, score=0.568 total time=   0.2s\n",
      "[CV 2/5] END alpha=0.001, loss=perceptron, max_iter=10000, penalty=l1;, score=0.709 total time=   0.4s\n",
      "[CV 5/5] END alpha=0.001, loss=perceptron, max_iter=10000, penalty=l1;, score=0.794 total time=   0.2s\n",
      "[CV 1/5] END alpha=0.001, loss=perceptron, max_iter=10000, penalty=elasticnet;, score=0.858 total time=   0.4s\n",
      "[CV 4/5] END alpha=0.001, loss=perceptron, max_iter=10000, penalty=elasticnet;, score=0.858 total time=   0.3s\n",
      "[CV 1/5] END alpha=0.001, loss=perceptron, max_iter=30000, penalty=l2;, score=0.767 total time=   0.2s\n",
      "[CV 2/5] END alpha=0.001, loss=perceptron, max_iter=30000, penalty=l2;, score=0.613 total time=   0.2s\n",
      "[CV 3/5] END alpha=0.001, loss=perceptron, max_iter=30000, penalty=l2;, score=0.791 total time=   0.2s\n",
      "[CV 5/5] END alpha=0.001, loss=perceptron, max_iter=30000, penalty=l2;, score=0.560 total time=   0.2s\n",
      "[CV 2/5] END alpha=0.001, loss=perceptron, max_iter=30000, penalty=l1;, score=0.794 total time=   0.3s\n",
      "[CV 5/5] END alpha=0.001, loss=perceptron, max_iter=30000, penalty=l1;, score=0.781 total time=   0.1s\n",
      "[CV 1/5] END alpha=0.001, loss=perceptron, max_iter=30000, penalty=elasticnet;, score=0.822 total time=   0.2s\n",
      "[CV 3/5] END alpha=0.001, loss=perceptron, max_iter=30000, penalty=elasticnet;, score=0.861 total time=   0.3s\n",
      "[CV 5/5] END alpha=0.001, loss=perceptron, max_iter=30000, penalty=elasticnet;, score=0.850 total time=   0.3s\n",
      "[CV 2/5] END alpha=0.01, loss=hinge, max_iter=1000, penalty=l2;, score=0.797 total time=   0.2s\n",
      "[CV 4/5] END alpha=0.01, loss=hinge, max_iter=1000, penalty=l2;, score=0.628 total time=   0.2s\n",
      "[CV 1/5] END alpha=0.01, loss=hinge, max_iter=1000, penalty=l1;, score=0.806 total time=   0.2s\n",
      "[CV 3/5] END alpha=0.01, loss=hinge, max_iter=1000, penalty=l1;, score=0.772 total time=   0.1s\n",
      "[CV 1/5] END alpha=0.01, loss=hinge, max_iter=1000, penalty=elasticnet;, score=0.704 total time=   0.1s\n",
      "[CV 3/5] END alpha=0.01, loss=hinge, max_iter=1000, penalty=elasticnet;, score=0.833 total time=   0.2s\n"
     ]
    },
    {
     "name": "stdout",
     "output_type": "stream",
     "text": [
      "[CV 5/5] END alpha=0.01, loss=hinge, max_iter=1000, penalty=elasticnet;, score=0.851 total time=   0.2s\n",
      "[CV 2/5] END alpha=0.01, loss=hinge, max_iter=10000, penalty=l2;, score=0.628 total time=   0.2s\n",
      "[CV 4/5] END alpha=0.01, loss=hinge, max_iter=10000, penalty=l2;, score=0.641 total time=   0.1s\n",
      "[CV 5/5] END alpha=0.01, loss=hinge, max_iter=10000, penalty=l2;, score=0.519 total time=   0.2s\n",
      "[CV 2/5] END alpha=0.01, loss=hinge, max_iter=10000, penalty=l1;, score=0.769 total time=   0.1s\n",
      "[CV 4/5] END alpha=0.01, loss=hinge, max_iter=10000, penalty=l1;, score=0.798 total time=   0.1s\n",
      "[CV 1/5] END alpha=0.01, loss=hinge, max_iter=10000, penalty=elasticnet;, score=0.641 total time=   0.2s\n",
      "[CV 3/5] END alpha=0.01, loss=hinge, max_iter=10000, penalty=elasticnet;, score=0.614 total time=   0.2s\n",
      "[CV 5/5] END alpha=0.01, loss=hinge, max_iter=10000, penalty=elasticnet;, score=0.737 total time=   0.1s\n",
      "[CV 2/5] END alpha=0.01, loss=hinge, max_iter=30000, penalty=l2;, score=0.624 total time=   0.2s\n",
      "[CV 4/5] END alpha=0.01, loss=hinge, max_iter=30000, penalty=l2;, score=0.595 total time=   0.2s\n",
      "[CV 1/5] END alpha=0.01, loss=hinge, max_iter=30000, penalty=l1;, score=0.786 total time=   0.1s\n",
      "[CV 3/5] END alpha=0.01, loss=hinge, max_iter=30000, penalty=l1;, score=0.787 total time=   0.1s\n",
      "[CV 5/5] END alpha=0.01, loss=hinge, max_iter=30000, penalty=l1;, score=0.794 total time=   0.2s\n",
      "[CV 2/5] END alpha=0.01, loss=hinge, max_iter=30000, penalty=elasticnet;, score=0.687 total time=   0.2s\n",
      "[CV 5/5] END alpha=0.01, loss=hinge, max_iter=30000, penalty=elasticnet;, score=0.694 total time=   0.1s\n",
      "[CV 2/5] END alpha=0.01, loss=log_loss, max_iter=1000, penalty=l2;, score=0.681 total time=   0.3s\n",
      "[CV 4/5] END alpha=0.01, loss=log_loss, max_iter=1000, penalty=l2;, score=0.695 total time=   0.3s\n",
      "[CV 5/5] END alpha=0.01, loss=log_loss, max_iter=1000, penalty=l2;, score=0.589 total time=   0.2s\n",
      "[CV 2/5] END alpha=0.01, loss=log_loss, max_iter=1000, penalty=l1;, score=0.766 total time=   0.3s\n",
      "[CV 4/5] END alpha=0.01, loss=log_loss, max_iter=1000, penalty=l1;, score=0.788 total time=   0.1s\n",
      "[CV 5/5] END alpha=0.01, loss=log_loss, max_iter=1000, penalty=l1;, score=0.794 total time=   0.1s\n",
      "[CV 1/5] END alpha=0.01, loss=log_loss, max_iter=1000, penalty=elasticnet;, score=0.850 total time=   0.2s\n",
      "[CV 3/5] END alpha=0.01, loss=log_loss, max_iter=1000, penalty=elasticnet;, score=0.762 total time=   0.2s\n",
      "[CV 5/5] END alpha=0.01, loss=log_loss, max_iter=1000, penalty=elasticnet;, score=0.735 total time=   0.1s\n",
      "[CV 2/5] END alpha=0.01, loss=log_loss, max_iter=10000, penalty=l2;, score=0.823 total time=   0.3s\n",
      "[CV 4/5] END alpha=0.01, loss=log_loss, max_iter=10000, penalty=l2;, score=0.737 total time=   0.3s\n",
      "[CV 1/5] END alpha=0.01, loss=log_loss, max_iter=10000, penalty=l1;, score=0.807 total time=   0.2s\n",
      "[CV 2/5] END alpha=0.01, loss=log_loss, max_iter=10000, penalty=l1;, score=0.786 total time=   0.2s\n",
      "[CV 4/5] END alpha=0.01, loss=log_loss, max_iter=10000, penalty=l1;, score=0.778 total time=   0.1s\n",
      "[CV 5/5] END alpha=0.01, loss=log_loss, max_iter=10000, penalty=l1;, score=0.787 total time=   0.2s\n",
      "[CV 2/5] END alpha=0.01, loss=log_loss, max_iter=10000, penalty=elasticnet;, score=0.839 total time=   0.2s\n",
      "[CV 5/5] END alpha=0.01, loss=log_loss, max_iter=10000, penalty=elasticnet;, score=0.782 total time=   0.2s\n",
      "[CV 2/5] END alpha=0.01, loss=log_loss, max_iter=30000, penalty=l2;, score=0.799 total time=   0.4s\n",
      "[CV 4/5] END alpha=0.01, loss=log_loss, max_iter=30000, penalty=l2;, score=0.847 total time=   0.5s\n",
      "[CV 2/5] END alpha=0.01, loss=log_loss, max_iter=30000, penalty=l1;, score=0.764 total time=   0.2s\n",
      "[CV 3/5] END alpha=0.01, loss=log_loss, max_iter=30000, penalty=l1;, score=0.778 total time=   0.2s\n",
      "[CV 5/5] END alpha=0.01, loss=log_loss, max_iter=30000, penalty=l1;, score=0.791 total time=   0.2s\n",
      "[CV 2/5] END alpha=0.01, loss=log_loss, max_iter=30000, penalty=elasticnet;, score=0.725 total time=   0.2s\n",
      "[CV 4/5] END alpha=0.01, loss=log_loss, max_iter=30000, penalty=elasticnet;, score=0.859 total time=   0.3s\n",
      "[CV 2/5] END alpha=0.01, loss=modified_huber, max_iter=1000, penalty=l2;, score=0.705 total time=   0.2s\n",
      "[CV 4/5] END alpha=0.01, loss=modified_huber, max_iter=1000, penalty=l2;, score=0.799 total time=   0.1s\n",
      "[CV 5/5] END alpha=0.01, loss=modified_huber, max_iter=1000, penalty=l2;, score=0.577 total time=   0.2s\n",
      "[CV 2/5] END alpha=0.01, loss=modified_huber, max_iter=1000, penalty=l1;, score=0.784 total time=   0.3s\n",
      "[CV 3/5] END alpha=0.01, loss=modified_huber, max_iter=1000, penalty=l1;, score=0.776 total time=   0.2s\n",
      "[CV 1/5] END alpha=0.01, loss=modified_huber, max_iter=1000, penalty=elasticnet;, score=0.833 total time=   0.3s\n",
      "[CV 4/5] END alpha=0.01, loss=modified_huber, max_iter=1000, penalty=elasticnet;, score=0.861 total time=   0.4s\n",
      "[CV 1/5] END alpha=0.01, loss=modified_huber, max_iter=10000, penalty=l2;, score=0.580 total time=   0.1s\n",
      "[CV 2/5] END alpha=0.01, loss=modified_huber, max_iter=10000, penalty=l2;, score=0.661 total time=   0.2s\n",
      "[CV 4/5] END alpha=0.01, loss=modified_huber, max_iter=10000, penalty=l2;, score=0.491 total time=   0.2s\n",
      "[CV 1/5] END alpha=0.01, loss=modified_huber, max_iter=10000, penalty=l1;, score=0.805 total time=   0.2s\n",
      "[CV 3/5] END alpha=0.01, loss=modified_huber, max_iter=10000, penalty=l1;, score=0.786 total time=   0.2s\n",
      "[CV 1/5] END alpha=0.01, loss=modified_huber, max_iter=10000, penalty=elasticnet;, score=0.582 total time=   0.2s\n",
      "[CV 2/5] END alpha=0.01, loss=modified_huber, max_iter=10000, penalty=elasticnet;, score=0.824 total time=   0.2s\n",
      "[CV 4/5] END alpha=0.01, loss=modified_huber, max_iter=10000, penalty=elasticnet;, score=0.857 total time=   0.2s\n",
      "[CV 2/5] END alpha=0.01, loss=modified_huber, max_iter=30000, penalty=l2;, score=0.707 total time=   0.2s\n",
      "[CV 4/5] END alpha=0.01, loss=modified_huber, max_iter=30000, penalty=l2;, score=0.638 total time=   0.2s\n",
      "[CV 1/5] END alpha=0.01, loss=modified_huber, max_iter=30000, penalty=l1;, score=0.796 total time=   0.2s\n",
      "[CV 3/5] END alpha=0.01, loss=modified_huber, max_iter=30000, penalty=l1;, score=0.771 total time=   0.2s\n",
      "[CV 5/5] END alpha=0.01, loss=modified_huber, max_iter=30000, penalty=l1;, score=0.805 total time=   0.2s\n",
      "[CV 2/5] END alpha=0.01, loss=modified_huber, max_iter=30000, penalty=elasticnet;, score=0.848 total time=   0.5s\n",
      "[CV 5/5] END alpha=0.01, loss=modified_huber, max_iter=30000, penalty=elasticnet;, score=0.792 total time=   0.2s\n",
      "[CV 1/5] END alpha=0.01, loss=squared_hinge, max_iter=1000, penalty=l2;, score=0.697 total time=   0.2s\n",
      "[CV 3/5] END alpha=0.01, loss=squared_hinge, max_iter=1000, penalty=l2;, score=0.624 total time=   0.2s\n",
      "[CV 1/5] END alpha=0.01, loss=squared_hinge, max_iter=1000, penalty=l1;, score=0.798 total time=   0.3s\n",
      "[CV 3/5] END alpha=0.01, loss=squared_hinge, max_iter=1000, penalty=l1;, score=0.770 total time=   0.2s\n",
      "[CV 4/5] END alpha=0.01, loss=squared_hinge, max_iter=1000, penalty=l1;, score=0.729 total time=   0.3s\n",
      "[CV 1/5] END alpha=0.01, loss=squared_hinge, max_iter=1000, penalty=elasticnet;, score=0.578 total time=   0.4s\n",
      "[CV 3/5] END alpha=0.01, loss=squared_hinge, max_iter=1000, penalty=elasticnet;, score=0.819 total time=   0.4s\n",
      "[CV 1/5] END alpha=0.01, loss=squared_hinge, max_iter=10000, penalty=l2;, score=0.590 total time=   0.2s\n",
      "[CV 2/5] END alpha=0.01, loss=squared_hinge, max_iter=10000, penalty=l2;, score=0.593 total time=   0.1s\n",
      "[CV 3/5] END alpha=0.01, loss=squared_hinge, max_iter=10000, penalty=l2;, score=0.807 total time=   0.2s\n",
      "[CV 4/5] END alpha=0.01, loss=squared_hinge, max_iter=10000, penalty=l2;, score=0.482 total time=   0.2s\n",
      "[CV 2/5] END alpha=0.01, loss=squared_hinge, max_iter=10000, penalty=l1;, score=0.672 total time=   0.3s\n",
      "[CV 4/5] END alpha=0.01, loss=squared_hinge, max_iter=10000, penalty=l1;, score=0.681 total time=   0.3s\n",
      "[CV 1/5] END alpha=0.01, loss=squared_hinge, max_iter=10000, penalty=elasticnet;, score=0.675 total time=   0.7s\n",
      "[CV 3/5] END alpha=0.01, loss=squared_hinge, max_iter=10000, penalty=elasticnet;, score=0.741 total time=   0.5s\n",
      "[CV 5/5] END alpha=0.01, loss=squared_hinge, max_iter=10000, penalty=elasticnet;, score=0.618 total time=   0.7s\n"
     ]
    },
    {
     "name": "stdout",
     "output_type": "stream",
     "text": [
      "[CV 2/5] END alpha=0.01, loss=hinge, max_iter=1000, penalty=elasticnet;, score=0.462 total time=   0.2s\n",
      "[CV 4/5] END alpha=0.01, loss=hinge, max_iter=1000, penalty=elasticnet;, score=0.446 total time=   0.1s\n",
      "[CV 1/5] END alpha=0.01, loss=hinge, max_iter=10000, penalty=l2;, score=0.519 total time=   0.2s\n",
      "[CV 3/5] END alpha=0.01, loss=hinge, max_iter=10000, penalty=l2;, score=0.611 total time=   0.2s\n",
      "[CV 1/5] END alpha=0.01, loss=hinge, max_iter=10000, penalty=l1;, score=0.804 total time=   0.1s\n",
      "[CV 3/5] END alpha=0.01, loss=hinge, max_iter=10000, penalty=l1;, score=0.775 total time=   0.2s\n",
      "[CV 5/5] END alpha=0.01, loss=hinge, max_iter=10000, penalty=l1;, score=0.764 total time=   0.2s\n",
      "[CV 2/5] END alpha=0.01, loss=hinge, max_iter=10000, penalty=elasticnet;, score=0.644 total time=   0.2s\n",
      "[CV 4/5] END alpha=0.01, loss=hinge, max_iter=10000, penalty=elasticnet;, score=0.847 total time=   0.2s\n",
      "[CV 1/5] END alpha=0.01, loss=hinge, max_iter=30000, penalty=l2;, score=0.596 total time=   0.1s\n",
      "[CV 3/5] END alpha=0.01, loss=hinge, max_iter=30000, penalty=l2;, score=0.635 total time=   0.2s\n",
      "[CV 5/5] END alpha=0.01, loss=hinge, max_iter=30000, penalty=l2;, score=0.575 total time=   0.2s\n",
      "[CV 2/5] END alpha=0.01, loss=hinge, max_iter=30000, penalty=l1;, score=0.773 total time=   0.1s\n",
      "[CV 4/5] END alpha=0.01, loss=hinge, max_iter=30000, penalty=l1;, score=0.795 total time=   0.1s\n",
      "[CV 1/5] END alpha=0.01, loss=hinge, max_iter=30000, penalty=elasticnet;, score=0.645 total time=   0.1s\n",
      "[CV 3/5] END alpha=0.01, loss=hinge, max_iter=30000, penalty=elasticnet;, score=0.727 total time=   0.2s\n",
      "[CV 4/5] END alpha=0.01, loss=hinge, max_iter=30000, penalty=elasticnet;, score=0.542 total time=   0.1s\n",
      "[CV 1/5] END alpha=0.01, loss=log_loss, max_iter=1000, penalty=l2;, score=0.569 total time=   0.2s\n",
      "[CV 3/5] END alpha=0.01, loss=log_loss, max_iter=1000, penalty=l2;, score=0.734 total time=   0.4s\n",
      "[CV 1/5] END alpha=0.01, loss=log_loss, max_iter=1000, penalty=l1;, score=0.820 total time=   0.3s\n",
      "[CV 3/5] END alpha=0.01, loss=log_loss, max_iter=1000, penalty=l1;, score=0.777 total time=   0.3s\n",
      "[CV 2/5] END alpha=0.01, loss=log_loss, max_iter=1000, penalty=elasticnet;, score=0.757 total time=   0.2s\n",
      "[CV 4/5] END alpha=0.01, loss=log_loss, max_iter=1000, penalty=elasticnet;, score=0.856 total time=   0.3s\n",
      "[CV 1/5] END alpha=0.01, loss=log_loss, max_iter=10000, penalty=l2;, score=0.835 total time=   0.3s\n",
      "[CV 3/5] END alpha=0.01, loss=log_loss, max_iter=10000, penalty=l2;, score=0.799 total time=   0.3s\n",
      "[CV 5/5] END alpha=0.01, loss=log_loss, max_iter=10000, penalty=l2;, score=0.786 total time=   0.3s\n",
      "[CV 3/5] END alpha=0.01, loss=log_loss, max_iter=10000, penalty=l1;, score=0.786 total time=   0.3s\n",
      "[CV 1/5] END alpha=0.01, loss=log_loss, max_iter=10000, penalty=elasticnet;, score=0.750 total time=   0.1s\n",
      "[CV 3/5] END alpha=0.01, loss=log_loss, max_iter=10000, penalty=elasticnet;, score=0.841 total time=   0.2s\n",
      "[CV 4/5] END alpha=0.01, loss=log_loss, max_iter=10000, penalty=elasticnet;, score=0.841 total time=   0.2s\n",
      "[CV 1/5] END alpha=0.01, loss=log_loss, max_iter=30000, penalty=l2;, score=0.590 total time=   0.2s\n",
      "[CV 3/5] END alpha=0.01, loss=log_loss, max_iter=30000, penalty=l2;, score=0.617 total time=   0.3s\n",
      "[CV 5/5] END alpha=0.01, loss=log_loss, max_iter=30000, penalty=l2;, score=0.750 total time=   0.3s\n",
      "[CV 1/5] END alpha=0.01, loss=log_loss, max_iter=30000, penalty=l1;, score=0.806 total time=   0.3s\n",
      "[CV 4/5] END alpha=0.01, loss=log_loss, max_iter=30000, penalty=l1;, score=0.806 total time=   0.2s\n",
      "[CV 1/5] END alpha=0.01, loss=log_loss, max_iter=30000, penalty=elasticnet;, score=0.706 total time=   0.2s\n",
      "[CV 3/5] END alpha=0.01, loss=log_loss, max_iter=30000, penalty=elasticnet;, score=0.848 total time=   0.2s\n",
      "[CV 5/5] END alpha=0.01, loss=log_loss, max_iter=30000, penalty=elasticnet;, score=0.852 total time=   0.2s\n",
      "[CV 1/5] END alpha=0.01, loss=modified_huber, max_iter=1000, penalty=l2;, score=0.795 total time=   0.1s\n",
      "[CV 3/5] END alpha=0.01, loss=modified_huber, max_iter=1000, penalty=l2;, score=0.478 total time=   0.2s\n",
      "[CV 1/5] END alpha=0.01, loss=modified_huber, max_iter=1000, penalty=l1;, score=0.811 total time=   0.5s\n",
      "[CV 4/5] END alpha=0.01, loss=modified_huber, max_iter=1000, penalty=l1;, score=0.797 total time=   0.2s\n",
      "[CV 5/5] END alpha=0.01, loss=modified_huber, max_iter=1000, penalty=l1;, score=0.800 total time=   0.1s\n",
      "[CV 2/5] END alpha=0.01, loss=modified_huber, max_iter=1000, penalty=elasticnet;, score=0.769 total time=   0.2s\n",
      "[CV 3/5] END alpha=0.01, loss=modified_huber, max_iter=1000, penalty=elasticnet;, score=0.782 total time=   0.3s\n",
      "[CV 5/5] END alpha=0.01, loss=modified_huber, max_iter=1000, penalty=elasticnet;, score=0.850 total time=   0.2s\n",
      "[CV 3/5] END alpha=0.01, loss=modified_huber, max_iter=10000, penalty=l2;, score=0.834 total time=   0.3s\n",
      "[CV 5/5] END alpha=0.01, loss=modified_huber, max_iter=10000, penalty=l2;, score=0.545 total time=   0.2s\n",
      "[CV 2/5] END alpha=0.01, loss=modified_huber, max_iter=10000, penalty=l1;, score=0.791 total time=   0.2s\n",
      "[CV 4/5] END alpha=0.01, loss=modified_huber, max_iter=10000, penalty=l1;, score=0.795 total time=   0.1s\n",
      "[CV 5/5] END alpha=0.01, loss=modified_huber, max_iter=10000, penalty=l1;, score=0.807 total time=   0.2s\n",
      "[CV 3/5] END alpha=0.01, loss=modified_huber, max_iter=10000, penalty=elasticnet;, score=0.840 total time=   0.3s\n",
      "[CV 5/5] END alpha=0.01, loss=modified_huber, max_iter=10000, penalty=elasticnet;, score=0.498 total time=   0.2s\n",
      "[CV 1/5] END alpha=0.01, loss=modified_huber, max_iter=30000, penalty=l2;, score=0.614 total time=   0.2s\n",
      "[CV 3/5] END alpha=0.01, loss=modified_huber, max_iter=30000, penalty=l2;, score=0.813 total time=   0.2s\n",
      "[CV 5/5] END alpha=0.01, loss=modified_huber, max_iter=30000, penalty=l2;, score=0.735 total time=   0.2s\n",
      "[CV 2/5] END alpha=0.01, loss=modified_huber, max_iter=30000, penalty=l1;, score=0.792 total time=   0.2s\n",
      "[CV 4/5] END alpha=0.01, loss=modified_huber, max_iter=30000, penalty=l1;, score=0.752 total time=   0.1s\n",
      "[CV 1/5] END alpha=0.01, loss=modified_huber, max_iter=30000, penalty=elasticnet;, score=0.859 total time=   0.3s\n",
      "[CV 3/5] END alpha=0.01, loss=modified_huber, max_iter=30000, penalty=elasticnet;, score=0.828 total time=   0.4s\n",
      "[CV 4/5] END alpha=0.01, loss=modified_huber, max_iter=30000, penalty=elasticnet;, score=0.620 total time=   0.3s\n",
      "[CV 2/5] END alpha=0.01, loss=squared_hinge, max_iter=1000, penalty=l2;, score=0.525 total time=   0.1s\n",
      "[CV 4/5] END alpha=0.01, loss=squared_hinge, max_iter=1000, penalty=l2;, score=0.568 total time=   0.1s\n",
      "[CV 5/5] END alpha=0.01, loss=squared_hinge, max_iter=1000, penalty=l2;, score=0.635 total time=   0.2s\n",
      "[CV 2/5] END alpha=0.01, loss=squared_hinge, max_iter=1000, penalty=l1;, score=0.768 total time=   0.4s\n",
      "[CV 5/5] END alpha=0.01, loss=squared_hinge, max_iter=1000, penalty=l1;, score=0.783 total time=   0.3s\n",
      "[CV 2/5] END alpha=0.01, loss=squared_hinge, max_iter=1000, penalty=elasticnet;, score=0.781 total time=   0.5s\n",
      "[CV 4/5] END alpha=0.01, loss=squared_hinge, max_iter=1000, penalty=elasticnet;, score=0.569 total time=   0.3s\n",
      "[CV 5/5] END alpha=0.01, loss=squared_hinge, max_iter=1000, penalty=elasticnet;, score=0.807 total time=   0.5s\n",
      "[CV 5/5] END alpha=0.01, loss=squared_hinge, max_iter=10000, penalty=l2;, score=0.462 total time=   0.2s\n",
      "[CV 1/5] END alpha=0.01, loss=squared_hinge, max_iter=10000, penalty=l1;, score=0.770 total time=   0.3s\n",
      "[CV 3/5] END alpha=0.01, loss=squared_hinge, max_iter=10000, penalty=l1;, score=0.776 total time=   0.3s\n",
      "[CV 5/5] END alpha=0.01, loss=squared_hinge, max_iter=10000, penalty=l1;, score=0.739 total time=   0.6s\n",
      "[CV 2/5] END alpha=0.01, loss=squared_hinge, max_iter=10000, penalty=elasticnet;, score=0.503 total time=   0.4s\n",
      "[CV 4/5] END alpha=0.01, loss=squared_hinge, max_iter=10000, penalty=elasticnet;, score=0.810 total time=   0.7s\n",
      "[CV 1/5] END alpha=0.01, loss=squared_hinge, max_iter=30000, penalty=l2;, score=0.619 total time=   0.3s\n",
      "[CV 2/5] END alpha=0.01, loss=squared_hinge, max_iter=30000, penalty=l2;, score=0.813 total time=   0.2s\n",
      "[CV 4/5] END alpha=0.01, loss=squared_hinge, max_iter=30000, penalty=l2;, score=0.721 total time=   0.2s\n"
     ]
    },
    {
     "name": "stdout",
     "output_type": "stream",
     "text": [
      "[CV 3/5] END alpha=0.01, loss=squared_hinge, max_iter=30000, penalty=l2;, score=0.472 total time=   0.2s\n",
      "[CV 5/5] END alpha=0.01, loss=squared_hinge, max_iter=30000, penalty=l2;, score=0.577 total time=   0.2s\n",
      "[CV 2/5] END alpha=0.01, loss=squared_hinge, max_iter=30000, penalty=l1;, score=0.755 total time=   0.4s\n",
      "[CV 4/5] END alpha=0.01, loss=squared_hinge, max_iter=30000, penalty=l1;, score=0.755 total time=   0.3s\n",
      "[CV 1/5] END alpha=0.01, loss=squared_hinge, max_iter=30000, penalty=elasticnet;, score=0.558 total time=   0.3s\n",
      "[CV 3/5] END alpha=0.01, loss=squared_hinge, max_iter=30000, penalty=elasticnet;, score=0.527 total time=   0.4s\n",
      "[CV 5/5] END alpha=0.01, loss=squared_hinge, max_iter=30000, penalty=elasticnet;, score=0.573 total time=   0.6s\n",
      "[CV 3/5] END alpha=0.01, loss=perceptron, max_iter=1000, penalty=l2;, score=0.480 total time=   0.2s\n",
      "[CV 5/5] END alpha=0.01, loss=perceptron, max_iter=1000, penalty=l2;, score=0.588 total time=   0.2s\n",
      "[CV 2/5] END alpha=0.01, loss=perceptron, max_iter=1000, penalty=l1;, score=0.746 total time=   0.1s\n",
      "[CV 4/5] END alpha=0.01, loss=perceptron, max_iter=1000, penalty=l1;, score=0.792 total time=   0.1s\n",
      "[CV 2/5] END alpha=0.01, loss=perceptron, max_iter=1000, penalty=elasticnet;, score=0.808 total time=   0.2s\n",
      "[CV 3/5] END alpha=0.01, loss=perceptron, max_iter=1000, penalty=elasticnet;, score=0.517 total time=   0.1s\n",
      "[CV 5/5] END alpha=0.01, loss=perceptron, max_iter=1000, penalty=elasticnet;, score=0.779 total time=   0.1s\n",
      "[CV 2/5] END alpha=0.01, loss=perceptron, max_iter=10000, penalty=l2;, score=0.661 total time=   0.2s\n",
      "[CV 4/5] END alpha=0.01, loss=perceptron, max_iter=10000, penalty=l2;, score=0.608 total time=   0.3s\n",
      "[CV 1/5] END alpha=0.01, loss=perceptron, max_iter=10000, penalty=l1;, score=0.800 total time=   0.1s\n",
      "[CV 3/5] END alpha=0.01, loss=perceptron, max_iter=10000, penalty=l1;, score=0.771 total time=   0.3s\n",
      "[CV 4/5] END alpha=0.01, loss=perceptron, max_iter=10000, penalty=l1;, score=0.797 total time=   0.1s\n",
      "[CV 5/5] END alpha=0.01, loss=perceptron, max_iter=10000, penalty=l1;, score=0.796 total time=   0.1s\n",
      "[CV 2/5] END alpha=0.01, loss=perceptron, max_iter=10000, penalty=elasticnet;, score=0.744 total time=   0.2s\n",
      "[CV 4/5] END alpha=0.01, loss=perceptron, max_iter=10000, penalty=elasticnet;, score=0.856 total time=   0.2s\n",
      "[CV 1/5] END alpha=0.01, loss=perceptron, max_iter=30000, penalty=l2;, score=0.593 total time=   0.2s\n",
      "[CV 3/5] END alpha=0.01, loss=perceptron, max_iter=30000, penalty=l2;, score=0.571 total time=   0.2s\n",
      "[CV 5/5] END alpha=0.01, loss=perceptron, max_iter=30000, penalty=l2;, score=0.568 total time=   0.2s\n",
      "[CV 3/5] END alpha=0.01, loss=perceptron, max_iter=30000, penalty=l1;, score=0.762 total time=   0.2s\n",
      "[CV 5/5] END alpha=0.01, loss=perceptron, max_iter=30000, penalty=l1;, score=0.796 total time=   0.1s\n",
      "[CV 2/5] END alpha=0.01, loss=perceptron, max_iter=30000, penalty=elasticnet;, score=0.680 total time=   0.2s\n",
      "[CV 4/5] END alpha=0.01, loss=perceptron, max_iter=30000, penalty=elasticnet;, score=0.702 total time=   0.1s\n",
      "[CV 5/5] END alpha=0.01, loss=perceptron, max_iter=30000, penalty=elasticnet;, score=0.770 total time=   0.1s\n",
      "[CV 2/5] END alpha=0.1, loss=hinge, max_iter=1000, penalty=l2;, score=0.645 total time=   0.1s\n",
      "[CV 4/5] END alpha=0.1, loss=hinge, max_iter=1000, penalty=l2;, score=0.654 total time=   0.2s\n",
      "[CV 1/5] END alpha=0.1, loss=hinge, max_iter=1000, penalty=l1;, score=0.720 total time=   0.1s\n",
      "[CV 3/5] END alpha=0.1, loss=hinge, max_iter=1000, penalty=l1;, score=0.525 total time=   0.1s\n",
      "[CV 5/5] END alpha=0.1, loss=hinge, max_iter=1000, penalty=l1;, score=0.706 total time=   0.2s\n",
      "[CV 2/5] END alpha=0.1, loss=hinge, max_iter=1000, penalty=elasticnet;, score=0.701 total time=   0.2s\n",
      "[CV 4/5] END alpha=0.1, loss=hinge, max_iter=1000, penalty=elasticnet;, score=0.705 total time=   0.2s\n",
      "[CV 1/5] END alpha=0.1, loss=hinge, max_iter=10000, penalty=l2;, score=0.614 total time=   0.2s\n",
      "[CV 3/5] END alpha=0.1, loss=hinge, max_iter=10000, penalty=l2;, score=0.817 total time=   0.3s\n",
      "[CV 5/5] END alpha=0.1, loss=hinge, max_iter=10000, penalty=l2;, score=0.577 total time=   0.1s\n",
      "[CV 1/5] END alpha=0.1, loss=hinge, max_iter=10000, penalty=l1;, score=0.673 total time=   0.1s\n",
      "[CV 2/5] END alpha=0.1, loss=hinge, max_iter=10000, penalty=l1;, score=0.600 total time=   0.3s\n",
      "[CV 5/5] END alpha=0.1, loss=hinge, max_iter=10000, penalty=l1;, score=0.683 total time=   0.3s\n",
      "[CV 3/5] END alpha=0.1, loss=hinge, max_iter=10000, penalty=elasticnet;, score=0.469 total time=   0.2s\n",
      "[CV 5/5] END alpha=0.1, loss=hinge, max_iter=10000, penalty=elasticnet;, score=0.449 total time=   0.2s\n",
      "[CV 2/5] END alpha=0.1, loss=hinge, max_iter=30000, penalty=l2;, score=0.651 total time=   0.2s\n",
      "[CV 4/5] END alpha=0.1, loss=hinge, max_iter=30000, penalty=l2;, score=0.567 total time=   0.1s\n",
      "[CV 1/5] END alpha=0.1, loss=hinge, max_iter=30000, penalty=l1;, score=0.574 total time=   0.6s\n",
      "[CV 5/5] END alpha=0.1, loss=hinge, max_iter=30000, penalty=l1;, score=0.586 total time=   0.1s\n",
      "[CV 1/5] END alpha=0.1, loss=hinge, max_iter=30000, penalty=elasticnet;, score=0.688 total time=   0.2s\n",
      "[CV 3/5] END alpha=0.1, loss=hinge, max_iter=30000, penalty=elasticnet;, score=0.738 total time=   0.2s\n",
      "[CV 5/5] END alpha=0.1, loss=hinge, max_iter=30000, penalty=elasticnet;, score=0.833 total time=   0.4s\n",
      "[CV 2/5] END alpha=0.1, loss=log_loss, max_iter=1000, penalty=l2;, score=0.500 total time=   0.3s\n",
      "[CV 5/5] END alpha=0.1, loss=log_loss, max_iter=1000, penalty=l2;, score=0.745 total time=   0.2s\n",
      "[CV 1/5] END alpha=0.1, loss=log_loss, max_iter=1000, penalty=l1;, score=0.756 total time=   0.4s\n",
      "[CV 3/5] END alpha=0.1, loss=log_loss, max_iter=1000, penalty=l1;, score=0.743 total time=   0.5s\n",
      "[CV 1/5] END alpha=0.1, loss=log_loss, max_iter=1000, penalty=elasticnet;, score=0.695 total time=   0.3s\n",
      "[CV 3/5] END alpha=0.1, loss=log_loss, max_iter=1000, penalty=elasticnet;, score=0.791 total time=   0.2s\n",
      "[CV 5/5] END alpha=0.1, loss=log_loss, max_iter=1000, penalty=elasticnet;, score=0.591 total time=   0.2s\n",
      "[CV 2/5] END alpha=0.1, loss=log_loss, max_iter=10000, penalty=l2;, score=0.583 total time=   0.2s\n",
      "[CV 3/5] END alpha=0.1, loss=log_loss, max_iter=10000, penalty=l2;, score=0.595 total time=   0.2s\n",
      "[CV 5/5] END alpha=0.1, loss=log_loss, max_iter=10000, penalty=l2;, score=0.665 total time=   0.5s\n",
      "[CV 3/5] END alpha=0.1, loss=log_loss, max_iter=10000, penalty=l1;, score=0.537 total time=   0.5s\n",
      "[CV 5/5] END alpha=0.1, loss=log_loss, max_iter=10000, penalty=l1;, score=0.761 total time=   0.5s\n",
      "[CV 4/5] END alpha=0.1, loss=log_loss, max_iter=10000, penalty=elasticnet;, score=0.794 total time=   0.2s\n",
      "[CV 5/5] END alpha=0.1, loss=log_loss, max_iter=10000, penalty=elasticnet;, score=0.753 total time=   0.2s\n",
      "[CV 2/5] END alpha=0.1, loss=log_loss, max_iter=30000, penalty=l2;, score=0.530 total time=   0.3s\n",
      "[CV 4/5] END alpha=0.1, loss=log_loss, max_iter=30000, penalty=l2;, score=0.601 total time=   0.2s\n",
      "[CV 1/5] END alpha=0.1, loss=log_loss, max_iter=30000, penalty=l1;, score=0.688 total time=   0.3s\n",
      "[CV 2/5] END alpha=0.1, loss=log_loss, max_iter=30000, penalty=l1;, score=0.536 total time=   0.1s\n",
      "[CV 4/5] END alpha=0.1, loss=log_loss, max_iter=30000, penalty=l1;, score=0.446 total time=   0.2s\n",
      "[CV 5/5] END alpha=0.1, loss=log_loss, max_iter=30000, penalty=l1;, score=0.748 total time=   0.3s\n",
      "[CV 3/5] END alpha=0.1, loss=log_loss, max_iter=30000, penalty=elasticnet;, score=0.452 total time=   0.1s\n",
      "[CV 4/5] END alpha=0.1, loss=log_loss, max_iter=30000, penalty=elasticnet;, score=0.816 total time=   0.2s\n",
      "[CV 1/5] END alpha=0.1, loss=modified_huber, max_iter=1000, penalty=l2;, score=0.620 total time=   0.2s\n",
      "[CV 3/5] END alpha=0.1, loss=modified_huber, max_iter=1000, penalty=l2;, score=0.565 total time=   0.2s\n",
      "[CV 5/5] END alpha=0.1, loss=modified_huber, max_iter=1000, penalty=l2;, score=0.586 total time=   0.4s\n",
      "[CV 2/5] END alpha=0.1, loss=modified_huber, max_iter=1000, penalty=l1;, score=0.757 total time=   0.3s\n",
      "[CV 4/5] END alpha=0.1, loss=modified_huber, max_iter=1000, penalty=l1;, score=0.794 total time=   0.1s\n",
      "[CV 1/5] END alpha=0.1, loss=modified_huber, max_iter=1000, penalty=elasticnet;, score=0.699 total time=   0.1s\n"
     ]
    },
    {
     "name": "stdout",
     "output_type": "stream",
     "text": [
      "[CV 1/5] END alpha=0.01, loss=squared_hinge, max_iter=30000, penalty=l1;, score=0.745 total time=   0.4s\n",
      "[CV 3/5] END alpha=0.01, loss=squared_hinge, max_iter=30000, penalty=l1;, score=0.770 total time=   0.3s\n",
      "[CV 5/5] END alpha=0.01, loss=squared_hinge, max_iter=30000, penalty=l1;, score=0.707 total time=   0.3s\n",
      "[CV 2/5] END alpha=0.01, loss=squared_hinge, max_iter=30000, penalty=elasticnet;, score=0.741 total time=   0.4s\n",
      "[CV 4/5] END alpha=0.01, loss=squared_hinge, max_iter=30000, penalty=elasticnet;, score=0.516 total time=   0.3s\n",
      "[CV 1/5] END alpha=0.01, loss=perceptron, max_iter=1000, penalty=l2;, score=0.529 total time=   0.2s\n",
      "[CV 2/5] END alpha=0.01, loss=perceptron, max_iter=1000, penalty=l2;, score=0.819 total time=   0.2s\n",
      "[CV 4/5] END alpha=0.01, loss=perceptron, max_iter=1000, penalty=l2;, score=0.688 total time=   0.2s\n",
      "[CV 1/5] END alpha=0.01, loss=perceptron, max_iter=1000, penalty=l1;, score=0.793 total time=   0.1s\n",
      "[CV 3/5] END alpha=0.01, loss=perceptron, max_iter=1000, penalty=l1;, score=0.775 total time=   0.1s\n",
      "[CV 5/5] END alpha=0.01, loss=perceptron, max_iter=1000, penalty=l1;, score=0.795 total time=   0.1s\n",
      "[CV 1/5] END alpha=0.01, loss=perceptron, max_iter=1000, penalty=elasticnet;, score=0.847 total time=   0.2s\n",
      "[CV 4/5] END alpha=0.01, loss=perceptron, max_iter=1000, penalty=elasticnet;, score=0.502 total time=   0.1s\n",
      "[CV 1/5] END alpha=0.01, loss=perceptron, max_iter=10000, penalty=l2;, score=0.569 total time=   0.3s\n",
      "[CV 3/5] END alpha=0.01, loss=perceptron, max_iter=10000, penalty=l2;, score=0.598 total time=   0.2s\n",
      "[CV 5/5] END alpha=0.01, loss=perceptron, max_iter=10000, penalty=l2;, score=0.692 total time=   0.2s\n",
      "[CV 2/5] END alpha=0.01, loss=perceptron, max_iter=10000, penalty=l1;, score=0.779 total time=   0.5s\n",
      "[CV 1/5] END alpha=0.01, loss=perceptron, max_iter=10000, penalty=elasticnet;, score=0.843 total time=   0.2s\n",
      "[CV 3/5] END alpha=0.01, loss=perceptron, max_iter=10000, penalty=elasticnet;, score=0.448 total time=   0.2s\n",
      "[CV 5/5] END alpha=0.01, loss=perceptron, max_iter=10000, penalty=elasticnet;, score=0.682 total time=   0.2s\n",
      "[CV 2/5] END alpha=0.01, loss=perceptron, max_iter=30000, penalty=l2;, score=0.567 total time=   0.2s\n",
      "[CV 4/5] END alpha=0.01, loss=perceptron, max_iter=30000, penalty=l2;, score=0.545 total time=   0.2s\n",
      "[CV 1/5] END alpha=0.01, loss=perceptron, max_iter=30000, penalty=l1;, score=0.780 total time=   0.1s\n",
      "[CV 2/5] END alpha=0.01, loss=perceptron, max_iter=30000, penalty=l1;, score=0.780 total time=   0.1s\n",
      "[CV 4/5] END alpha=0.01, loss=perceptron, max_iter=30000, penalty=l1;, score=0.793 total time=   0.2s\n",
      "[CV 1/5] END alpha=0.01, loss=perceptron, max_iter=30000, penalty=elasticnet;, score=0.855 total time=   0.2s\n",
      "[CV 3/5] END alpha=0.01, loss=perceptron, max_iter=30000, penalty=elasticnet;, score=0.861 total time=   0.2s\n",
      "[CV 1/5] END alpha=0.1, loss=hinge, max_iter=1000, penalty=l2;, score=0.639 total time=   0.2s\n",
      "[CV 3/5] END alpha=0.1, loss=hinge, max_iter=1000, penalty=l2;, score=0.800 total time=   0.1s\n",
      "[CV 5/5] END alpha=0.1, loss=hinge, max_iter=1000, penalty=l2;, score=0.596 total time=   0.2s\n",
      "[CV 2/5] END alpha=0.1, loss=hinge, max_iter=1000, penalty=l1;, score=0.681 total time=   0.2s\n",
      "[CV 4/5] END alpha=0.1, loss=hinge, max_iter=1000, penalty=l1;, score=0.754 total time=   0.2s\n",
      "[CV 1/5] END alpha=0.1, loss=hinge, max_iter=1000, penalty=elasticnet;, score=0.752 total time=   0.2s\n",
      "[CV 3/5] END alpha=0.1, loss=hinge, max_iter=1000, penalty=elasticnet;, score=0.592 total time=   0.2s\n",
      "[CV 5/5] END alpha=0.1, loss=hinge, max_iter=1000, penalty=elasticnet;, score=0.586 total time=   0.2s\n",
      "[CV 2/5] END alpha=0.1, loss=hinge, max_iter=10000, penalty=l2;, score=0.597 total time=   0.2s\n",
      "[CV 4/5] END alpha=0.1, loss=hinge, max_iter=10000, penalty=l2;, score=0.818 total time=   0.3s\n",
      "[CV 3/5] END alpha=0.1, loss=hinge, max_iter=10000, penalty=l1;, score=0.747 total time=   0.1s\n",
      "[CV 4/5] END alpha=0.1, loss=hinge, max_iter=10000, penalty=l1;, score=0.725 total time=   0.2s\n",
      "[CV 1/5] END alpha=0.1, loss=hinge, max_iter=10000, penalty=elasticnet;, score=0.619 total time=   0.2s\n",
      "[CV 2/5] END alpha=0.1, loss=hinge, max_iter=10000, penalty=elasticnet;, score=0.544 total time=   0.2s\n",
      "[CV 4/5] END alpha=0.1, loss=hinge, max_iter=10000, penalty=elasticnet;, score=0.744 total time=   0.1s\n",
      "[CV 1/5] END alpha=0.1, loss=hinge, max_iter=30000, penalty=l2;, score=0.785 total time=   0.2s\n",
      "[CV 3/5] END alpha=0.1, loss=hinge, max_iter=30000, penalty=l2;, score=0.600 total time=   0.2s\n",
      "[CV 5/5] END alpha=0.1, loss=hinge, max_iter=30000, penalty=l2;, score=0.474 total time=   0.2s\n",
      "[CV 2/5] END alpha=0.1, loss=hinge, max_iter=30000, penalty=l1;, score=0.702 total time=   0.1s\n",
      "[CV 3/5] END alpha=0.1, loss=hinge, max_iter=30000, penalty=l1;, score=0.720 total time=   0.1s\n",
      "[CV 4/5] END alpha=0.1, loss=hinge, max_iter=30000, penalty=l1;, score=0.698 total time=   0.4s\n",
      "[CV 2/5] END alpha=0.1, loss=hinge, max_iter=30000, penalty=elasticnet;, score=0.651 total time=   0.2s\n",
      "[CV 4/5] END alpha=0.1, loss=hinge, max_iter=30000, penalty=elasticnet;, score=0.723 total time=   0.2s\n",
      "[CV 1/5] END alpha=0.1, loss=log_loss, max_iter=1000, penalty=l2;, score=0.530 total time=   0.3s\n",
      "[CV 3/5] END alpha=0.1, loss=log_loss, max_iter=1000, penalty=l2;, score=0.734 total time=   0.3s\n",
      "[CV 4/5] END alpha=0.1, loss=log_loss, max_iter=1000, penalty=l2;, score=0.498 total time=   0.3s\n",
      "[CV 2/5] END alpha=0.1, loss=log_loss, max_iter=1000, penalty=l1;, score=0.688 total time=   0.5s\n",
      "[CV 4/5] END alpha=0.1, loss=log_loss, max_iter=1000, penalty=l1;, score=0.711 total time=   0.1s\n",
      "[CV 5/5] END alpha=0.1, loss=log_loss, max_iter=1000, penalty=l1;, score=0.706 total time=   0.3s\n",
      "[CV 2/5] END alpha=0.1, loss=log_loss, max_iter=1000, penalty=elasticnet;, score=0.762 total time=   0.3s\n",
      "[CV 4/5] END alpha=0.1, loss=log_loss, max_iter=1000, penalty=elasticnet;, score=0.773 total time=   0.2s\n",
      "[CV 1/5] END alpha=0.1, loss=log_loss, max_iter=10000, penalty=l2;, score=0.609 total time=   0.4s\n",
      "[CV 4/5] END alpha=0.1, loss=log_loss, max_iter=10000, penalty=l2;, score=0.474 total time=   0.2s\n",
      "[CV 1/5] END alpha=0.1, loss=log_loss, max_iter=10000, penalty=l1;, score=0.752 total time=   0.3s\n",
      "[CV 2/5] END alpha=0.1, loss=log_loss, max_iter=10000, penalty=l1;, score=0.745 total time=   0.2s\n",
      "[CV 4/5] END alpha=0.1, loss=log_loss, max_iter=10000, penalty=l1;, score=0.550 total time=   0.4s\n",
      "[CV 1/5] END alpha=0.1, loss=log_loss, max_iter=10000, penalty=elasticnet;, score=0.556 total time=   0.2s\n",
      "[CV 2/5] END alpha=0.1, loss=log_loss, max_iter=10000, penalty=elasticnet;, score=0.758 total time=   0.2s\n",
      "[CV 3/5] END alpha=0.1, loss=log_loss, max_iter=10000, penalty=elasticnet;, score=0.470 total time=   0.2s\n",
      "[CV 1/5] END alpha=0.1, loss=log_loss, max_iter=30000, penalty=l2;, score=0.757 total time=   0.2s\n",
      "[CV 3/5] END alpha=0.1, loss=log_loss, max_iter=30000, penalty=l2;, score=0.814 total time=   0.3s\n",
      "[CV 5/5] END alpha=0.1, loss=log_loss, max_iter=30000, penalty=l2;, score=0.686 total time=   0.5s\n",
      "[CV 3/5] END alpha=0.1, loss=log_loss, max_iter=30000, penalty=l1;, score=0.731 total time=   0.3s\n",
      "[CV 1/5] END alpha=0.1, loss=log_loss, max_iter=30000, penalty=elasticnet;, score=0.528 total time=   0.2s\n",
      "[CV 2/5] END alpha=0.1, loss=log_loss, max_iter=30000, penalty=elasticnet;, score=0.695 total time=   0.2s\n",
      "[CV 5/5] END alpha=0.1, loss=log_loss, max_iter=30000, penalty=elasticnet;, score=0.766 total time=   0.3s\n",
      "[CV 2/5] END alpha=0.1, loss=modified_huber, max_iter=1000, penalty=l2;, score=0.546 total time=   0.2s\n",
      "[CV 4/5] END alpha=0.1, loss=modified_huber, max_iter=1000, penalty=l2;, score=0.582 total time=   0.2s\n",
      "[CV 1/5] END alpha=0.1, loss=modified_huber, max_iter=1000, penalty=l1;, score=0.760 total time=   0.3s\n",
      "[CV 3/5] END alpha=0.1, loss=modified_huber, max_iter=1000, penalty=l1;, score=0.761 total time=   0.3s\n",
      "[CV 5/5] END alpha=0.1, loss=modified_huber, max_iter=1000, penalty=l1;, score=0.763 total time=   0.2s\n",
      "[CV 2/5] END alpha=0.1, loss=modified_huber, max_iter=1000, penalty=elasticnet;, score=0.836 total time=   0.2s\n",
      "[CV 5/5] END alpha=0.1, loss=modified_huber, max_iter=1000, penalty=elasticnet;, score=0.782 total time=   0.2s\n"
     ]
    },
    {
     "name": "stdout",
     "output_type": "stream",
     "text": [
      "[CV 3/5] END alpha=0.1, loss=modified_huber, max_iter=1000, penalty=elasticnet;, score=0.445 total time=   0.1s\n",
      "[CV 4/5] END alpha=0.1, loss=modified_huber, max_iter=1000, penalty=elasticnet;, score=0.529 total time=   0.1s\n",
      "[CV 1/5] END alpha=0.1, loss=modified_huber, max_iter=10000, penalty=l2;, score=0.549 total time=   0.2s\n",
      "[CV 3/5] END alpha=0.1, loss=modified_huber, max_iter=10000, penalty=l2;, score=0.582 total time=   0.2s\n",
      "[CV 4/5] END alpha=0.1, loss=modified_huber, max_iter=10000, penalty=l2;, score=0.496 total time=   0.2s\n",
      "[CV 1/5] END alpha=0.1, loss=modified_huber, max_iter=10000, penalty=l1;, score=0.782 total time=   0.1s\n",
      "[CV 4/5] END alpha=0.1, loss=modified_huber, max_iter=10000, penalty=l1;, score=0.768 total time=   0.3s\n",
      "[CV 1/5] END alpha=0.1, loss=modified_huber, max_iter=10000, penalty=elasticnet;, score=0.487 total time=   0.3s\n",
      "[CV 2/5] END alpha=0.1, loss=modified_huber, max_iter=10000, penalty=elasticnet;, score=0.725 total time=   0.2s\n",
      "[CV 3/5] END alpha=0.1, loss=modified_huber, max_iter=10000, penalty=elasticnet;, score=0.794 total time=   0.2s\n",
      "[CV 1/5] END alpha=0.1, loss=modified_huber, max_iter=30000, penalty=l2;, score=0.594 total time=   0.2s\n",
      "[CV 3/5] END alpha=0.1, loss=modified_huber, max_iter=30000, penalty=l2;, score=0.577 total time=   0.2s\n",
      "[CV 5/5] END alpha=0.1, loss=modified_huber, max_iter=30000, penalty=l2;, score=0.577 total time=   0.2s\n",
      "[CV 2/5] END alpha=0.1, loss=modified_huber, max_iter=30000, penalty=l1;, score=0.747 total time=   0.1s\n",
      "[CV 3/5] END alpha=0.1, loss=modified_huber, max_iter=30000, penalty=l1;, score=0.753 total time=   0.1s\n",
      "[CV 5/5] END alpha=0.1, loss=modified_huber, max_iter=30000, penalty=l1;, score=0.677 total time=   0.1s\n",
      "[CV 1/5] END alpha=0.1, loss=modified_huber, max_iter=30000, penalty=elasticnet;, score=0.453 total time=   0.1s\n",
      "[CV 3/5] END alpha=0.1, loss=modified_huber, max_iter=30000, penalty=elasticnet;, score=0.777 total time=   0.1s\n",
      "[CV 5/5] END alpha=0.1, loss=modified_huber, max_iter=30000, penalty=elasticnet;, score=0.533 total time=   0.2s\n",
      "[CV 2/5] END alpha=0.1, loss=squared_hinge, max_iter=1000, penalty=l2;, score=0.492 total time=   0.2s\n",
      "[CV 4/5] END alpha=0.1, loss=squared_hinge, max_iter=1000, penalty=l2;, score=0.831 total time=   0.2s\n",
      "[CV 1/5] END alpha=0.1, loss=squared_hinge, max_iter=1000, penalty=l1;, score=0.790 total time=   0.3s\n",
      "[CV 3/5] END alpha=0.1, loss=squared_hinge, max_iter=1000, penalty=l1;, score=0.712 total time=   0.2s\n",
      "[CV 4/5] END alpha=0.1, loss=squared_hinge, max_iter=1000, penalty=l1;, score=0.729 total time=   0.3s\n",
      "[CV 1/5] END alpha=0.1, loss=squared_hinge, max_iter=1000, penalty=elasticnet;, score=0.724 total time=   0.4s\n",
      "[CV 3/5] END alpha=0.1, loss=squared_hinge, max_iter=1000, penalty=elasticnet;, score=0.576 total time=   0.8s\n",
      "[CV 1/5] END alpha=0.1, loss=squared_hinge, max_iter=10000, penalty=l2;, score=0.706 total time=   0.1s\n",
      "[CV 2/5] END alpha=0.1, loss=squared_hinge, max_iter=10000, penalty=l2;, score=0.613 total time=   0.2s\n",
      "[CV 4/5] END alpha=0.1, loss=squared_hinge, max_iter=10000, penalty=l2;, score=0.826 total time=   0.2s\n",
      "[CV 1/5] END alpha=0.1, loss=squared_hinge, max_iter=10000, penalty=l1;, score=0.777 total time=   0.2s\n",
      "[CV 3/5] END alpha=0.1, loss=squared_hinge, max_iter=10000, penalty=l1;, score=0.725 total time=   0.4s\n",
      "[CV 5/5] END alpha=0.1, loss=squared_hinge, max_iter=10000, penalty=l1;, score=0.710 total time=   0.4s\n",
      "[CV 2/5] END alpha=0.1, loss=squared_hinge, max_iter=10000, penalty=elasticnet;, score=0.673 total time=   0.5s\n",
      "[CV 4/5] END alpha=0.1, loss=squared_hinge, max_iter=10000, penalty=elasticnet;, score=0.478 total time=   0.4s\n",
      "[CV 2/5] END alpha=0.1, loss=squared_hinge, max_iter=30000, penalty=l2;, score=0.626 total time=   0.1s\n",
      "[CV 3/5] END alpha=0.1, loss=squared_hinge, max_iter=30000, penalty=l2;, score=0.577 total time=   0.2s\n",
      "[CV 5/5] END alpha=0.1, loss=squared_hinge, max_iter=30000, penalty=l2;, score=0.715 total time=   0.2s\n",
      "[CV 2/5] END alpha=0.1, loss=squared_hinge, max_iter=30000, penalty=l1;, score=0.731 total time=   0.2s\n",
      "[CV 4/5] END alpha=0.1, loss=squared_hinge, max_iter=30000, penalty=l1;, score=0.758 total time=   0.3s\n",
      "[CV 1/5] END alpha=0.1, loss=squared_hinge, max_iter=30000, penalty=elasticnet;, score=0.571 total time=   0.6s\n",
      "[CV 3/5] END alpha=0.1, loss=squared_hinge, max_iter=30000, penalty=elasticnet;, score=0.761 total time=   0.5s\n",
      "[CV 5/5] END alpha=0.1, loss=squared_hinge, max_iter=30000, penalty=elasticnet;, score=0.586 total time=   0.3s\n",
      "[CV 3/5] END alpha=0.1, loss=perceptron, max_iter=1000, penalty=l2;, score=0.715 total time=   0.2s\n",
      "[CV 5/5] END alpha=0.1, loss=perceptron, max_iter=1000, penalty=l2;, score=0.697 total time=   0.2s\n",
      "[CV 2/5] END alpha=0.1, loss=perceptron, max_iter=1000, penalty=l1;, score=0.698 total time=   0.4s\n",
      "[CV 5/5] END alpha=0.1, loss=perceptron, max_iter=1000, penalty=l1;, score=0.603 total time=   0.1s\n",
      "[CV 2/5] END alpha=0.1, loss=perceptron, max_iter=1000, penalty=elasticnet;, score=0.737 total time=   0.3s\n",
      "[CV 4/5] END alpha=0.1, loss=perceptron, max_iter=1000, penalty=elasticnet;, score=0.800 total time=   0.2s\n",
      "[CV 1/5] END alpha=0.1, loss=perceptron, max_iter=10000, penalty=l2;, score=0.604 total time=   0.2s\n",
      "[CV 3/5] END alpha=0.1, loss=perceptron, max_iter=10000, penalty=l2;, score=0.667 total time=   0.2s\n",
      "[CV 1/5] END alpha=0.1, loss=perceptron, max_iter=10000, penalty=l1;, score=0.717 total time=   0.3s\n",
      "[CV 3/5] END alpha=0.1, loss=perceptron, max_iter=10000, penalty=l1;, score=0.528 total time=   0.3s\n",
      "[CV 2/5] END alpha=0.1, loss=perceptron, max_iter=10000, penalty=elasticnet;, score=0.733 total time=   0.1s\n",
      "[CV 3/5] END alpha=0.1, loss=perceptron, max_iter=10000, penalty=elasticnet;, score=0.527 total time=   0.3s\n",
      "[CV 5/5] END alpha=0.1, loss=perceptron, max_iter=10000, penalty=elasticnet;, score=0.554 total time=   0.1s\n",
      "[CV 2/5] END alpha=0.1, loss=perceptron, max_iter=30000, penalty=l2;, score=0.591 total time=   0.2s\n",
      "[CV 5/5] END alpha=0.1, loss=perceptron, max_iter=30000, penalty=l2;, score=0.790 total time=   0.1s\n",
      "[CV 2/5] END alpha=0.1, loss=perceptron, max_iter=30000, penalty=l1;, score=0.666 total time=   0.3s\n",
      "[CV 4/5] END alpha=0.1, loss=perceptron, max_iter=30000, penalty=l1;, score=0.714 total time=   0.1s\n",
      "[CV 1/5] END alpha=0.1, loss=perceptron, max_iter=30000, penalty=elasticnet;, score=0.614 total time=   0.1s\n",
      "[CV 2/5] END alpha=0.1, loss=perceptron, max_iter=30000, penalty=elasticnet;, score=0.457 total time=   0.2s\n",
      "[CV 5/5] END alpha=0.1, loss=perceptron, max_iter=30000, penalty=elasticnet;, score=0.850 total time=   0.2s\n",
      "[CV 2/5] END alpha=1.0, loss=hinge, max_iter=1000, penalty=l2;, score=0.597 total time=   0.1s\n",
      "[CV 3/5] END alpha=1.0, loss=hinge, max_iter=1000, penalty=l2;, score=0.567 total time=   0.2s\n",
      "[CV 5/5] END alpha=1.0, loss=hinge, max_iter=1000, penalty=l2;, score=0.668 total time=   0.1s\n",
      "[CV 1/5] END alpha=1.0, loss=hinge, max_iter=1000, penalty=l1;, score=0.554 total time=   0.4s\n",
      "[CV 4/5] END alpha=1.0, loss=hinge, max_iter=1000, penalty=l1;, score=0.476 total time=   0.3s\n",
      "[CV 1/5] END alpha=1.0, loss=hinge, max_iter=1000, penalty=elasticnet;, score=0.578 total time=   0.3s\n",
      "[CV 3/5] END alpha=1.0, loss=hinge, max_iter=1000, penalty=elasticnet;, score=0.566 total time=   0.3s\n",
      "[CV 5/5] END alpha=1.0, loss=hinge, max_iter=1000, penalty=elasticnet;, score=0.579 total time=   0.4s\n",
      "[CV 3/5] END alpha=1.0, loss=hinge, max_iter=10000, penalty=l2;, score=0.556 total time=   0.2s\n",
      "[CV 5/5] END alpha=1.0, loss=hinge, max_iter=10000, penalty=l2;, score=0.673 total time=   0.2s\n",
      "[CV 2/5] END alpha=1.0, loss=hinge, max_iter=10000, penalty=l1;, score=0.566 total time=   0.2s\n",
      "[CV 3/5] END alpha=1.0, loss=hinge, max_iter=10000, penalty=l1;, score=0.500 total time=   0.3s\n",
      "[CV 4/5] END alpha=1.0, loss=hinge, max_iter=10000, penalty=l1;, score=0.583 total time=   0.3s\n",
      "[CV 5/5] END alpha=1.0, loss=hinge, max_iter=10000, penalty=l1;, score=0.555 total time=   0.8s\n",
      "[CV 1/5] END alpha=1.0, loss=hinge, max_iter=10000, penalty=elasticnet;, score=0.654 total time=   0.2s\n",
      "[CV 2/5] END alpha=1.0, loss=hinge, max_iter=10000, penalty=elasticnet;, score=0.559 total time=   0.3s\n"
     ]
    },
    {
     "name": "stdout",
     "output_type": "stream",
     "text": [
      "[CV 2/5] END alpha=0.1, loss=modified_huber, max_iter=10000, penalty=l2;, score=0.821 total time=   0.2s\n",
      "[CV 5/5] END alpha=0.1, loss=modified_huber, max_iter=10000, penalty=l2;, score=0.634 total time=   0.2s\n",
      "[CV 2/5] END alpha=0.1, loss=modified_huber, max_iter=10000, penalty=l1;, score=0.747 total time=   0.1s\n",
      "[CV 3/5] END alpha=0.1, loss=modified_huber, max_iter=10000, penalty=l1;, score=0.805 total time=   0.2s\n",
      "[CV 5/5] END alpha=0.1, loss=modified_huber, max_iter=10000, penalty=l1;, score=0.747 total time=   0.6s\n",
      "[CV 4/5] END alpha=0.1, loss=modified_huber, max_iter=10000, penalty=elasticnet;, score=0.642 total time=   0.1s\n",
      "[CV 5/5] END alpha=0.1, loss=modified_huber, max_iter=10000, penalty=elasticnet;, score=0.698 total time=   0.1s\n",
      "[CV 2/5] END alpha=0.1, loss=modified_huber, max_iter=30000, penalty=l2;, score=0.579 total time=   0.2s\n",
      "[CV 4/5] END alpha=0.1, loss=modified_huber, max_iter=30000, penalty=l2;, score=0.504 total time=   0.2s\n",
      "[CV 1/5] END alpha=0.1, loss=modified_huber, max_iter=30000, penalty=l1;, score=0.764 total time=   0.2s\n",
      "[CV 4/5] END alpha=0.1, loss=modified_huber, max_iter=30000, penalty=l1;, score=0.729 total time=   0.2s\n",
      "[CV 2/5] END alpha=0.1, loss=modified_huber, max_iter=30000, penalty=elasticnet;, score=0.809 total time=   0.2s\n",
      "[CV 4/5] END alpha=0.1, loss=modified_huber, max_iter=30000, penalty=elasticnet;, score=0.844 total time=   0.2s\n",
      "[CV 1/5] END alpha=0.1, loss=squared_hinge, max_iter=1000, penalty=l2;, score=0.612 total time=   0.3s\n",
      "[CV 3/5] END alpha=0.1, loss=squared_hinge, max_iter=1000, penalty=l2;, score=0.833 total time=   0.2s\n",
      "[CV 5/5] END alpha=0.1, loss=squared_hinge, max_iter=1000, penalty=l2;, score=0.531 total time=   0.2s\n",
      "[CV 2/5] END alpha=0.1, loss=squared_hinge, max_iter=1000, penalty=l1;, score=0.765 total time=   0.4s\n",
      "[CV 5/5] END alpha=0.1, loss=squared_hinge, max_iter=1000, penalty=l1;, score=0.751 total time=   0.3s\n",
      "[CV 2/5] END alpha=0.1, loss=squared_hinge, max_iter=1000, penalty=elasticnet;, score=0.833 total time=   0.4s\n",
      "[CV 4/5] END alpha=0.1, loss=squared_hinge, max_iter=1000, penalty=elasticnet;, score=0.832 total time=   0.5s\n",
      "[CV 5/5] END alpha=0.1, loss=squared_hinge, max_iter=1000, penalty=elasticnet;, score=0.771 total time=   0.4s\n",
      "[CV 3/5] END alpha=0.1, loss=squared_hinge, max_iter=10000, penalty=l2;, score=0.712 total time=   0.2s\n",
      "[CV 5/5] END alpha=0.1, loss=squared_hinge, max_iter=10000, penalty=l2;, score=0.783 total time=   0.1s\n",
      "[CV 2/5] END alpha=0.1, loss=squared_hinge, max_iter=10000, penalty=l1;, score=0.769 total time=   0.4s\n",
      "[CV 4/5] END alpha=0.1, loss=squared_hinge, max_iter=10000, penalty=l1;, score=0.778 total time=   0.3s\n",
      "[CV 1/5] END alpha=0.1, loss=squared_hinge, max_iter=10000, penalty=elasticnet;, score=0.586 total time=   0.3s\n",
      "[CV 3/5] END alpha=0.1, loss=squared_hinge, max_iter=10000, penalty=elasticnet;, score=0.835 total time=   0.4s\n",
      "[CV 5/5] END alpha=0.1, loss=squared_hinge, max_iter=10000, penalty=elasticnet;, score=0.704 total time=   0.4s\n",
      "[CV 1/5] END alpha=0.1, loss=squared_hinge, max_iter=30000, penalty=l2;, score=0.623 total time=   0.2s\n",
      "[CV 4/5] END alpha=0.1, loss=squared_hinge, max_iter=30000, penalty=l2;, score=0.842 total time=   0.2s\n",
      "[CV 1/5] END alpha=0.1, loss=squared_hinge, max_iter=30000, penalty=l1;, score=0.690 total time=   0.2s\n",
      "[CV 3/5] END alpha=0.1, loss=squared_hinge, max_iter=30000, penalty=l1;, score=0.740 total time=   0.2s\n",
      "[CV 5/5] END alpha=0.1, loss=squared_hinge, max_iter=30000, penalty=l1;, score=0.748 total time=   0.6s\n",
      "[CV 2/5] END alpha=0.1, loss=squared_hinge, max_iter=30000, penalty=elasticnet;, score=0.718 total time=   0.4s\n",
      "[CV 4/5] END alpha=0.1, loss=squared_hinge, max_iter=30000, penalty=elasticnet;, score=0.600 total time=   0.3s\n",
      "[CV 1/5] END alpha=0.1, loss=perceptron, max_iter=1000, penalty=l2;, score=0.572 total time=   0.2s\n",
      "[CV 2/5] END alpha=0.1, loss=perceptron, max_iter=1000, penalty=l2;, score=0.798 total time=   0.2s\n",
      "[CV 4/5] END alpha=0.1, loss=perceptron, max_iter=1000, penalty=l2;, score=0.483 total time=   0.1s\n",
      "[CV 1/5] END alpha=0.1, loss=perceptron, max_iter=1000, penalty=l1;, score=0.799 total time=   0.1s\n",
      "[CV 3/5] END alpha=0.1, loss=perceptron, max_iter=1000, penalty=l1;, score=0.698 total time=   0.2s\n",
      "[CV 4/5] END alpha=0.1, loss=perceptron, max_iter=1000, penalty=l1;, score=0.732 total time=   0.2s\n",
      "[CV 1/5] END alpha=0.1, loss=perceptron, max_iter=1000, penalty=elasticnet;, score=0.757 total time=   0.3s\n",
      "[CV 3/5] END alpha=0.1, loss=perceptron, max_iter=1000, penalty=elasticnet;, score=0.520 total time=   0.2s\n",
      "[CV 5/5] END alpha=0.1, loss=perceptron, max_iter=1000, penalty=elasticnet;, score=0.720 total time=   0.2s\n",
      "[CV 2/5] END alpha=0.1, loss=perceptron, max_iter=10000, penalty=l2;, score=0.487 total time=   0.1s\n",
      "[CV 4/5] END alpha=0.1, loss=perceptron, max_iter=10000, penalty=l2;, score=0.818 total time=   0.2s\n",
      "[CV 5/5] END alpha=0.1, loss=perceptron, max_iter=10000, penalty=l2;, score=0.788 total time=   0.2s\n",
      "[CV 2/5] END alpha=0.1, loss=perceptron, max_iter=10000, penalty=l1;, score=0.711 total time=   0.1s\n",
      "[CV 4/5] END alpha=0.1, loss=perceptron, max_iter=10000, penalty=l1;, score=0.736 total time=   0.1s\n",
      "[CV 5/5] END alpha=0.1, loss=perceptron, max_iter=10000, penalty=l1;, score=0.749 total time=   0.1s\n",
      "[CV 1/5] END alpha=0.1, loss=perceptron, max_iter=10000, penalty=elasticnet;, score=0.842 total time=   0.2s\n",
      "[CV 4/5] END alpha=0.1, loss=perceptron, max_iter=10000, penalty=elasticnet;, score=0.602 total time=   0.2s\n",
      "[CV 1/5] END alpha=0.1, loss=perceptron, max_iter=30000, penalty=l2;, score=0.814 total time=   0.1s\n",
      "[CV 3/5] END alpha=0.1, loss=perceptron, max_iter=30000, penalty=l2;, score=0.493 total time=   0.1s\n",
      "[CV 4/5] END alpha=0.1, loss=perceptron, max_iter=30000, penalty=l2;, score=0.786 total time=   0.2s\n",
      "[CV 1/5] END alpha=0.1, loss=perceptron, max_iter=30000, penalty=l1;, score=0.675 total time=   0.1s\n",
      "[CV 3/5] END alpha=0.1, loss=perceptron, max_iter=30000, penalty=l1;, score=0.710 total time=   0.3s\n",
      "[CV 5/5] END alpha=0.1, loss=perceptron, max_iter=30000, penalty=l1;, score=0.577 total time=   0.2s\n",
      "[CV 3/5] END alpha=0.1, loss=perceptron, max_iter=30000, penalty=elasticnet;, score=0.653 total time=   0.2s\n",
      "[CV 4/5] END alpha=0.1, loss=perceptron, max_iter=30000, penalty=elasticnet;, score=0.655 total time=   0.2s\n",
      "[CV 1/5] END alpha=1.0, loss=hinge, max_iter=1000, penalty=l2;, score=0.661 total time=   0.3s\n",
      "[CV 4/5] END alpha=1.0, loss=hinge, max_iter=1000, penalty=l2;, score=0.615 total time=   0.3s\n",
      "[CV 2/5] END alpha=1.0, loss=hinge, max_iter=1000, penalty=l1;, score=0.606 total time=   0.3s\n",
      "[CV 3/5] END alpha=1.0, loss=hinge, max_iter=1000, penalty=l1;, score=0.566 total time=   0.3s\n",
      "[CV 5/5] END alpha=1.0, loss=hinge, max_iter=1000, penalty=l1;, score=0.497 total time=   0.2s\n",
      "[CV 2/5] END alpha=1.0, loss=hinge, max_iter=1000, penalty=elasticnet;, score=0.546 total time=   0.3s\n",
      "[CV 4/5] END alpha=1.0, loss=hinge, max_iter=1000, penalty=elasticnet;, score=0.581 total time=   0.2s\n",
      "[CV 1/5] END alpha=1.0, loss=hinge, max_iter=10000, penalty=l2;, score=0.568 total time=   0.2s\n",
      "[CV 2/5] END alpha=1.0, loss=hinge, max_iter=10000, penalty=l2;, score=0.644 total time=   0.2s\n",
      "[CV 4/5] END alpha=1.0, loss=hinge, max_iter=10000, penalty=l2;, score=0.565 total time=   0.2s\n",
      "[CV 1/5] END alpha=1.0, loss=hinge, max_iter=10000, penalty=l1;, score=0.541 total time=  24.9s\n",
      "[CV 2/5] END alpha=1.0, loss=modified_huber, max_iter=1000, penalty=l2;, score=0.710 total time=   0.1s\n",
      "[CV 4/5] END alpha=1.0, loss=modified_huber, max_iter=1000, penalty=l2;, score=0.538 total time=   0.2s\n",
      "[CV 1/5] END alpha=1.0, loss=modified_huber, max_iter=1000, penalty=l1;, score=0.583 total time=   0.5s\n",
      "[CV 3/5] END alpha=1.0, loss=modified_huber, max_iter=1000, penalty=l1;, score=0.552 total time=   0.2s\n",
      "[CV 4/5] END alpha=1.0, loss=modified_huber, max_iter=1000, penalty=l1;, score=0.685 total time=   0.2s\n",
      "[CV 5/5] END alpha=1.0, loss=modified_huber, max_iter=1000, penalty=l1;, score=0.565 total time=   0.1s\n",
      "[CV 1/5] END alpha=1.0, loss=modified_huber, max_iter=1000, penalty=elasticnet;, score=0.562 total time=   0.4s\n"
     ]
    },
    {
     "name": "stderr",
     "output_type": "stream",
     "text": [
      "WARNING: Some output was deleted.\n"
     ]
    }
   ],
   "source": [
    "SGD_model = SGDClassifier()\n",
    "\n",
    "param_grid = {'loss': [\"hinge\", \"log_loss\", \"modified_huber\", \"squared_hinge\", \"perceptron\"],  \n",
    "              'penalty': [\"l2\", \"l1\", \"elasticnet\"], \n",
    "              'max_iter':[1000, 10000, 30000],\n",
    "              'alpha': [0.0001, 0.001, 0.01, 0.1, 1.0]}  \n",
    "   \n",
    "grid = GridSearchCV(SGD_model, param_grid, refit = True, verbose = 3,n_jobs=-1) \n",
    "   \n",
    "grid.fit(x_train, y_train) \n",
    " \n",
    "print(grid.best_params_) \n",
    "\n",
    "# Ivan "
   ]
  },
  {
   "cell_type": "code",
   "execution_count": 18,
   "metadata": {
    "collapsed": false
   },
   "outputs": [
    {
     "name": "stdout",
     "output_type": "stream",
     "text": [
      "R:  0.8782222222222222\n",
      "P:  0.903107861060329\n",
      "A:  0.9061776061776062\n",
      "F:  0.8904912122577738\n"
     ]
    },
    {
     "data": {
      "text/plain": [
       "<AxesSubplot:>"
      ]
     },
     "execution_count": 18,
     "metadata": {
     },
     "output_type": "execute_result"
    },
    {
     "data": {
      "image/png": "[encoded data removed]",
      "text/plain": [
       "<Figure size 432x288 with 2 Axes>"
      ]
     },
     "execution_count": 18,
     "metadata": {
      "needs_background": "light"
     },
     "output_type": "execute_result"
    }
   ],
   "source": [
    "NB_model = CategoricalNB(alpha = 3)\n",
    "\n",
    "NB_model.fit(x_train, y_train)\n",
    "\n",
    "NB_hat = NB_model.predict(x_test)\n",
    "\n",
    "recall = sklearn.metrics.recall_score(y_test,NB_hat)\n",
    "precision = sklearn.metrics.precision_score(y_test, NB_hat)\n",
    "accuracy = sklearn.metrics.accuracy_score(y_test, NB_hat)\n",
    "f_measure = sklearn.metrics.f1_score(y_test, NB_hat)\n",
    "print(\"R: \", recall)\n",
    "print(\"P: \", precision)\n",
    "print(\"A: \", accuracy)\n",
    "print(\"F: \", f_measure)\n",
    "\n",
    "sns.heatmap(confusion_matrix(y_test, NB_hat), annot=True, fmt='g')\n",
    "\n",
    "# Ivan"
   ]
  },
  {
   "cell_type": "markdown",
   "metadata": {
    "collapsed": false
   },
   "source": [
    "**Categorical Naive Bayes**\n",
    "\n",
    "The categorical Naive Bayes model works using the Bayes Theorem, which assumes that individual features are independent on each other, which works well with our dataset, as we can see through our correlation matrix that none of our features are very correlated. Applying the Bayes Theorem assigns a probability to each feature in the dataset, then uses those probabilities to predict a whole outcome. The categorical Native Bayes model works best for categorical data, which works well with our dataset, as we have a lot of categorical data in the form of 1\\-5 ratings for the airline's performance.\n",
    "\n"
   ]
  },
  {
   "cell_type": "code",
   "execution_count": 35,
   "metadata": {
    "collapsed": false
   },
   "outputs": [
   ],
   "source": [
    "#Neural_model = MLPClassifier(solver='lbfgs', alpha=0.1, hidden_layer_sizes=(20, 20), random_state=1)\n",
    "\n",
    "#Neural_model.fit(x_train, y_train)\n",
    "\n",
    "#Neural_hat = Neural_model.predict(x_test)\n",
    "\n",
    "#precision = sklearn.metrics.precision_score(y_test, Neural_hat)\n",
    "#accuracy = sklearn.metrics.accuracy_score(y_test, Neural_hat)\n",
    "#print(\"P: \", precision)\n",
    "#print(\"A: \", accuracy)\n",
    "\n",
    "#sns.heatmap(confusion_matrix(y_test, Neural_hat), annot=True, fmt='g')"
   ]
  },
  {
   "cell_type": "code",
   "execution_count": 12,
   "metadata": {
    "collapsed": false,
    "scrolled": true
   },
   "outputs": [
    {
     "name": "stdout",
     "output_type": "stream",
     "text": [
      "R:  0.9048888888888889\n",
      "P:  0.9594721960414703\n",
      "A:  0.9420849420849421\n",
      "F:  0.9313815187557182\n"
     ]
    },
    {
     "data": {
      "text/plain": [
       "<AxesSubplot:>"
      ]
     },
     "execution_count": 12,
     "metadata": {
     },
     "output_type": "execute_result"
    },
    {
     "data": {
      "image/png": "[encoded data removed]",
      "text/plain": [
       "<Figure size 432x288 with 2 Axes>"
      ]
     },
     "execution_count": 12,
     "metadata": {
      "needs_background": "light"
     },
     "output_type": "execute_result"
    }
   ],
   "source": [
    "RF_model = RandomForestClassifier(n_estimators=30, criterion=\"entropy\")\n",
    "\n",
    "RF_model.fit(x_train, y_train)\n",
    "\n",
    "RF_hat = RF_model.predict(x_test)\n",
    "\n",
    "pickle.dump(RF_model, open('randomforest.pkl','wb'))\n",
    "\n",
    "recall = sklearn.metrics.recall_score(y_test, RF_hat)\n",
    "precision = sklearn.metrics.precision_score(y_test, RF_hat)\n",
    "accuracy = sklearn.metrics.accuracy_score(y_test, RF_hat)\n",
    "f_measure = sklearn.metrics.f1_score(y_test, RF_hat)\n",
    "print(\"R: \", recall)\n",
    "print(\"P: \", precision)\n",
    "print(\"A: \", accuracy)\n",
    "print(\"F: \", f_measure)\n",
    "\n",
    "sns.heatmap(confusion_matrix(y_test, RF_hat), annot=True, fmt='g')\n"
   ]
  },
  {
   "cell_type": "markdown",
   "metadata": {
    "collapsed": false
   },
   "source": [
    "**Random Forest**\n",
    "\n",
    "A random forest is a model that makes a given number of randomized decision trees and uses them to make predictions on the data by using averaging functions to combine its results from several decision trees, making a more accurate/realistic prediction. Randomizing decision trees allows the model to individually look for correlations between sections of the dataset, making predictions more intuitive, compared to looking at the entire dataset through one decision tree, where it is harder to find patterns when there are so many variables to consider. It then takes the accuracy of the models it makes and displays them on the heatmap so that we can see how accurate/precise the model is. Through some light hyperparameter tuning, we found that at around 20 decision trees, there was no more improvement in the performance of the model and subsequent additions to the amount of decision trees would just increase the processing time. There were also no differences in accuracy/precision when we tried different criterion such as \"entropy\" and \"log\\_loss\", so we decided that \"gini\", the default criterion, was good enough for the model.\n",
    "\n",
    "- What are the pros and cons of the random forest\n",
    "- [https://towardsdatascience.com/hyperparameter\\-tuning\\-the\\-random\\-forest\\-in\\-python\\-using\\-scikit\\-learn\\-28d2aa77dd74](https://towardsdatascience.com/hyperparameter-tuning-the-random-forest-in-python-using-scikit-learn-28d2aa77dd74)\n",
    "\n"
   ]
  },
  {
   "cell_type": "code",
   "execution_count": 19,
   "metadata": {
    "collapsed": false,
    "scrolled": true
   },
   "outputs": [
    {
     "name": "stderr",
     "output_type": "stream",
     "text": [
      "/projects/72aec78b-4035-4aa5-8faa-4d7af1533e7b/.local/lib/python3.8/site-packages/sklearn/model_selection/_validation.py:378: FitFailedWarning: \n",
      "780 fits failed out of a total of 960.\n",
      "The score on these train-test partitions for these parameters will be set to nan.\n",
      "If these failures are not expected, you can try to debug them by setting error_score='raise'.\n",
      "\n",
      "Below are more details about the failures:\n",
      "--------------------------------------------------------------------------------\n",
      "240 fits failed with the following error:\n",
      "Traceback (most recent call last):\n",
      "  File \"/projects/72aec78b-4035-4aa5-8faa-4d7af1533e7b/.local/lib/python3.8/site-packages/sklearn/model_selection/_validation.py\", line 686, in _fit_and_score\n",
      "    estimator.fit(X_train, y_train, **fit_params)\n",
      "  File \"/projects/72aec78b-4035-4aa5-8faa-4d7af1533e7b/.local/lib/python3.8/site-packages/sklearn/tree/_classes.py\", line 969, in fit\n",
      "    super().fit(\n",
      "  File \"/projects/72aec78b-4035-4aa5-8faa-4d7af1533e7b/.local/lib/python3.8/site-packages/sklearn/tree/_classes.py\", line 265, in fit\n",
      "    check_scalar(\n",
      "  File \"/projects/72aec78b-4035-4aa5-8faa-4d7af1533e7b/.local/lib/python3.8/site-packages/sklearn/utils/validation.py\", line 1480, in check_scalar\n",
      "    raise ValueError(\n",
      "ValueError: min_samples_split == 1, must be >= 2.\n",
      "\n",
      "--------------------------------------------------------------------------------\n",
      "240 fits failed with the following error:\n",
      "Traceback (most recent call last):\n",
      "  File \"/projects/72aec78b-4035-4aa5-8faa-4d7af1533e7b/.local/lib/python3.8/site-packages/sklearn/model_selection/_validation.py\", line 686, in _fit_and_score\n",
      "    estimator.fit(X_train, y_train, **fit_params)\n",
      "  File \"/projects/72aec78b-4035-4aa5-8faa-4d7af1533e7b/.local/lib/python3.8/site-packages/sklearn/tree/_classes.py\", line 969, in fit\n",
      "    super().fit(\n",
      "  File \"/projects/72aec78b-4035-4aa5-8faa-4d7af1533e7b/.local/lib/python3.8/site-packages/sklearn/tree/_classes.py\", line 286, in fit\n",
      "    check_scalar(\n",
      "  File \"/projects/72aec78b-4035-4aa5-8faa-4d7af1533e7b/.local/lib/python3.8/site-packages/sklearn/utils/validation.py\", line 1480, in check_scalar\n",
      "    raise ValueError(\n",
      "ValueError: min_weight_fraction_leaf == -1.0, must be >= 0.0.\n",
      "\n",
      "--------------------------------------------------------------------------------\n",
      "60 fits failed with the following error:\n",
      "Traceback (most recent call last):\n",
      "  File \"/projects/72aec78b-4035-4aa5-8faa-4d7af1533e7b/.local/lib/python3.8/site-packages/sklearn/model_selection/_validation.py\", line 686, in _fit_and_score\n",
      "    estimator.fit(X_train, y_train, **fit_params)\n",
      "  File \"/projects/72aec78b-4035-4aa5-8faa-4d7af1533e7b/.local/lib/python3.8/site-packages/sklearn/tree/_classes.py\", line 969, in fit\n",
      "    super().fit(\n",
      "  File \"/projects/72aec78b-4035-4aa5-8faa-4d7af1533e7b/.local/lib/python3.8/site-packages/sklearn/tree/_classes.py\", line 350, in fit\n",
      "    check_scalar(\n",
      "  File \"/projects/72aec78b-4035-4aa5-8faa-4d7af1533e7b/.local/lib/python3.8/site-packages/sklearn/utils/validation.py\", line 1480, in check_scalar\n",
      "    raise ValueError(\n",
      "ValueError: max_leaf_nodes == 1, must be >= 2.\n",
      "\n",
      "--------------------------------------------------------------------------------\n",
      "240 fits failed with the following error:\n",
      "Traceback (most recent call last):\n",
      "  File \"/projects/72aec78b-4035-4aa5-8faa-4d7af1533e7b/.local/lib/python3.8/site-packages/sklearn/model_selection/_validation.py\", line 686, in _fit_and_score\n",
      "    estimator.fit(X_train, y_train, **fit_params)\n",
      "  File \"/projects/72aec78b-4035-4aa5-8faa-4d7af1533e7b/.local/lib/python3.8/site-packages/sklearn/tree/_classes.py\", line 969, in fit\n",
      "    super().fit(\n",
      "  File \"/projects/72aec78b-4035-4aa5-8faa-4d7af1533e7b/.local/lib/python3.8/site-packages/sklearn/tree/_classes.py\", line 286, in fit\n",
      "    check_scalar(\n",
      "  File \"/projects/72aec78b-4035-4aa5-8faa-4d7af1533e7b/.local/lib/python3.8/site-packages/sklearn/utils/validation.py\", line 1489, in check_scalar\n",
      "    raise ValueError(\n",
      "ValueError: min_weight_fraction_leaf == 1.0, must be <= 0.5.\n",
      "\n",
      "  warnings.warn(some_fits_failed_message, FitFailedWarning)\n",
      "/projects/72aec78b-4035-4aa5-8faa-4d7af1533e7b/.local/lib/python3.8/site-packages/sklearn/model_selection/_search.py:953: UserWarning: One or more of the test scores are non-finite: [       nan        nan        nan        nan        nan        nan\n",
      "        nan        nan        nan        nan        nan        nan\n",
      "        nan        nan        nan        nan        nan        nan\n",
      "        nan        nan        nan        nan        nan        nan\n",
      "        nan        nan        nan        nan        nan        nan\n",
      "        nan        nan        nan        nan        nan        nan\n",
      "        nan        nan        nan        nan        nan        nan\n",
      "        nan        nan        nan        nan        nan        nan\n",
      "        nan        nan        nan        nan 0.78414905        nan\n",
      "        nan 0.78414905        nan        nan 0.78414905        nan\n",
      "        nan        nan        nan        nan 0.78414905        nan\n",
      "        nan 0.78414905        nan        nan 0.78414905        nan\n",
      "        nan        nan        nan        nan 0.78414905        nan\n",
      "        nan 0.78414905        nan        nan 0.78414905        nan\n",
      "        nan        nan        nan        nan 0.78414905        nan\n",
      "        nan 0.78414905        nan        nan 0.78414905        nan\n",
      "        nan        nan        nan        nan 0.84313185        nan\n",
      "        nan 0.84313185        nan        nan 0.84313185        nan\n",
      "        nan        nan        nan        nan 0.84313185        nan\n",
      "        nan 0.84313185        nan        nan 0.84313185        nan\n",
      "        nan        nan        nan        nan 0.84313185        nan\n",
      "        nan 0.84313185        nan        nan 0.84313185        nan\n",
      "        nan        nan        nan        nan 0.84313185        nan\n",
      "        nan 0.84313185        nan        nan 0.84313185        nan\n",
      "        nan        nan        nan        nan 0.85819107        nan\n",
      "        nan 0.85819107        nan        nan 0.85819107        nan\n",
      "        nan        nan        nan        nan 0.85819107        nan\n",
      "        nan 0.85819107        nan        nan 0.85819107        nan\n",
      "        nan        nan        nan        nan 0.85819107        nan\n",
      "        nan 0.85819107        nan        nan 0.85819107        nan\n",
      "        nan        nan        nan        nan 0.85819107        nan\n",
      "        nan 0.85819107        nan        nan 0.85819107        nan]\n",
      "  warnings.warn(\n"
     ]
    },
    {
     "name": "stdout",
     "output_type": "stream",
     "text": [
      "Accuracy: 0.8656370656370657\n",
      "Precision: 0.8363636363636363\n",
      "Recall: 0.8586666666666667\n",
      "F1 Score: 0.8473684210526315\n"
     ]
    },
    {
     "data": {
      "image/png": "[encoded data removed]",
      "text/plain": [
       "<Figure size 1800x1440 with 1 Axes>"
      ]
     },
     "execution_count": 19,
     "metadata": {
      "needs_background": "light"
     },
     "output_type": "execute_result"
    }
   ],
   "source": [
    "tree_clf = DecisionTreeClassifier(max_depth=5, max_leaf_nodes=4, min_samples_leaf=1, min_samples_split=2, min_weight_fraction_leaf=0.0)\n",
    "tree_clf = tree_clf.fit(x_train, y_train)\n",
    "y_pred_tree = tree_clf.predict(x_test)\n",
    "params = {'min_samples_split': [1,2,3,4], 'min_samples_leaf': [1,2,3,4], 'min_weight_fraction_leaf': [-1.0,0.0,1.0], 'max_leaf_nodes': list(range(1,5))}\n",
    "tree_gsearch = GSearch(DecisionTreeClassifier(max_depth=7), params)\n",
    "tree_gsearch.fit(x_train, y_train)\n",
    "fig = plt.figure(figsize=(25,20))\n",
    "_ = tree.plot_tree(tree_clf,\n",
    "                   feature_names=input_columns.columns,  \n",
    "                   class_names=['Not Satisfied','Satisfied'],\n",
    "                   filled=True, fontsize=10)\n",
    "\n",
    "print(\"Accuracy:\", accuracy_score(y_test, y_pred_tree))\n",
    "print(\"Precision:\", precision_score(y_test, y_pred_tree))\n",
    "print(\"Recall:\", recall_score(y_test, y_pred_tree))\n",
    "print(\"F1 Score:\", f1_score(y_test, y_pred_tree))"
   ]
  },
  {
   "cell_type": "code",
   "execution_count": 113,
   "metadata": {
    "collapsed": false
   },
   "outputs": [
    {
     "data": {
      "text/plain": [
       "{'max_leaf_nodes': 4,\n",
       " 'min_samples_leaf': 1,\n",
       " 'min_samples_split': 2,\n",
       " 'min_weight_fraction_leaf': 0.0}"
      ]
     },
     "execution_count": 113,
     "metadata": {
     },
     "output_type": "execute_result"
    }
   ],
   "source": [
    "tree_gsearch.best_params_"
   ]
  },
  {
   "cell_type": "code",
   "execution_count": 21,
   "metadata": {
    "collapsed": false
   },
   "outputs": [
    {
     "name": "stdout",
     "output_type": "stream",
     "text": [
      "Accuracy: 0.8656370656370657\n",
      "Precision: 0.8363636363636363\n",
      "Recall: 0.8586666666666667\n",
      "F1 Score: 0.8473684210526315\n"
     ]
    }
   ],
   "source": [
    "tree_clf = DecisionTreeClassifier(max_depth=5, max_leaf_nodes=4, min_samples_leaf=1, min_samples_split=2, min_weight_fraction_leaf=0.0)\n",
    "tree_clf = tree_clf.fit(x_train, y_train)\n",
    "y_pred_tree = tree_clf.predict(x_test)\n",
    "\n",
    "print(\"Accuracy:\", accuracy_score(y_test, y_pred_tree))\n",
    "print(\"Precision:\", precision_score(y_test, y_pred_tree))\n",
    "print(\"Recall:\", recall_score(y_test, y_pred_tree))\n",
    "print(\"F1 Score:\", f1_score(y_test, y_pred_tree))"
   ]
  },
  {
   "cell_type": "markdown",
   "metadata": {
    "collapsed": false
   },
   "source": [
    "**Decision Tree:**\n",
    "\n",
    "A decision tree is a graph that classifies items and whether it is true or false to the question in the box. In this example, we use satisfied for true and false for dissatisfied.\n",
    "\n"
   ]
  },
  {
   "cell_type": "code",
   "execution_count": 83,
   "metadata": {
    "collapsed": false
   },
   "outputs": [
    {
     "name": "stdout",
     "output_type": "stream",
     "text": [
      "P:  0.7256364823277068\n",
      "A:  0.7518727314850567\n"
     ]
    },
    {
     "data": {
      "image/png": "[encoded data removed]",
      "text/plain": [
       "<Figure size 432x288 with 2 Axes>"
      ]
     },
     "execution_count": 83,
     "metadata": {
      "needs_background": "light"
     },
     "output_type": "execute_result"
    }
   ],
   "source": [
    "ax= plt.subplot()\n",
    "sns.heatmap(confusion_matrix(y_test, y_pred_tree), annot=True, fmt='g')\n",
    "ax.set_xlabel('Predicted labels')\n",
    "ax.set_ylabel('True labels')\n",
    "ax.set_title('Confusion Matrix');\n",
    "ax.xaxis.set_ticklabels(['0: Not Satisfied', '1: Satisfied',]); ax.yaxis.set_ticklabels(['0: Not Satisfied', '1: Satisfied'])\n",
    "\n",
    "print(\"Accuracy:\", accuracy_score(y_test, y_pred_tree))\n",
    "print(\"Precision:\", precision_score(y_test, y_pred_tree))\n",
    "print(\"Recall:\", recall_score(y_test, y_pred_tree))\n",
    "print(\"F1 Score:\", f1_score(y_test, y_pred_tree))"
   ]
  },
  {
   "cell_type": "markdown",
   "metadata": {
    "collapsed": false
   },
   "source": [
    "a Decision Tree Classifier makes various questions to help determine what group a variable falls into. it goes from the top, and depending on how a question is answered it goes down a path to a different leaf in the tree. It goes all the way down and at the end it puts that variable into a group\n",
    "\n",
    "- What is a splitting criteron\n",
    "- What are the pros and cons?\n",
    "- \n",
    "\n"
   ]
  },
  {
   "cell_type": "code",
   "execution_count": 43,
   "metadata": {
    "collapsed": false
   },
   "outputs": [
   ],
   "source": [
    "tree_clf = DecisionTreeClassifier()\n",
    "adc_clf = ADC()"
   ]
  },
  {
   "cell_type": "code",
   "execution_count": 17,
   "metadata": {
    "collapsed": false
   },
   "outputs": [
    {
     "data": {
      "text/html": [
       "<style>#sk-container-id-1 {color: black;background-color: white;}#sk-container-id-1 pre{padding: 0;}#sk-container-id-1 div.sk-toggleable {background-color: white;}#sk-container-id-1 label.sk-toggleable__label {cursor: pointer;display: block;width: 100%;margin-bottom: 0;padding: 0.3em;box-sizing: border-box;text-align: center;}#sk-container-id-1 label.sk-toggleable__label-arrow:before {content: \"▸\";float: left;margin-right: 0.25em;color: #696969;}#sk-container-id-1 label.sk-toggleable__label-arrow:hover:before {color: black;}#sk-container-id-1 div.sk-estimator:hover label.sk-toggleable__label-arrow:before {color: black;}#sk-container-id-1 div.sk-toggleable__content {max-height: 0;max-width: 0;overflow: hidden;text-align: left;background-color: #f0f8ff;}#sk-container-id-1 div.sk-toggleable__content pre {margin: 0.2em;color: black;border-radius: 0.25em;background-color: #f0f8ff;}#sk-container-id-1 input.sk-toggleable__control:checked~div.sk-toggleable__content {max-height: 200px;max-width: 100%;overflow: auto;}#sk-container-id-1 input.sk-toggleable__control:checked~label.sk-toggleable__label-arrow:before {content: \"▾\";}#sk-container-id-1 div.sk-estimator input.sk-toggleable__control:checked~label.sk-toggleable__label {background-color: #d4ebff;}#sk-container-id-1 div.sk-label input.sk-toggleable__control:checked~label.sk-toggleable__label {background-color: #d4ebff;}#sk-container-id-1 input.sk-hidden--visually {border: 0;clip: rect(1px 1px 1px 1px);clip: rect(1px, 1px, 1px, 1px);height: 1px;margin: -1px;overflow: hidden;padding: 0;position: absolute;width: 1px;}#sk-container-id-1 div.sk-estimator {font-family: monospace;background-color: #f0f8ff;border: 1px dotted black;border-radius: 0.25em;box-sizing: border-box;margin-bottom: 0.5em;}#sk-container-id-1 div.sk-estimator:hover {background-color: #d4ebff;}#sk-container-id-1 div.sk-parallel-item::after {content: \"\";width: 100%;border-bottom: 1px solid gray;flex-grow: 1;}#sk-container-id-1 div.sk-label:hover label.sk-toggleable__label {background-color: #d4ebff;}#sk-container-id-1 div.sk-serial::before {content: \"\";position: absolute;border-left: 1px solid gray;box-sizing: border-box;top: 0;bottom: 0;left: 50%;z-index: 0;}#sk-container-id-1 div.sk-serial {display: flex;flex-direction: column;align-items: center;background-color: white;padding-right: 0.2em;padding-left: 0.2em;position: relative;}#sk-container-id-1 div.sk-item {position: relative;z-index: 1;}#sk-container-id-1 div.sk-parallel {display: flex;align-items: stretch;justify-content: center;background-color: white;position: relative;}#sk-container-id-1 div.sk-item::before, #sk-container-id-1 div.sk-parallel-item::before {content: \"\";position: absolute;border-left: 1px solid gray;box-sizing: border-box;top: 0;bottom: 0;left: 50%;z-index: -1;}#sk-container-id-1 div.sk-parallel-item {display: flex;flex-direction: column;z-index: 1;position: relative;background-color: white;}#sk-container-id-1 div.sk-parallel-item:first-child::after {align-self: flex-end;width: 50%;}#sk-container-id-1 div.sk-parallel-item:last-child::after {align-self: flex-start;width: 50%;}#sk-container-id-1 div.sk-parallel-item:only-child::after {width: 0;}#sk-container-id-1 div.sk-dashed-wrapped {border: 1px dashed gray;margin: 0 0.4em 0.5em 0.4em;box-sizing: border-box;padding-bottom: 0.4em;background-color: white;}#sk-container-id-1 div.sk-label label {font-family: monospace;font-weight: bold;display: inline-block;line-height: 1.2em;}#sk-container-id-1 div.sk-label-container {text-align: center;}#sk-container-id-1 div.sk-container {/* jupyter's `normalize.less` sets `[hidden] { display: none; }` but bootstrap.min.css set `[hidden] { display: none !important; }` so we also need the `!important` here to be able to override the default hidden behavior on the sphinx rendered scikit-learn.org. See: https://github.com/scikit-learn/scikit-learn/issues/21755 */display: inline-block !important;position: relative;}#sk-container-id-1 div.sk-text-repr-fallback {display: none;}</style><div id=\"sk-container-id-1\" class=\"sk-top-container\"><div class=\"sk-text-repr-fallback\"><pre>DecisionTreeClassifier()</pre><b>In a Jupyter environment, please rerun this cell to show the HTML representation or trust the notebook. <br />On GitHub, the HTML representation is unable to render, please try loading this page with nbviewer.org.</b></div><div class=\"sk-container\" hidden><div class=\"sk-item\"><div class=\"sk-estimator sk-toggleable\"><input class=\"sk-toggleable__control sk-hidden--visually\" id=\"sk-estimator-id-1\" type=\"checkbox\" checked><label for=\"sk-estimator-id-1\" class=\"sk-toggleable__label sk-toggleable__label-arrow\">DecisionTreeClassifier</label><div class=\"sk-toggleable__content\"><pre>DecisionTreeClassifier()</pre></div></div></div></div></div>"
      ],
      "text/plain": [
       "DecisionTreeClassifier()"
      ]
     },
     "execution_count": 17,
     "metadata": {
     },
     "output_type": "execute_result"
    }
   ],
   "source": [
    "tree_clf.fit(x_train, y_train)"
   ]
  },
  {
   "cell_type": "code",
   "execution_count": 44,
   "metadata": {
    "collapsed": false,
    "scrolled": true
   },
   "outputs": [
    {
     "data": {
      "text/html": [
       "<style>#sk-container-id-2 {color: black;background-color: white;}#sk-container-id-2 pre{padding: 0;}#sk-container-id-2 div.sk-toggleable {background-color: white;}#sk-container-id-2 label.sk-toggleable__label {cursor: pointer;display: block;width: 100%;margin-bottom: 0;padding: 0.3em;box-sizing: border-box;text-align: center;}#sk-container-id-2 label.sk-toggleable__label-arrow:before {content: \"▸\";float: left;margin-right: 0.25em;color: #696969;}#sk-container-id-2 label.sk-toggleable__label-arrow:hover:before {color: black;}#sk-container-id-2 div.sk-estimator:hover label.sk-toggleable__label-arrow:before {color: black;}#sk-container-id-2 div.sk-toggleable__content {max-height: 0;max-width: 0;overflow: hidden;text-align: left;background-color: #f0f8ff;}#sk-container-id-2 div.sk-toggleable__content pre {margin: 0.2em;color: black;border-radius: 0.25em;background-color: #f0f8ff;}#sk-container-id-2 input.sk-toggleable__control:checked~div.sk-toggleable__content {max-height: 200px;max-width: 100%;overflow: auto;}#sk-container-id-2 input.sk-toggleable__control:checked~label.sk-toggleable__label-arrow:before {content: \"▾\";}#sk-container-id-2 div.sk-estimator input.sk-toggleable__control:checked~label.sk-toggleable__label {background-color: #d4ebff;}#sk-container-id-2 div.sk-label input.sk-toggleable__control:checked~label.sk-toggleable__label {background-color: #d4ebff;}#sk-container-id-2 input.sk-hidden--visually {border: 0;clip: rect(1px 1px 1px 1px);clip: rect(1px, 1px, 1px, 1px);height: 1px;margin: -1px;overflow: hidden;padding: 0;position: absolute;width: 1px;}#sk-container-id-2 div.sk-estimator {font-family: monospace;background-color: #f0f8ff;border: 1px dotted black;border-radius: 0.25em;box-sizing: border-box;margin-bottom: 0.5em;}#sk-container-id-2 div.sk-estimator:hover {background-color: #d4ebff;}#sk-container-id-2 div.sk-parallel-item::after {content: \"\";width: 100%;border-bottom: 1px solid gray;flex-grow: 1;}#sk-container-id-2 div.sk-label:hover label.sk-toggleable__label {background-color: #d4ebff;}#sk-container-id-2 div.sk-serial::before {content: \"\";position: absolute;border-left: 1px solid gray;box-sizing: border-box;top: 0;bottom: 0;left: 50%;z-index: 0;}#sk-container-id-2 div.sk-serial {display: flex;flex-direction: column;align-items: center;background-color: white;padding-right: 0.2em;padding-left: 0.2em;position: relative;}#sk-container-id-2 div.sk-item {position: relative;z-index: 1;}#sk-container-id-2 div.sk-parallel {display: flex;align-items: stretch;justify-content: center;background-color: white;position: relative;}#sk-container-id-2 div.sk-item::before, #sk-container-id-2 div.sk-parallel-item::before {content: \"\";position: absolute;border-left: 1px solid gray;box-sizing: border-box;top: 0;bottom: 0;left: 50%;z-index: -1;}#sk-container-id-2 div.sk-parallel-item {display: flex;flex-direction: column;z-index: 1;position: relative;background-color: white;}#sk-container-id-2 div.sk-parallel-item:first-child::after {align-self: flex-end;width: 50%;}#sk-container-id-2 div.sk-parallel-item:last-child::after {align-self: flex-start;width: 50%;}#sk-container-id-2 div.sk-parallel-item:only-child::after {width: 0;}#sk-container-id-2 div.sk-dashed-wrapped {border: 1px dashed gray;margin: 0 0.4em 0.5em 0.4em;box-sizing: border-box;padding-bottom: 0.4em;background-color: white;}#sk-container-id-2 div.sk-label label {font-family: monospace;font-weight: bold;display: inline-block;line-height: 1.2em;}#sk-container-id-2 div.sk-label-container {text-align: center;}#sk-container-id-2 div.sk-container {/* jupyter's `normalize.less` sets `[hidden] { display: none; }` but bootstrap.min.css set `[hidden] { display: none !important; }` so we also need the `!important` here to be able to override the default hidden behavior on the sphinx rendered scikit-learn.org. See: https://github.com/scikit-learn/scikit-learn/issues/21755 */display: inline-block !important;position: relative;}#sk-container-id-2 div.sk-text-repr-fallback {display: none;}</style><div id=\"sk-container-id-2\" class=\"sk-top-container\"><div class=\"sk-text-repr-fallback\"><pre>AdaBoostClassifier()</pre><b>In a Jupyter environment, please rerun this cell to show the HTML representation or trust the notebook. <br />On GitHub, the HTML representation is unable to render, please try loading this page with nbviewer.org.</b></div><div class=\"sk-container\" hidden><div class=\"sk-item\"><div class=\"sk-estimator sk-toggleable\"><input class=\"sk-toggleable__control sk-hidden--visually\" id=\"sk-estimator-id-2\" type=\"checkbox\" checked><label for=\"sk-estimator-id-2\" class=\"sk-toggleable__label sk-toggleable__label-arrow\">AdaBoostClassifier</label><div class=\"sk-toggleable__content\"><pre>AdaBoostClassifier()</pre></div></div></div></div></div>"
      ],
      "text/plain": [
       "AdaBoostClassifier()"
      ]
     },
     "execution_count": 44,
     "metadata": {
     },
     "output_type": "execute_result"
    }
   ],
   "source": [
    "adc_clf.fit(x_train, y_train)"
   ]
  },
  {
   "cell_type": "markdown",
   "metadata": {
    "collapsed": false
   },
   "source": [
    "**Adaboost**\n",
    "\n",
    "Short for adaptive boosting, Adaboost takes combines models together to create the best model possible. It takes a bunch of weak learners and combines them into strong learners. It takes a number of desicion trees during the data training period. As the first model is made the incorrect values are the input for the next model to be made.\n"
   ]
  },
  {
   "cell_type": "code",
   "execution_count": 41,
   "metadata": {
    "collapsed": false
   },
   "outputs": [
   ],
   "source": [
    "adc_pred = adc_clf.predict(x_test)"
   ]
  },
  {
   "cell_type": "code",
   "execution_count": 45,
   "metadata": {
    "collapsed": false
   },
   "outputs": [
    {
     "name": "stdout",
     "output_type": "stream",
     "text": [
      "Accuracy: 0.9212355212355212\n",
      "Precision: 0.9078830823737821\n",
      "Recall: 0.9111111111111111\n",
      "F1 Score: 0.9094942324755989\n"
     ]
    },
    {
     "data": {
      "image/png": "[encoded data removed]",
      "text/plain": [
       "<Figure size 432x288 with 2 Axes>"
      ]
     },
     "execution_count": 45,
     "metadata": {
      "needs_background": "light"
     },
     "output_type": "execute_result"
    }
   ],
   "source": [
    "ax= plt.subplot()\n",
    "sns.heatmap(confusion_matrix(y_test, adc_pred), annot=True, fmt='g')\n",
    "ax.set_xlabel('Predicted labels')\n",
    "ax.set_ylabel('True labels')\n",
    "ax.set_title('Confusion Matrix');\n",
    "ax.xaxis.set_ticklabels(['0: Not Satisfied', '1: Satisfied',]); ax.yaxis.set_ticklabels(['0: Not Satisfied', '1: Satisfied'])\n",
    "\n",
    "print(\"Accuracy:\", accuracy_score(y_test, adc_pred))\n",
    "print(\"Precision:\", precision_score(y_test, adc_pred))\n",
    "print(\"Recall:\", recall_score(y_test, adc_pred))\n",
    "print(\"F1 Score:\", f1_score(y_test, adc_pred))\n",
    "\n",
    "# Sebastian "
   ]
  },
  {
   "cell_type": "code",
   "execution_count": 21,
   "metadata": {
    "collapsed": false
   },
   "outputs": [
    {
     "name": "stdout",
     "output_type": "stream",
     "text": [
      "0.07375086879295699\n"
     ]
    }
   ],
   "source": [
    "total_squared_error = (np.sum((y_test - adc_pred)**2))\n",
    "mean_squared_error = total_squared_error/len(y_test)\n",
    "print(mean_squared_error)"
   ]
  },
  {
   "cell_type": "code",
   "execution_count": 22,
   "metadata": {
    "collapsed": false
   },
   "outputs": [
   ],
   "source": [
    "lr_clf = LR()"
   ]
  },
  {
   "cell_type": "code",
   "execution_count": 23,
   "metadata": {
    "collapsed": false
   },
   "outputs": [
    {
     "name": "stderr",
     "output_type": "stream",
     "text": [
      "/projects/72aec78b-4035-4aa5-8faa-4d7af1533e7b/miniconda3/envs/ds_env/lib/python3.8/site-packages/sklearn/linear_model/_logistic.py:444: ConvergenceWarning: lbfgs failed to converge (status=1):\n",
      "STOP: TOTAL NO. of ITERATIONS REACHED LIMIT.\n",
      "\n",
      "Increase the number of iterations (max_iter) or scale the data as shown in:\n",
      "    https://scikit-learn.org/stable/modules/preprocessing.html\n",
      "Please also refer to the documentation for alternative solver options:\n",
      "    https://scikit-learn.org/stable/modules/linear_model.html#logistic-regression\n",
      "  n_iter_i = _check_optimize_result(\n"
     ]
    },
    {
     "data": {
      "text/html": [
       "<style>#sk-container-id-3 {color: black;background-color: white;}#sk-container-id-3 pre{padding: 0;}#sk-container-id-3 div.sk-toggleable {background-color: white;}#sk-container-id-3 label.sk-toggleable__label {cursor: pointer;display: block;width: 100%;margin-bottom: 0;padding: 0.3em;box-sizing: border-box;text-align: center;}#sk-container-id-3 label.sk-toggleable__label-arrow:before {content: \"▸\";float: left;margin-right: 0.25em;color: #696969;}#sk-container-id-3 label.sk-toggleable__label-arrow:hover:before {color: black;}#sk-container-id-3 div.sk-estimator:hover label.sk-toggleable__label-arrow:before {color: black;}#sk-container-id-3 div.sk-toggleable__content {max-height: 0;max-width: 0;overflow: hidden;text-align: left;background-color: #f0f8ff;}#sk-container-id-3 div.sk-toggleable__content pre {margin: 0.2em;color: black;border-radius: 0.25em;background-color: #f0f8ff;}#sk-container-id-3 input.sk-toggleable__control:checked~div.sk-toggleable__content {max-height: 200px;max-width: 100%;overflow: auto;}#sk-container-id-3 input.sk-toggleable__control:checked~label.sk-toggleable__label-arrow:before {content: \"▾\";}#sk-container-id-3 div.sk-estimator input.sk-toggleable__control:checked~label.sk-toggleable__label {background-color: #d4ebff;}#sk-container-id-3 div.sk-label input.sk-toggleable__control:checked~label.sk-toggleable__label {background-color: #d4ebff;}#sk-container-id-3 input.sk-hidden--visually {border: 0;clip: rect(1px 1px 1px 1px);clip: rect(1px, 1px, 1px, 1px);height: 1px;margin: -1px;overflow: hidden;padding: 0;position: absolute;width: 1px;}#sk-container-id-3 div.sk-estimator {font-family: monospace;background-color: #f0f8ff;border: 1px dotted black;border-radius: 0.25em;box-sizing: border-box;margin-bottom: 0.5em;}#sk-container-id-3 div.sk-estimator:hover {background-color: #d4ebff;}#sk-container-id-3 div.sk-parallel-item::after {content: \"\";width: 100%;border-bottom: 1px solid gray;flex-grow: 1;}#sk-container-id-3 div.sk-label:hover label.sk-toggleable__label {background-color: #d4ebff;}#sk-container-id-3 div.sk-serial::before {content: \"\";position: absolute;border-left: 1px solid gray;box-sizing: border-box;top: 0;bottom: 0;left: 50%;z-index: 0;}#sk-container-id-3 div.sk-serial {display: flex;flex-direction: column;align-items: center;background-color: white;padding-right: 0.2em;padding-left: 0.2em;position: relative;}#sk-container-id-3 div.sk-item {position: relative;z-index: 1;}#sk-container-id-3 div.sk-parallel {display: flex;align-items: stretch;justify-content: center;background-color: white;position: relative;}#sk-container-id-3 div.sk-item::before, #sk-container-id-3 div.sk-parallel-item::before {content: \"\";position: absolute;border-left: 1px solid gray;box-sizing: border-box;top: 0;bottom: 0;left: 50%;z-index: -1;}#sk-container-id-3 div.sk-parallel-item {display: flex;flex-direction: column;z-index: 1;position: relative;background-color: white;}#sk-container-id-3 div.sk-parallel-item:first-child::after {align-self: flex-end;width: 50%;}#sk-container-id-3 div.sk-parallel-item:last-child::after {align-self: flex-start;width: 50%;}#sk-container-id-3 div.sk-parallel-item:only-child::after {width: 0;}#sk-container-id-3 div.sk-dashed-wrapped {border: 1px dashed gray;margin: 0 0.4em 0.5em 0.4em;box-sizing: border-box;padding-bottom: 0.4em;background-color: white;}#sk-container-id-3 div.sk-label label {font-family: monospace;font-weight: bold;display: inline-block;line-height: 1.2em;}#sk-container-id-3 div.sk-label-container {text-align: center;}#sk-container-id-3 div.sk-container {/* jupyter's `normalize.less` sets `[hidden] { display: none; }` but bootstrap.min.css set `[hidden] { display: none !important; }` so we also need the `!important` here to be able to override the default hidden behavior on the sphinx rendered scikit-learn.org. See: https://github.com/scikit-learn/scikit-learn/issues/21755 */display: inline-block !important;position: relative;}#sk-container-id-3 div.sk-text-repr-fallback {display: none;}</style><div id=\"sk-container-id-3\" class=\"sk-top-container\"><div class=\"sk-text-repr-fallback\"><pre>LogisticRegression()</pre><b>In a Jupyter environment, please rerun this cell to show the HTML representation or trust the notebook. <br />On GitHub, the HTML representation is unable to render, please try loading this page with nbviewer.org.</b></div><div class=\"sk-container\" hidden><div class=\"sk-item\"><div class=\"sk-estimator sk-toggleable\"><input class=\"sk-toggleable__control sk-hidden--visually\" id=\"sk-estimator-id-3\" type=\"checkbox\" checked><label for=\"sk-estimator-id-3\" class=\"sk-toggleable__label sk-toggleable__label-arrow\">LogisticRegression</label><div class=\"sk-toggleable__content\"><pre>LogisticRegression()</pre></div></div></div></div></div>"
      ],
      "text/plain": [
       "LogisticRegression()"
      ]
     },
     "execution_count": 23,
     "metadata": {
     },
     "output_type": "execute_result"
    }
   ],
   "source": [
    "lr_clf.fit(x_train, y_train)"
   ]
  },
  {
   "cell_type": "code",
   "execution_count": 24,
   "metadata": {
    "collapsed": false
   },
   "outputs": [
   ],
   "source": [
    "lr_pred=lr_clf.predict(x_test)"
   ]
  },
  {
   "cell_type": "code",
   "execution_count": 25,
   "metadata": {
    "collapsed": false
   },
   "outputs": [
    {
     "name": "stdout",
     "output_type": "stream",
     "text": [
      "R:  0.7779849090102086\n",
      "P:  0.7825\n",
      "A:  0.8093675187273148\n",
      "F:  0.7802359225461828\n"
     ]
    },
    {
     "data": {
      "image/png": "[encoded data removed]",
      "text/plain": [
       "<Figure size 432x288 with 2 Axes>"
      ]
     },
     "execution_count": 25,
     "metadata": {
      "needs_background": "light"
     },
     "output_type": "execute_result"
    }
   ],
   "source": [
    "ax= plt.subplot()\n",
    "sns.heatmap(confusion_matrix(y_test, lr_pred), annot=True, fmt='g')\n",
    "ax.set_xlabel('Predicted labels')\n",
    "ax.set_ylabel('True labels')\n",
    "ax.set_title('Confusion Matrix');\n",
    "ax.xaxis.set_ticklabels(['0: Not Satisfied', '1: Satisfied',]); ax.yaxis.set_ticklabels(['0: Not Satisfied', '1: Satisfied'])\n",
    "\n",
    "recall = sklearn.metrics.recall_score(y_test, lr_pred)\n",
    "precision = sklearn.metrics.precision_score(y_test, lr_pred)\n",
    "accuracy = sklearn.metrics.accuracy_score(y_test, lr_pred)\n",
    "f_measure = sklearn.metrics.f1_score(y_test, lr_pred)\n",
    "print(\"R: \", recall)\n",
    "print(\"P: \", precision)\n",
    "print(\"A: \", accuracy)\n",
    "print(\"F: \", f_measure)\n",
    "\n",
    "# Sebastian "
   ]
  },
  {
   "cell_type": "markdown",
   "metadata": {
    "collapsed": false
   },
   "source": [
    "<u>What is a KNN:</u>\n",
    "\n",
    "A KNN is a classification model and can be used for both supervised and unsupervised machine learning. KNN works by finding the distance between a query and all the examples in the data. K is then used to select the number of examples closest to the query. the KNN then votes for the most frequent label. \n",
    "\n",
    "- - [https://towardsdatascience.com/machine\\-learning\\-basics\\-with\\-the\\-k\\-nearest\\-neighbors\\-algorithm\\-6a6e71d01761](https://towardsdatascience.com/machine-learning-basics-with-the-k-nearest-neighbors-algorithm-6a6e71d01761)\n",
    "- What does the K mean?\n",
    "  - [https://towardsdatascience.com/a\\-simple\\-introduction\\-to\\-k\\-nearest\\-neighbors\\-algorithm\\-b3519ed98e](https://towardsdatascience.com/a-simple-introduction-to-k-nearest-neighbors-algorithm-b3519ed98e)\n",
    "  - K means a parameter that shows the number of nearest neighbors. This is necessary for the voting process.\n",
    "\n",
    "Grid search:\n",
    "\n",
    "[https://scikit\\-learn.org/stable/modules/generated/sklearn.neighbors.KNeighborsClassifier.html](https://scikit-learn.org/stable/modules/generated/sklearn.neighbors.KNeighborsClassifier.html)\n",
    "\n",
    "[https://medium.com/@erikgreenj/k\\-neighbors\\-classifier\\-with\\-gridsearchcv\\-basics\\-3c445ddeb657](https://medium.com/@erikgreenj/k-neighbors-classifier-with-gridsearchcv-basics-3c445ddeb657)\n",
    "\n"
   ]
  },
  {
   "cell_type": "code",
   "execution_count": 36,
   "metadata": {
    "collapsed": false
   },
   "outputs": [
   ],
   "source": [
    "knn_clf = KNN(n_neighbors=3, weights=\"distance\")\n",
    "knn_clf.fit(x_train, y_train)\n",
    "knn_pred = knn_clf.predict(x_test)"
   ]
  },
  {
   "cell_type": "code",
   "execution_count": 37,
   "metadata": {
    "collapsed": false
   },
   "outputs": [
    {
     "name": "stdout",
     "output_type": "stream",
     "text": [
      "R:  0.6293333333333333\n",
      "P:  0.6355475763016158\n",
      "A:  0.6822393822393822\n",
      "F:  0.6324251898168826\n"
     ]
    },
    {
     "data": {
      "image/png": "[encoded data removed]",
      "text/plain": [
       "<Figure size 432x288 with 2 Axes>"
      ]
     },
     "execution_count": 37,
     "metadata": {
      "needs_background": "light"
     },
     "output_type": "execute_result"
    }
   ],
   "source": [
    "ax= plt.subplot()\n",
    "sns.heatmap(confusion_matrix(y_test, knn_pred), annot=True, fmt='g')\n",
    "ax.set_xlabel('Predicted labels')\n",
    "ax.set_ylabel('True labels')\n",
    "ax.set_title('Confusion Matrix');\n",
    "ax.xaxis.set_ticklabels(['0: Not Satisfied', '1: Satisfied',]); ax.yaxis.set_ticklabels(['0: Not Satisfied', '1: Satisfied'])\n",
    "\n",
    "recall = sklearn.metrics.recall_score(y_test, knn_pred)\n",
    "precision = sklearn.metrics.precision_score(y_test, knn_pred)\n",
    "accuracy = sklearn.metrics.accuracy_score(y_test, knn_pred)\n",
    "f_measure = sklearn.metrics.f1_score(y_test, knn_pred)\n",
    "print(\"R: \", recall)\n",
    "print(\"P: \", precision)\n",
    "print(\"A: \", accuracy)\n",
    "print(\"F: \", f_measure)\n",
    "\n",
    "# Sebastian "
   ]
  },
  {
   "cell_type": "code",
   "execution_count": 24,
   "metadata": {
    "collapsed": false
   },
   "outputs": [
    {
     "ename": "ValueError",
     "evalue": "Parameter grid for parameter 'weights' need to be a non-empty sequence, got: []",
     "output_type": "error",
     "traceback": [
      "\u001b[0;31m---------------------------------------------------------------------------\u001b[0m",
      "\u001b[0;31mValueError\u001b[0m                                Traceback (most recent call last)",
      "Input \u001b[0;32mIn [24]\u001b[0m, in \u001b[0;36m<cell line: 4>\u001b[0;34m()\u001b[0m\n\u001b[1;32m      1\u001b[0m grid_params \u001b[38;5;241m=\u001b[39m {\u001b[38;5;124m'\u001b[39m\u001b[38;5;124mn_neighbors\u001b[39m\u001b[38;5;124m'\u001b[39m:[\u001b[38;5;241m1\u001b[39m,\u001b[38;5;241m2\u001b[39m,\u001b[38;5;241m3\u001b[39m], \u001b[38;5;124m'\u001b[39m\u001b[38;5;124mweights\u001b[39m\u001b[38;5;124m'\u001b[39m:[]}\n\u001b[1;32m      3\u001b[0m gs \u001b[38;5;241m=\u001b[39m GSearch(KNN(), grid_params)\n\u001b[0;32m----> 4\u001b[0m \u001b[43mgs\u001b[49m\u001b[38;5;241;43m.\u001b[39;49m\u001b[43mfit\u001b[49m\u001b[43m(\u001b[49m\u001b[43mx_train\u001b[49m\u001b[43m,\u001b[49m\u001b[43m \u001b[49m\u001b[43my_train\u001b[49m\u001b[43m)\u001b[49m\n",
      "File \u001b[0;32m~/.local/lib/python3.8/site-packages/sklearn/model_selection/_search.py:875\u001b[0m, in \u001b[0;36mBaseSearchCV.fit\u001b[0;34m(self, X, y, groups, **fit_params)\u001b[0m\n\u001b[1;32m    869\u001b[0m     results \u001b[38;5;241m=\u001b[39m \u001b[38;5;28mself\u001b[39m\u001b[38;5;241m.\u001b[39m_format_results(\n\u001b[1;32m    870\u001b[0m         all_candidate_params, n_splits, all_out, all_more_results\n\u001b[1;32m    871\u001b[0m     )\n\u001b[1;32m    873\u001b[0m     \u001b[38;5;28;01mreturn\u001b[39;00m results\n\u001b[0;32m--> 875\u001b[0m \u001b[38;5;28;43mself\u001b[39;49m\u001b[38;5;241;43m.\u001b[39;49m\u001b[43m_run_search\u001b[49m\u001b[43m(\u001b[49m\u001b[43mevaluate_candidates\u001b[49m\u001b[43m)\u001b[49m\n\u001b[1;32m    877\u001b[0m \u001b[38;5;66;03m# multimetric is determined here because in the case of a callable\u001b[39;00m\n\u001b[1;32m    878\u001b[0m \u001b[38;5;66;03m# self.scoring the return type is only known after calling\u001b[39;00m\n\u001b[1;32m    879\u001b[0m first_test_score \u001b[38;5;241m=\u001b[39m all_out[\u001b[38;5;241m0\u001b[39m][\u001b[38;5;124m\"\u001b[39m\u001b[38;5;124mtest_scores\u001b[39m\u001b[38;5;124m\"\u001b[39m]\n",
      "File \u001b[0;32m~/.local/lib/python3.8/site-packages/sklearn/model_selection/_search.py:1375\u001b[0m, in \u001b[0;36mGridSearchCV._run_search\u001b[0;34m(self, evaluate_candidates)\u001b[0m\n\u001b[1;32m   1373\u001b[0m \u001b[38;5;28;01mdef\u001b[39;00m \u001b[38;5;21m_run_search\u001b[39m(\u001b[38;5;28mself\u001b[39m, evaluate_candidates):\n\u001b[1;32m   1374\u001b[0m     \u001b[38;5;124;03m\"\"\"Search all candidates in param_grid\"\"\"\u001b[39;00m\n\u001b[0;32m-> 1375\u001b[0m     evaluate_candidates(\u001b[43mParameterGrid\u001b[49m\u001b[43m(\u001b[49m\u001b[38;5;28;43mself\u001b[39;49m\u001b[38;5;241;43m.\u001b[39;49m\u001b[43mparam_grid\u001b[49m\u001b[43m)\u001b[49m)\n",
      "File \u001b[0;32m~/.local/lib/python3.8/site-packages/sklearn/model_selection/_search.py:125\u001b[0m, in \u001b[0;36mParameterGrid.__init__\u001b[0;34m(self, param_grid)\u001b[0m\n\u001b[1;32m    118\u001b[0m             \u001b[38;5;28;01mraise\u001b[39;00m \u001b[38;5;167;01mTypeError\u001b[39;00m(\n\u001b[1;32m    119\u001b[0m                 \u001b[38;5;124mf\u001b[39m\u001b[38;5;124m\"\u001b[39m\u001b[38;5;124mParameter grid for parameter \u001b[39m\u001b[38;5;132;01m{\u001b[39;00mkey\u001b[38;5;132;01m!r}\u001b[39;00m\u001b[38;5;124m needs to be a list or a\u001b[39m\u001b[38;5;124m\"\u001b[39m\n\u001b[1;32m    120\u001b[0m                 \u001b[38;5;124mf\u001b[39m\u001b[38;5;124m\"\u001b[39m\u001b[38;5;124m numpy array, but got \u001b[39m\u001b[38;5;132;01m{\u001b[39;00mvalue\u001b[38;5;132;01m!r}\u001b[39;00m\u001b[38;5;124m (of type \u001b[39m\u001b[38;5;124m\"\u001b[39m\n\u001b[1;32m    121\u001b[0m                 \u001b[38;5;124mf\u001b[39m\u001b[38;5;124m\"\u001b[39m\u001b[38;5;132;01m{\u001b[39;00m\u001b[38;5;28mtype\u001b[39m(value)\u001b[38;5;241m.\u001b[39m\u001b[38;5;18m__name__\u001b[39m\u001b[38;5;132;01m}\u001b[39;00m\u001b[38;5;124m) instead. Single values \u001b[39m\u001b[38;5;124m\"\u001b[39m\n\u001b[1;32m    122\u001b[0m                 \u001b[38;5;124m\"\u001b[39m\u001b[38;5;124mneed to be wrapped in a list with one element.\u001b[39m\u001b[38;5;124m\"\u001b[39m\n\u001b[1;32m    123\u001b[0m             )\n\u001b[1;32m    124\u001b[0m         \u001b[38;5;28;01mif\u001b[39;00m \u001b[38;5;28mlen\u001b[39m(value) \u001b[38;5;241m==\u001b[39m \u001b[38;5;241m0\u001b[39m:\n\u001b[0;32m--> 125\u001b[0m             \u001b[38;5;28;01mraise\u001b[39;00m \u001b[38;5;167;01mValueError\u001b[39;00m(\n\u001b[1;32m    126\u001b[0m                 \u001b[38;5;124mf\u001b[39m\u001b[38;5;124m\"\u001b[39m\u001b[38;5;124mParameter grid for parameter \u001b[39m\u001b[38;5;132;01m{\u001b[39;00mkey\u001b[38;5;132;01m!r}\u001b[39;00m\u001b[38;5;124m need \u001b[39m\u001b[38;5;124m\"\u001b[39m\n\u001b[1;32m    127\u001b[0m                 \u001b[38;5;124mf\u001b[39m\u001b[38;5;124m\"\u001b[39m\u001b[38;5;124mto be a non-empty sequence, got: \u001b[39m\u001b[38;5;132;01m{\u001b[39;00mvalue\u001b[38;5;132;01m!r}\u001b[39;00m\u001b[38;5;124m\"\u001b[39m\n\u001b[1;32m    128\u001b[0m             )\n\u001b[1;32m    130\u001b[0m \u001b[38;5;28mself\u001b[39m\u001b[38;5;241m.\u001b[39mparam_grid \u001b[38;5;241m=\u001b[39m param_grid\n",
      "\u001b[0;31mValueError\u001b[0m: Parameter grid for parameter 'weights' need to be a non-empty sequence, got: []"
     ]
    }
   ],
   "source": [
    "grid_params = {'n_neighbors':[1,2,3], 'weights':[]}\n",
    "\n",
    "gs = GSearch(KNN(), grid_params)\n",
    "gs.fit(x_train, y_train)"
   ]
  },
  {
   "cell_type": "code",
   "execution_count": 0,
   "metadata": {
    "collapsed": false
   },
   "outputs": [
   ],
   "source": [
   ]
  },
  {
   "cell_type": "code",
   "execution_count": 30,
   "metadata": {
    "collapsed": false
   },
   "outputs": [
   ],
   "source": [
    "#svc = SVC(probability=False)"
   ]
  },
  {
   "cell_type": "code",
   "execution_count": 31,
   "metadata": {
    "collapsed": false
   },
   "outputs": [
   ],
   "source": [
    "#svc.fit(x_train, y_train)\n",
    "#svc_pred = svc.pred(x_test, y_test)"
   ]
  },
  {
   "cell_type": "code",
   "execution_count": 0,
   "metadata": {
    "collapsed": false
   },
   "outputs": [
   ],
   "source": [
   ]
  },
  {
   "cell_type": "markdown",
   "metadata": {
    "collapsed": false
   },
   "source": [
    "<u>Models to make:</u>\n",
    "\n",
    "- knn\n",
    "- decision tree\n",
    "- Random forest\n",
    "- SVC \\(DON'T DO THIS ONE YET\\)\n",
    "- Logistic regression \n",
    "- Adaboost \n",
    "- \n",
    "\n",
    "Scoring me\n",
    "trics:\n",
    "\n",
    "- f1 score\n",
    "- Recall\n",
    "- Precision \n",
    "- Accuracy\n",
    "\n"
   ]
  }
 ],
 "metadata": {
  "kernelspec": {
   "display_name": "Python (ds_env)",
   "language": "python",
   "metadata": {
    "debugger": true
   },
   "name": "ds_env",
   "resource_dir": "/projects/72aec78b-4035-4aa5-8faa-4d7af1533e7b/.local/share/jupyter/kernels/ds_env"
  },
  "language_info": {
   "codemirror_mode": {
    "name": "ipython",
    "version": 3
   },
   "file_extension": ".py",
   "mimetype": "text/x-python",
   "name": "python",
   "nbconvert_exporter": "python",
   "pygments_lexer": "ipython3",
   "version": "3.8.13"
  }
 },
 "nbformat": 4,
 "nbformat_minor": 4
}